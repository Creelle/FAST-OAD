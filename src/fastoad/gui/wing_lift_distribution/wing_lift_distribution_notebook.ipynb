{
 "cells": [
  {
   "cell_type": "markdown",
   "id": "5023a993",
   "metadata": {},
   "source": [
    "# FAST-OAD: Wing lift distribution tutorial\n",
    "## plot of the lift distribution (2D lift coefficient) along the span of the wing"
   ]
  },
  {
   "cell_type": "code",
   "execution_count": null,
   "id": "0a0883bc",
   "metadata": {},
   "outputs": [],
   "source": [
    "import os.path as pth\n",
    "import fastoad.api as oad"
   ]
  },
  {
   "cell_type": "code",
   "execution_count": null,
   "id": "e4121d51",
   "metadata": {},
   "outputs": [],
   "source": [
    "# OUTPUT file (and no configuration file , no source file)\n",
    "# Those lines are used for accessing the results file\n",
    "\n",
    "SOURCE_FILE = pth.join(\"data\", \"data_source.xml\")\n",
    "CONFIGURATION_FILE = pth.join(\"data\", \"oad_process.yml\")\n",
    "OUTPUT_FILE = pth.join(\"data\", \"problem_outputs.xml\")"
   ]
  },
  {
   "cell_type": "code",
   "execution_count": null,
   "id": "1b47053a-1991-4eba-88a0-68333fec132f",
   "metadata": {},
   "outputs": [],
   "source": [
    "oad.generate_inputs(CONFIGURATION_FILE, SOURCE_FILE, overwrite=True)"
   ]
  },
  {
   "cell_type": "code",
   "execution_count": null,
   "id": "e57956ab-01b1-49be-aa7a-2e393bbc0edc",
   "metadata": {},
   "outputs": [],
   "source": [
    "eval_problem = oad.evaluate_problem(CONFIGURATION_FILE, overwrite=True)"
   ]
  },
  {
   "cell_type": "code",
   "execution_count": null,
   "id": "b1e9c6a6-0317-42d2-a05a-b044772233ba",
   "metadata": {},
   "outputs": [],
   "source": [
    "fig = oad.wing_lift_distribution_plot(\n",
    "    OUTPUT_FILE,\n",
    "    name=\"wing\",\n",
    "    file_formatter=None,\n",
    "    fig=None,\n",
    "    alpha=5.0,\n",
    "    x_axis=None,\n",
    "    y_axis=None,\n",
    "    color=\"black\",\n",
    ")\n",
    "\n",
    "fig.show()"
   ]
  }
 ],
 "metadata": {
  "kernelspec": {
   "display_name": "Python 3 (ipykernel)",
   "language": "python",
   "name": "python3"
  },
  "language_info": {
   "codemirror_mode": {
    "name": "ipython",
    "version": 3
   },
   "file_extension": ".py",
   "mimetype": "text/x-python",
   "name": "python",
   "nbconvert_exporter": "python",
   "pygments_lexer": "ipython3",
   "version": "3.8.13"
  }
 },
 "nbformat": 4,
 "nbformat_minor": 5
}
