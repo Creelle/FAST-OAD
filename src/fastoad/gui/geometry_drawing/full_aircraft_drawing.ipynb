{
 "cells": [
  {
   "cell_type": "markdown",
   "id": "5023a993",
   "metadata": {},
   "source": [
    "# Full aircraft drawing\n",
    "## Top view of the aircraft, wing and detailed view of the wing"
   ]
  },
  {
   "cell_type": "code",
   "execution_count": null,
   "id": "0a0883bc",
   "metadata": {},
   "outputs": [],
   "source": [
    "import os.path as pth\n",
    "import fastoad.api as oad\n",
    "\n",
    "import os\n",
    "\n",
    "if not pth.exists(\"images\"):\n",
    "    os.mkdir(\"images\")"
   ]
  },
  {
   "cell_type": "code",
   "execution_count": null,
   "id": "e4121d51",
   "metadata": {},
   "outputs": [],
   "source": [
    "# OUTPUT file (and no configuration)\n",
    "# Those lines are used for accessing the results file\n",
    "DATA_FOLDER_PATH = \"data\"\n",
    "OUTPUT_FILE = pth.join(DATA_FOLDER_PATH, \"problem_outputs.xml\")"
   ]
  },
  {
   "cell_type": "code",
   "execution_count": null,
   "id": "b5e564ea-69b4-4738-96fd-0ab031652627",
   "metadata": {},
   "outputs": [],
   "source": [
    "oad.variable_viewer(OUTPUT_FILE)"
   ]
  },
  {
   "cell_type": "markdown",
   "id": "d6a19158",
   "metadata": {},
   "source": [
    "# Drawing of the top view of the aircraft\n",
    "The following lines are use to show a drawing of the top view of the aircraft with the reactor pod, the flaps, the slats and the elevator on the horizontal tail.\n",
    "In this function, the width of the flaps and the slats is fixed with the ratio given in the outputs while the width of the elevator is arbitrary set to 90 percent of the horizontal tl width. \n",
    "\n",
    "For this function, there are 3 parameters than can be modified at the beginning of the code : \n",
    "\n",
    "- NACELLE_POSITION : Permit the modification of the position of the nacelle compared to the wing. If this parameter is set to 0.0, the back of the nacelle will be on the same \"x-line\" as the beginning of the root. If the parameter is set to 1.0, the beginning of the nacelle will be on the kink of the wing, at the leading edge. Any values between 0.0 and 1.0 give intermediate positions.\n",
    "\n",
    "- HORIZONTAL_TAIL_ROOT : This parameter (between 0.0 and 1.0) fixes the percentage of the tail root concerned by the elevator, starting from the trailing edge of the tail, along the fuselage. A value of 1.0 means that 100% of the tail root along the fuselage is concerned by the root of the elevator. \n",
    "\n",
    "- HORIZONTAL_TAIL_TIP : This parameter (between 0.0 and 1.0) fixes the percentage of the tail tip concerned by the elevator, at 90 percent of the tail width, starting from the trailing edge of the tail. A value of 1.0 means that 100% of the tail tip, at 90 percent of the tail with, is concerned by the tip of the elevator. \n",
    "\n",
    "- HORIZONTAL_WIDTH_ELEVATOR : This parameter (between 0.0 and 1.0) fixes the percentage of the horizontal tail concerned by the elevator, starting from the fuselage. A value of 1.0 means that 100% of the horizontal tail width is concerned by the elevator."
   ]
  },
  {
   "cell_type": "code",
   "execution_count": null,
   "id": "bc955bce",
   "metadata": {},
   "outputs": [],
   "source": [
    "fig_aircraft = oad.full_aircraft_drawing_plot(OUTPUT_FILE, name=\"Aircraft\")\n",
    "fig_aircraft.show()"
   ]
  },
  {
   "cell_type": "markdown",
   "id": "c52426ce",
   "metadata": {},
   "source": [
    "# Drawing of the wing\n",
    "The following lines are used to show the drawing of the wing with the flaps and the slats."
   ]
  },
  {
   "cell_type": "code",
   "execution_count": null,
   "id": "bbde8ecf",
   "metadata": {},
   "outputs": [],
   "source": [
    "fig_wing = oad.flaps_and_slats_plot(OUTPUT_FILE, name=\"Wing\")\n",
    "fig_wing.show()\n",
    "fig_wing.write_image(\"images/wing_figure.pdf\")"
   ]
  },
  {
   "cell_type": "markdown",
   "id": "7fd741b2",
   "metadata": {},
   "source": [
    "# Drawing of the detailed wing\n",
    "The following line is used to show the detailed view of the wing"
   ]
  },
  {
   "cell_type": "code",
   "execution_count": null,
   "id": "ae969432",
   "metadata": {},
   "outputs": [],
   "source": [
    "oad.wing_drawing_plot(OUTPUT_FILE, name=\"Detailed wing\")"
   ]
  }
 ],
 "metadata": {
  "kernelspec": {
   "display_name": "Python 3 (ipykernel)",
   "language": "python",
   "name": "python3"
  },
  "language_info": {
   "codemirror_mode": {
    "name": "ipython",
    "version": 3
   },
   "file_extension": ".py",
   "mimetype": "text/x-python",
   "name": "python",
   "nbconvert_exporter": "python",
   "pygments_lexer": "ipython3",
   "version": "3.8.13"
  }
 },
 "nbformat": 4,
 "nbformat_minor": 5
}
