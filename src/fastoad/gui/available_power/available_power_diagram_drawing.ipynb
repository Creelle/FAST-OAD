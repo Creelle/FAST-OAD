{
 "cells": [
  {
   "cell_type": "markdown",
   "id": "3f13d3ce-70fb-460d-a845-0ca1a4650697",
   "metadata": {},
   "source": [
    "# Available-power diagram drawing \n",
    "## Drawing of the available-power diagram\n"
   ]
  },
  {
   "cell_type": "code",
   "execution_count": 1,
   "id": "b3fe2c52-6581-46b5-97b2-c8373a3fd0e7",
   "metadata": {},
   "outputs": [],
   "source": [
    "import os.path as pth\n",
    "import fastoad.api as oad\n",
    "\n",
    "# OUTPUT file (and no configuration)\n",
    "# Those lines are used for accessing the results file\n",
    "DATA_FOLDER_PATH = \"./../speed_altitude/data\"\n",
    "SOURCE_FILE = pth.join(DATA_FOLDER_PATH, \"data_post_processing.xml\")\n",
    "CONFIGURATION_FILE = pth.join(DATA_FOLDER_PATH, \"oad_process.yml\")\n",
    "OUTPUT_FILE = pth.join(DATA_FOLDER_PATH, \"oad_process_outputs.xml\")"
   ]
  },
  {
   "cell_type": "markdown",
   "id": "c4ff5a2f-4119-4e2a-b7ef-a714690d155a",
   "metadata": {},
   "source": [
    "The main goal of this model is to compute and draw the Available-power diagram."
   ]
  },
  {
   "cell_type": "code",
   "execution_count": 2,
   "id": "05f78653-69c8-4c88-9a17-47d16acfea55",
   "metadata": {},
   "outputs": [
    {
     "name": "stderr",
     "output_type": "stream",
     "text": [
      "C:\\Users\\marti\\anaconda3\\envs\\FAST-OAD\\lib\\site-packages\\openmdao\\core\\group.py:1919: UnitsWarning:<model> <class FASTOADModel>: Output 'fastoad_inputs.data:TLAR:range' with units of 'nmi' is connected to input 'post_processing.ceiling_mass.data:TLAR:range' which has no units.\n",
      "C:\\Users\\marti\\anaconda3\\envs\\FAST-OAD\\lib\\site-packages\\openmdao\\core\\group.py:1919: UnitsWarning:<model> <class FASTOADModel>: Output 'fastoad_inputs.data:TLAR:range' with units of 'nmi' is connected to input 'post_processing.available_power.data:TLAR:range' which has no units.\n",
      "C:\\Users\\marti\\anaconda3\\envs\\FAST-OAD\\lib\\site-packages\\openmdao\\core\\group.py:1919: UnitsWarning:<model> <class FASTOADModel>: Output 'fastoad_inputs.data:performance:ceiling:MTOW' with units of 'ft' is connected to input 'post_processing.speed_altitude.data:performance:ceiling:MTOW' which has no units.\n",
      "C:\\Users\\marti\\anaconda3\\envs\\FAST-OAD\\lib\\site-packages\\openmdao\\core\\group.py:1919: UnitsWarning:<model> <class FASTOADModel>: Output 'fastoad_inputs.data:performance:ceiling:MTOW' with units of 'ft' is connected to input 'post_processing.ceiling_mass.data:performance:ceiling:MTOW' which has no units.\n",
      "C:\\Users\\marti\\anaconda3\\envs\\FAST-OAD\\lib\\site-packages\\openmdao\\core\\group.py:1919: UnitsWarning:<model> <class FASTOADModel>: Output 'fastoad_inputs.data:performance:ceiling:MTOW' with units of 'ft' is connected to input 'post_processing.available_power.data:performance:ceiling:MTOW' which has no units.\n",
      "C:\\Users\\marti\\anaconda3\\envs\\FAST-OAD\\lib\\site-packages\\openmdao\\core\\group.py:1919: UnitsWarning:<model> <class FASTOADModel>: Output 'fastoad_inputs.data:performance:ceiling:MZFW' with units of 'ft' is connected to input 'post_processing.speed_altitude.data:performance:ceiling:MZFW' which has no units.\n",
      "C:\\Users\\marti\\anaconda3\\envs\\FAST-OAD\\lib\\site-packages\\openmdao\\core\\group.py:1919: UnitsWarning:<model> <class FASTOADModel>: Output 'fastoad_inputs.data:performance:ceiling:MZFW' with units of 'ft' is connected to input 'post_processing.ceiling_mass.data:performance:ceiling:MZFW' which has no units.\n",
      "C:\\Users\\marti\\anaconda3\\envs\\FAST-OAD\\lib\\site-packages\\openmdao\\core\\group.py:1919: UnitsWarning:<model> <class FASTOADModel>: Output 'fastoad_inputs.data:performance:ceiling:MZFW' with units of 'ft' is connected to input 'post_processing.available_power.data:performance:ceiling:MZFW' which has no units.\n",
      "C:\\Users\\marti\\anaconda3\\envs\\FAST-OAD\\lib\\site-packages\\openmdao\\core\\group.py:1919: UnitsWarning:<model> <class FASTOADModel>: Output 'fastoad_inputs.data:mission:sizing:main_route:cruise:altitude' with units of 'm' is connected to input 'post_processing.available_power.data:mission:sizing:main_route:cruise:altitude' which has no units.\n",
      "C:\\Users\\marti\\anaconda3\\envs\\FAST-OAD\\lib\\site-packages\\openmdao\\core\\group.py:1919: UnitsWarning:<model> <class FASTOADModel>: Output 'fastoad_inputs.data:TLAR:range' with units of 'nmi' is connected to input 'post_processing.ceiling_mass.data:TLAR:range' which has no units.\n",
      "C:\\Users\\marti\\anaconda3\\envs\\FAST-OAD\\lib\\site-packages\\openmdao\\core\\group.py:1919: UnitsWarning:<model> <class FASTOADModel>: Output 'fastoad_inputs.data:TLAR:range' with units of 'nmi' is connected to input 'post_processing.available_power.data:TLAR:range' which has no units.\n",
      "C:\\Users\\marti\\anaconda3\\envs\\FAST-OAD\\lib\\site-packages\\openmdao\\core\\group.py:1919: UnitsWarning:<model> <class FASTOADModel>: Output 'fastoad_inputs.data:performance:ceiling:MTOW' with units of 'ft' is connected to input 'post_processing.speed_altitude.data:performance:ceiling:MTOW' which has no units.\n",
      "C:\\Users\\marti\\anaconda3\\envs\\FAST-OAD\\lib\\site-packages\\openmdao\\core\\group.py:1919: UnitsWarning:<model> <class FASTOADModel>: Output 'fastoad_inputs.data:performance:ceiling:MTOW' with units of 'ft' is connected to input 'post_processing.ceiling_mass.data:performance:ceiling:MTOW' which has no units.\n",
      "C:\\Users\\marti\\anaconda3\\envs\\FAST-OAD\\lib\\site-packages\\openmdao\\core\\group.py:1919: UnitsWarning:<model> <class FASTOADModel>: Output 'fastoad_inputs.data:performance:ceiling:MTOW' with units of 'ft' is connected to input 'post_processing.available_power.data:performance:ceiling:MTOW' which has no units.\n",
      "C:\\Users\\marti\\anaconda3\\envs\\FAST-OAD\\lib\\site-packages\\openmdao\\core\\group.py:1919: UnitsWarning:<model> <class FASTOADModel>: Output 'fastoad_inputs.data:performance:ceiling:MZFW' with units of 'ft' is connected to input 'post_processing.speed_altitude.data:performance:ceiling:MZFW' which has no units.\n",
      "C:\\Users\\marti\\anaconda3\\envs\\FAST-OAD\\lib\\site-packages\\openmdao\\core\\group.py:1919: UnitsWarning:<model> <class FASTOADModel>: Output 'fastoad_inputs.data:performance:ceiling:MZFW' with units of 'ft' is connected to input 'post_processing.ceiling_mass.data:performance:ceiling:MZFW' which has no units.\n",
      "C:\\Users\\marti\\anaconda3\\envs\\FAST-OAD\\lib\\site-packages\\openmdao\\core\\group.py:1919: UnitsWarning:<model> <class FASTOADModel>: Output 'fastoad_inputs.data:performance:ceiling:MZFW' with units of 'ft' is connected to input 'post_processing.available_power.data:performance:ceiling:MZFW' which has no units.\n",
      "C:\\Users\\marti\\anaconda3\\envs\\FAST-OAD\\lib\\site-packages\\openmdao\\core\\group.py:1919: UnitsWarning:<model> <class FASTOADModel>: Output 'fastoad_inputs.data:mission:sizing:main_route:cruise:altitude' with units of 'm' is connected to input 'post_processing.available_power.data:mission:sizing:main_route:cruise:altitude' which has no units.\n",
      "Variable \"data:propulsion:rubber_engine:turbine_inlet_temperature\" out of bound: value [1633.] degK is over upper limit ( 1600.0 ) in file C:\\Users\\marti\\anaconda3\\envs\\FAST-OAD\\lib\\site-packages\\fastoad_cs25\\models\\propulsion\\fuel_propulsion\\rubber_engine\\openmdao.py\n"
     ]
    },
    {
     "name": "stdout",
     "output_type": "stream",
     "text": [
      "[289.25097444]\n"
     ]
    }
   ],
   "source": [
    "oad.generate_inputs(CONFIGURATION_FILE, SOURCE_FILE, overwrite=True)\n",
    "eval_problem = oad.evaluate_problem(CONFIGURATION_FILE, overwrite=True)"
   ]
  },
  {
   "cell_type": "code",
   "execution_count": 3,
   "id": "6decb518-510a-4cc0-a835-d4c9bb6b090c",
   "metadata": {},
   "outputs": [
    {
     "data": {
      "application/vnd.jupyter.widget-view+json": {
       "model_id": "8c6b1e4e87a0446ca3cf8b29062e72ce",
       "version_major": 2,
       "version_minor": 0
      },
      "text/plain": [
       "HBox(children=(FigureWidget({\n",
       "    'data': [{'legendgroup': 'group',\n",
       "              'legendgrouptitle': {'text':…"
      ]
     },
     "metadata": {},
     "output_type": "display_data"
    }
   ],
   "source": [
    "#fig_available_power = oad.available_power_diagram_drawing_plot(OUTPUT_FILE, name=\"Available_power drawing\")\n",
    "#fig_available_power.show()\n",
    "\n",
    "oad.available_power_diagram_drawing_plot(OUTPUT_FILE, name=\"Available_power drawing\")"
   ]
  }
 ],
 "metadata": {
  "kernelspec": {
   "display_name": "Python 3 (ipykernel)",
   "language": "python",
   "name": "python3"
  },
  "language_info": {
   "codemirror_mode": {
    "name": "ipython",
    "version": 3
   },
   "file_extension": ".py",
   "mimetype": "text/x-python",
   "name": "python",
   "nbconvert_exporter": "python",
   "pygments_lexer": "ipython3",
   "version": "3.8.13"
  }
 },
 "nbformat": 4,
 "nbformat_minor": 5
}
