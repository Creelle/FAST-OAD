{
 "cells": [
  {
   "cell_type": "markdown",
   "id": "2127e751",
   "metadata": {
    "slideshow": {
     "slide_type": "slide"
    }
   },
   "source": [
    "# Hi this is a short tutorial for RISE\n"
   ]
  },
  {
   "cell_type": "code",
   "execution_count": null,
   "id": "05d858bb",
   "metadata": {
    "slideshow": {
     "slide_type": "slide"
    }
   },
   "outputs": [],
   "source": [
    "print(\"Now I will show some cells and the setup my slideshow\")"
   ]
  },
  {
   "cell_type": "markdown",
   "id": "440722c5",
   "metadata": {
    "slideshow": {
     "slide_type": "subslide"
    }
   },
   "source": [
    "And this one it will be a sub-slide"
   ]
  },
  {
   "cell_type": "markdown",
   "id": "7c4f1f48",
   "metadata": {
    "slideshow": {
     "slide_type": "fragment"
    }
   },
   "source": [
    "Let's also add a fragment"
   ]
  },
  {
   "cell_type": "markdown",
   "id": "f8c13e0b",
   "metadata": {
    "slideshow": {
     "slide_type": "skip"
    }
   },
   "source": [
    "And finally something to skip because I don't like the output"
   ]
  },
  {
   "cell_type": "markdown",
   "id": "cccef9c4",
   "metadata": {
    "slideshow": {
     "slide_type": "slide"
    }
   },
   "source": [
    "And the final slide now !!!"
   ]
  },
  {
   "cell_type": "markdown",
   "id": "13ad82de",
   "metadata": {
    "slideshow": {
     "slide_type": "slide"
    }
   },
   "source": [
    "# Soutenance : Stage de Recherche\n",
    "## Stagiaires : Créelle Robbe, Dierge Martin\n",
    "## Enseignant référent : Drougard Nicolas\n",
    "## Tuteur de stage : Scott Delbecq\n"
   ]
  },
  {
   "cell_type": "markdown",
   "id": "8e9b73be-fbd6-440b-aa99-8118c2574779",
   "metadata": {},
   "source": [
    "## Introduction : \n",
    "   1) Aircraft geometry drawing\n",
    "   2) Available power diagram\n",
    "   3) Ceiling diagram\n",
    "   4) Payload range diagram\n",
    "   5) Drag distribution\n",
    "   6) Speed alitude diagram\n",
    "   7) Stability diagram (THS sizing)\n",
    "   8) Thrust/ max_thrust plot "
   ]
  },
  {
   "cell_type": "markdown",
   "id": "6be47c39-e6de-4f3a-b943-4ea1ed01f291",
   "metadata": {},
   "source": []
  },
  {
   "cell_type": "code",
   "execution_count": null,
   "id": "5657a87b",
   "metadata": {
    "slideshow": {
     "slide_type": "subslide"
    }
   },
   "outputs": [],
   "source": [
    "# 1) Make the imports and upload a result file with the useful data\n",
    "import os.path as pth\n",
    "import fastoad.api as oad"
   ]
  },
  {
   "cell_type": "markdown",
   "id": "3eb75487",
   "metadata": {
    "slideshow": {
     "slide_type": "slide"
    }
   },
   "source": [
    "# Full aircraft drawing"
   ]
  },
  {
   "cell_type": "code",
   "execution_count": null,
   "id": "49061644",
   "metadata": {
    "slideshow": {
     "slide_type": "subslide"
    }
   },
   "outputs": [],
   "source": [
    "DATA_FOLDER_PATH = \"./../geometry_drawing/data\"\n",
    "OUTPUT_FILE = pth.join(DATA_FOLDER_PATH, \"problem_outputs.xml\")"
   ]
  },
  {
   "cell_type": "code",
   "execution_count": null,
   "id": "1a0f548c",
   "metadata": {
    "slideshow": {
     "slide_type": "subslide"
    }
   },
   "outputs": [],
   "source": [
    "oad.aircraft_geometry_plot(OUTPUT_FILE).show()"
   ]
  },
  {
   "cell_type": "code",
   "execution_count": null,
   "id": "246e4688",
   "metadata": {
    "slideshow": {
     "slide_type": "subslide"
    }
   },
   "outputs": [],
   "source": [
    "oad.flaps_and_slats_drawing(OUTPUT_FILE).show()"
   ]
  },
  {
   "cell_type": "code",
   "execution_count": null,
   "id": "989f3b24",
   "metadata": {
    "slideshow": {
     "slide_type": "subslide"
    }
   },
   "outputs": [],
   "source": [
    "oad.wing_drawing(OUTPUT_FILE, name=\"Detailed wing\")"
   ]
  },
  {
   "cell_type": "code",
   "execution_count": null,
   "id": "0162926b",
   "metadata": {
    "slideshow": {
     "slide_type": "slide"
    }
   },
   "outputs": [],
   "source": [
    "import os.path as pth\n",
    "import fastoad.api as oad\n",
    "\n",
    "# OUTPUT file (and no configuration)\n",
    "# Those lines are used for accessing the results file\n",
    "DATA_FOLDER_PATH = \"./../speed_altitude/data\"\n",
    "SOURCE_FILE = pth.join(DATA_FOLDER_PATH, \"data_post_processing.xml\")\n",
    "CONFIGURATION_FILE = pth.join(DATA_FOLDER_PATH, \"oad_process.yml\")\n",
    "OUTPUT_FILE = pth.join(DATA_FOLDER_PATH, \"oad_process_outputs.xml\")\n",
    "\n",
    "oad.generate_inputs(CONFIGURATION_FILE, SOURCE_FILE, overwrite=True)\n",
    "eval_problem = oad.evaluate_problem(CONFIGURATION_FILE, overwrite=True)"
   ]
  },
  {
   "cell_type": "markdown",
   "id": "3c5a9f8d",
   "metadata": {
    "slideshow": {
     "slide_type": "slide"
    }
   },
   "source": [
    "# Thrust/Max Thrust plot"
   ]
  },
  {
   "cell_type": "code",
   "execution_count": null,
   "id": "50953019",
   "metadata": {
    "slideshow": {
     "slide_type": "subslide"
    }
   },
   "outputs": [],
   "source": [
    "oad.thrust_diagram_drawing_plot(OUTPUT_FILE)[0].show()"
   ]
  },
  {
   "cell_type": "code",
   "execution_count": null,
   "id": "9b864ee5",
   "metadata": {
    "slideshow": {
     "slide_type": "subslide"
    }
   },
   "outputs": [],
   "source": [
    "oad.thrust_diagram_drawing_plot(OUTPUT_FILE)[1].show()"
   ]
  },
  {
   "cell_type": "code",
   "execution_count": null,
   "id": "a41d1fb6",
   "metadata": {
    "slideshow": {
     "slide_type": "subslide"
    }
   },
   "outputs": [],
   "source": [
    "oad.thrust_diagram_drawing_plot(OUTPUT_FILE)[2].show()"
   ]
  },
  {
   "cell_type": "code",
   "execution_count": null,
   "id": "2d247a7c",
   "metadata": {
    "slideshow": {
     "slide_type": "subslide"
    }
   },
   "outputs": [],
   "source": [
    "oad.thrust_diagram_drawing_plot(OUTPUT_FILE)[3].show()"
   ]
  }
 ],
 "metadata": {
  "celltoolbar": "Slideshow",
  "kernelspec": {
   "display_name": "Python 3 (ipykernel)",
   "language": "python",
   "name": "python3"
  },
  "language_info": {
   "codemirror_mode": {
    "name": "ipython",
    "version": 3
   },
   "file_extension": ".py",
   "mimetype": "text/x-python",
   "name": "python",
   "nbconvert_exporter": "python",
   "pygments_lexer": "ipython3",
   "version": "3.8.13"
  }
 },
 "nbformat": 4,
 "nbformat_minor": 5
}
