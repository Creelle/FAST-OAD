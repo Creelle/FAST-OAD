{
 "cells": [
  {
   "cell_type": "markdown",
   "id": "2127e751",
   "metadata": {
    "slideshow": {
     "slide_type": "slide"
    }
   },
   "source": [
    "# Hi this is a short tutorial for RISE\n"
   ]
  },
  {
   "cell_type": "code",
   "execution_count": null,
   "id": "05d858bb",
   "metadata": {
    "slideshow": {
     "slide_type": "slide"
    }
   },
   "outputs": [],
   "source": [
    "print(\"Now I will show some cells and the setup my slideshow\")"
   ]
  },
  {
   "cell_type": "markdown",
   "id": "440722c5",
   "metadata": {
    "slideshow": {
     "slide_type": "subslide"
    }
   },
   "source": [
    "And this one it will be a sub-slide"
   ]
  },
  {
   "cell_type": "markdown",
   "id": "7c4f1f48",
   "metadata": {
    "slideshow": {
     "slide_type": "fragment"
    }
   },
   "source": [
    "Let's also add a fragment"
   ]
  },
  {
   "cell_type": "markdown",
   "id": "63d4a6e9",
   "metadata": {
    "slideshow": {
     "slide_type": "skip"
    }
   },
   "source": [
    "And finally something to skip because I don't like the output"
   ]
  },
  {
   "cell_type": "markdown",
   "id": "cccef9c4",
   "metadata": {
    "slideshow": {
     "slide_type": "slide"
    }
   },
   "source": [
    "And the final slide now !!!"
   ]
  },
  {
   "cell_type": "markdown",
   "id": "13ad82de",
   "metadata": {
    "slideshow": {
     "slide_type": "slide"
    }
   },
   "source": [
    "# Soutenance : Stage de Recherche\n",
    "## Stagiaires : Créelle Robbe, Dierge Martin\n",
    "## Enseignant référent : Drougard Nicolas\n",
    "## Tuteur de stage : Scott Delbecq\n"
   ]
  },
  {
   "cell_type": "markdown",
   "id": "2e5619d3-3cd9-44c8-915f-523989fb9850",
   "metadata": {},
   "source": [
    "## Introduction : \n",
    "   1) Aircraft geometry drawing\n",
    "   2) Available power diagram\n",
    "   3) Ceiling diagram\n",
    "   4) Payload range diagram\n",
    "   5) Drag distribution\n",
    "   6) Speed alitude diagram\n",
    "   7) Stability diagram (THS sizing)\n",
    "   8) Thrust/ max_thrust plot "
   ]
  },
  {
   "cell_type": "code",
   "execution_count": null,
   "id": "e26521e7",
   "metadata": {
    "slideshow": {
     "slide_type": "subslide"
    }
   },
   "outputs": [],
   "source": [
    "import os.path as pth\n",
    "import fastoad.api as oad"
   ]
  },
  {
   "cell_type": "markdown",
   "id": "3a04d704",
   "metadata": {
    "slideshow": {
     "slide_type": "slide"
    }
   },
   "source": [
    "# Introduction"
   ]
  },
  {
   "cell_type": "markdown",
   "id": "4d9c9e04",
   "metadata": {
    "slideshow": {
     "slide_type": "slide"
    }
   },
   "source": [
    "# Full aircraft drawing"
   ]
  },
  {
   "cell_type": "code",
   "execution_count": null,
   "id": "e1b75b3d",
   "metadata": {
    "slideshow": {
     "slide_type": "subslide"
    }
   },
   "outputs": [],
   "source": [
    "DATA_FOLDER_PATH = \"./../geometry_drawing/data\"\n",
    "OUTPUT_FILE = pth.join(DATA_FOLDER_PATH, \"problem_outputs.xml\")"
   ]
  },
  {
   "cell_type": "code",
   "execution_count": null,
   "id": "f5e09c79",
   "metadata": {
    "slideshow": {
     "slide_type": "subslide"
    }
   },
   "outputs": [],
   "source": [
    "oad.aircraft_geometry_plot(OUTPUT_FILE).show()"
   ]
  },
  {
   "cell_type": "code",
   "execution_count": null,
   "id": "041fcaaf",
   "metadata": {
    "slideshow": {
     "slide_type": "subslide"
    }
   },
   "outputs": [],
   "source": [
    "oad.flaps_and_slats_drawing(OUTPUT_FILE).show()"
   ]
  },
  {
   "cell_type": "code",
   "execution_count": null,
   "id": "8fbd5c5e",
   "metadata": {
    "slideshow": {
     "slide_type": "subslide"
    }
   },
   "outputs": [],
   "source": [
    "oad.wing_drawing(OUTPUT_FILE, name=\"Detailed wing\")"
   ]
  },
  {
   "cell_type": "code",
   "execution_count": null,
   "id": "79ed78d8",
   "metadata": {
    "slideshow": {
     "slide_type": "subslide"
    }
   },
   "outputs": [],
   "source": [
    "# OUTPUT file (and no configuration)\n",
    "# Those lines are used for accessing the results file\n",
    "DATA_FOLDER_PATH = \"./../speed_altitude/data\"\n",
    "SOURCE_FILE = pth.join(DATA_FOLDER_PATH, \"data_post_processing.xml\")\n",
    "CONFIGURATION_FILE = pth.join(DATA_FOLDER_PATH, \"oad_process.yml\")\n",
    "OUTPUT_FILE = pth.join(DATA_FOLDER_PATH, \"oad_process_outputs.xml\")\n",
    "\n",
    "oad.generate_inputs(CONFIGURATION_FILE, SOURCE_FILE, overwrite=True)\n",
    "eval_problem = oad.evaluate_problem(CONFIGURATION_FILE, overwrite=True)"
   ]
  },
  {
   "cell_type": "markdown",
   "id": "b18ee81e",
   "metadata": {
    "slideshow": {
     "slide_type": "slide"
    }
   },
   "source": [
    "# Available power Diagram"
   ]
  },
  {
   "cell_type": "code",
   "execution_count": null,
   "id": "1d183eae",
   "metadata": {
    "slideshow": {
     "slide_type": "subslide"
    }
   },
   "outputs": [],
   "source": [
    "oad.available_power_diagram_drawing_plot(OUTPUT_FILE).show()"
   ]
  },
  {
   "cell_type": "markdown",
   "id": "1ad2089e",
   "metadata": {
    "slideshow": {
     "slide_type": "slide"
    }
   },
   "source": [
    "# Ceiling Mass Diagram"
   ]
  },
  {
   "cell_type": "code",
   "execution_count": null,
   "id": "85a0a82c",
   "metadata": {
    "slideshow": {
     "slide_type": "subslide"
    }
   },
   "outputs": [],
   "source": [
    "oad.ceiling_mass_diagram_drawing_plot(OUTPUT_FILE).show()"
   ]
  },
  {
   "cell_type": "markdown",
   "id": "c37a42e7",
   "metadata": {
    "slideshow": {
     "slide_type": "slide"
    }
   },
   "source": [
    "# Payload Range Diagram"
   ]
  },
  {
   "cell_type": "code",
   "execution_count": null,
   "id": "fdeb3aaf",
   "metadata": {
    "slideshow": {
     "slide_type": "subslide"
    }
   },
   "outputs": [],
   "source": []
  },
  {
   "cell_type": "markdown",
   "id": "2f93f056",
   "metadata": {
    "slideshow": {
     "slide_type": "slide"
    }
   },
   "source": [
    "# Drag Distribution"
   ]
  },
  {
   "cell_type": "code",
   "execution_count": null,
   "id": "ffdbac11",
   "metadata": {
    "slideshow": {
     "slide_type": "subslide"
    }
   },
   "outputs": [],
   "source": []
  },
  {
   "cell_type": "markdown",
   "id": "8f0c37b4",
   "metadata": {
    "slideshow": {
     "slide_type": "slide"
    }
   },
   "source": [
    "# Speed Altitude Diagram"
   ]
  },
  {
   "cell_type": "code",
   "execution_count": null,
   "id": "65773857",
   "metadata": {
    "slideshow": {
     "slide_type": "subslide"
    }
   },
   "outputs": [],
   "source": [
    "oad.speed_altitude_diagram_drawing_plot(OUTPUT_FILE).show()"
   ]
  },
  {
   "cell_type": "markdown",
   "id": "c4dc5131",
   "metadata": {
    "slideshow": {
     "slide_type": "slide"
    }
   },
   "source": [
    "# Stability Diagram"
   ]
  },
  {
   "cell_type": "code",
   "execution_count": null,
   "id": "5da7959e",
   "metadata": {
    "slideshow": {
     "slide_type": "subslide"
    }
   },
   "outputs": [],
   "source": []
  },
  {
   "cell_type": "markdown",
   "id": "a9f57732",
   "metadata": {
    "slideshow": {
     "slide_type": "slide"
    }
   },
   "source": [
    "# V-n Diagram"
   ]
  },
  {
   "cell_type": "code",
   "execution_count": null,
   "id": "a0b4ed3c",
   "metadata": {
    "slideshow": {
     "slide_type": "subslide"
    }
   },
   "outputs": [],
   "source": [
    "oad.v_n_diagram_drawing_plot(OUTPUT_FILE).show()"
   ]
  },
  {
   "cell_type": "markdown",
   "id": "e295ae5c",
   "metadata": {
    "slideshow": {
     "slide_type": "slide"
    }
   },
   "source": [
    "# Thrust/Max Thrust plot"
   ]
  },
  {
   "cell_type": "code",
   "execution_count": null,
   "id": "50953019",
   "metadata": {
    "slideshow": {
     "slide_type": "subslide"
    }
   },
   "outputs": [],
   "source": [
    "oad.thrust_diagram_drawing_plot(OUTPUT_FILE)[0].show()"
   ]
  },
  {
   "cell_type": "code",
   "execution_count": null,
   "id": "e7759e71",
   "metadata": {
    "slideshow": {
     "slide_type": "subslide"
    }
   },
   "outputs": [],
   "source": [
    "oad.thrust_diagram_drawing_plot(OUTPUT_FILE)[1].show()"
   ]
  },
  {
   "cell_type": "code",
   "execution_count": null,
   "id": "8e70b901",
   "metadata": {
    "slideshow": {
     "slide_type": "subslide"
    }
   },
   "outputs": [],
   "source": [
    "oad.thrust_diagram_drawing_plot(OUTPUT_FILE)[2].show()"
   ]
  },
  {
   "cell_type": "code",
   "execution_count": null,
   "id": "b0e7e914",
   "metadata": {
    "slideshow": {
     "slide_type": "subslide"
    }
   },
   "outputs": [],
   "source": [
    "oad.thrust_diagram_drawing_plot(OUTPUT_FILE)[3].show()"
   ]
  },
  {
   "cell_type": "markdown",
   "id": "b433c569",
   "metadata": {
    "slideshow": {
     "slide_type": "slide"
    }
   },
   "source": [
    "# Conclusion"
   ]
  },
  {
   "cell_type": "code",
   "execution_count": null,
   "id": "a777f670",
   "metadata": {},
   "outputs": [],
   "source": []
  }
 ],
 "metadata": {
  "celltoolbar": "Slideshow",
  "kernelspec": {
   "display_name": "Python 3 (ipykernel)",
   "language": "python",
   "name": "python3"
  },
  "language_info": {
   "codemirror_mode": {
    "name": "ipython",
    "version": 3
   },
   "file_extension": ".py",
   "mimetype": "text/x-python",
   "name": "python",
   "nbconvert_exporter": "python",
   "pygments_lexer": "ipython3",
   "version": "3.8.13"
  }
 },
 "nbformat": 4,
 "nbformat_minor": 5
}
