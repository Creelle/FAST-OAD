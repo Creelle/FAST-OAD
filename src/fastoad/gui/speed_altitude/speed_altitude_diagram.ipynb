{
 "cells": [
  {
   "cell_type": "markdown",
   "id": "6b62654f-e12b-45ac-b3dc-162f8a7e88dd",
   "metadata": {},
   "source": [
    "# Speed altitude diagram\n",
    "## Computation of the speed achievable by the aircraft depending on the flight altitude"
   ]
  },
  {
   "cell_type": "code",
   "execution_count": null,
   "id": "1ab45530-6118-4a18-bcc4-3e52c6291e3a",
   "metadata": {},
   "outputs": [],
   "source": [
    "import os.path as pth\n",
    "import fastoad.api as oad\n",
    "\n",
    "# OUTPUT file (and no configuration)\n",
    "# Those lines are used for accessing the results file\n",
    "DATA_FOLDER_PATH = \"data\"\n",
    "OUTPUT_FILE = pth.join(DATA_FOLDER_PATH, \"problem_outputs.xml\")"
   ]
  },
  {
   "cell_type": "markdown",
   "id": "e7a1bdd9-79d3-4347-8cee-ec72eccbe7fe",
   "metadata": {},
   "source": [
    "The main goal of this model is to compute and draw the Speed-Altitude diagram of the aircraft. The current model shows, on the same graph, the curves for the MTOW and the MZFW. \n",
    "\n",
    "For a given mass, the graph is composed by three curves : \n",
    "\n",
    "- 1. The minimum speed\n",
    "\n",
    "The minimum speed is computed with the formula $V_{min} = \\frac{2.m.g}{\\rho.S_{wing}.Cl_{max}}$\n",
    "\n",
    "- 2. The maximum speed\n",
    "\n",
    "The maximum speed is, for each altitude, the minimum one between the diving speed of the aircraft, the maximum engine supportable-speed and the computed speed.\n",
    "The computed speed is computed with the function \"fsolve\". For each altitude, the model computes the difference between the drag and the thrust. The \"fsolve\" function returns a speed for which the thrust is equal to the drag. Depending on the altitude, the maximum speed is thus not always the same. On the graph, the three speeds are visible. \n",
    "\n",
    "- 3. The \"ceiling\" speed\n",
    "\n",
    "The maximum altitude altitude reachable by the aircraft is the ceiling one. The \"ceiling\" speed is thus the speed for which the rate of climb is equal to 0. It is the upper limit of the graph. \n",
    "\n",
    "\n",
    "\n",
    "On the graph, the flight enveloppe is shown as well as the diving speed, the maximum engine supportable-speed and the computed speed."
   ]
  },
  {
   "cell_type": "code",
   "execution_count": null,
   "id": "c933fcc8-53ba-46a4-b9d6-59a6abcb5aae",
   "metadata": {},
   "outputs": [],
   "source": []
  }
 ],
 "metadata": {
  "kernelspec": {
   "display_name": "Python 3 (ipykernel)",
   "language": "python",
   "name": "python3"
  },
  "language_info": {
   "codemirror_mode": {
    "name": "ipython",
    "version": 3
   },
   "file_extension": ".py",
   "mimetype": "text/x-python",
   "name": "python",
   "nbconvert_exporter": "python",
   "pygments_lexer": "ipython3",
   "version": "3.8.13"
  }
 },
 "nbformat": 4,
 "nbformat_minor": 5
}
