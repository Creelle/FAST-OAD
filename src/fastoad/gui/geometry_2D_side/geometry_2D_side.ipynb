{
 "cells": [
  {
   "cell_type": "markdown",
   "id": "5023a993",
   "metadata": {},
   "source": [
    "# Full aircraft drawing side view\n",
    "## Top view of the aircraft, wing and detailed view of the wing"
   ]
  },
  {
   "cell_type": "code",
   "execution_count": null,
   "id": "0a0883bc",
   "metadata": {},
   "outputs": [],
   "source": [
    "import os.path as pth\n",
    "import fastoad.api as oad"
   ]
  },
  {
   "cell_type": "code",
   "execution_count": null,
   "id": "e4121d51",
   "metadata": {},
   "outputs": [],
   "source": [
    "# OUTPUT file (and no configuration)\n",
    "# Those lines are used for accessing the results file\n",
    "DATA_FOLDER_PATH = \"data\"\n",
    "OUTPUT_FILE = pth.join(DATA_FOLDER_PATH, \"problem_outputs.xml\")"
   ]
  },
  {
   "cell_type": "markdown",
   "id": "d6a19158",
   "metadata": {},
   "source": [
    "# Drawing of the top view of the aircraft\n",
    "The following lines are use to show a drawing of the top view of the aircraft with the reactor pod, the flaps, the slats and the elevator on the horizontal tail.\n",
    "In this function, the width of the flaps and the slats is fixed with the ratio given in the outputs while the width of the elevator is arbitrary set to 90 percent of the horizontal tl width. \n",
    "\n",
    "For this function, there are 3 parameters than can be modified at the beginning of the code : \n",
    "\n",
    "- NACELLE_POSITION : Permit the modification of the position of the nacelle compared to the wing. If this parameter is set to 0.0, the back of the nacelle will be on the same \"x-line\" as the beginning of the root. If the parameter is set to 1.0, the beginning of the nacelle will be on the kink of the wing, at the leading edge. Any values between 0.0 and 1.0 give intermediate positions.\n",
    "\n",
    "- HORIZONTAL_TAIL_ROOT : This parameter (between 0.0 and 1.0) fixes the percentage of the tail root concerned by the elevator, starting from the trailing edge of the tail, along the fuselage. A value of 1.0 means that 100% of the tail root along the fuselage is concerned by the root of the elevator. \n",
    "\n",
    "- HORIZONTAL_TAIL_TIP : This parameter (between 0.0 and 1.0) fixes the percentage of the tail tip concerned by the elevator, at 90 percent of the tail width, starting from the trailing edge of the tail. A value of 1.0 means that 100% of the tail tip, at 90 percent of the tail with, is concerned by the tip of the elevator. \n",
    "\n",
    "- HORIZONTAL_WIDTH_ELEVATOR : This parameter (between 0.0 and 1.0) fixes the percentage of the horizontal tail concerned by the elevator, starting from the fuselage. A value of 1.0 means that 100% of the horizontal tail width is concerned by the elevator."
   ]
  },
  {
   "cell_type": "code",
   "execution_count": null,
   "id": "bc955bce",
   "metadata": {},
   "outputs": [],
   "source": [
    "fig_aircraft = oad.aircraft_drawing_side_view_plot(OUTPUT_FILE, name=\"Aircraft\")\n",
    "fig_aircraft.show()"
   ]
  },
  {
   "cell_type": "code",
   "execution_count": null,
   "id": "e5b820e2-0319-45c2-8ea2-4ecdfaaafb89",
   "metadata": {},
   "outputs": [],
   "source": [
    "fig_aircraft = oad.aircraft_drawing_front_view_plot(OUTPUT_FILE, name=\"Aircraft\")\n",
    "fig_aircraft.show()"
   ]
  }
 ],
 "metadata": {
  "kernelspec": {
   "display_name": "Python 3 (ipykernel)",
   "language": "python",
   "name": "python3"
  },
  "language_info": {
   "codemirror_mode": {
    "name": "ipython",
    "version": 3
   },
   "file_extension": ".py",
   "mimetype": "text/x-python",
   "name": "python",
   "nbconvert_exporter": "python",
   "pygments_lexer": "ipython3",
   "version": "3.8.13"
  }
 },
 "nbformat": 4,
 "nbformat_minor": 5
}
