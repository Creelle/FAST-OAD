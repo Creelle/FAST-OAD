{
 "cells": [
  {
   "cell_type": "markdown",
   "id": "c65315b0-e858-49c7-aa3a-6774ef581b23",
   "metadata": {},
   "source": [
    "# Thrust plot drawing \n",
    "## Drawing of the Thrust plot"
   ]
  },
  {
   "cell_type": "code",
   "execution_count": 1,
   "id": "85cc5eea-7c6c-4c6d-b3e0-cfce95e836e9",
   "metadata": {},
   "outputs": [],
   "source": [
    "import os.path as pth\n",
    "import fastoad.api as oad\n",
    "import os\n",
    "if not pth.exists(\"images\"):\n",
    "    os.mkdir(\"images\")\n",
    "\n",
    "# OUTPUT file (and no configuration)\n",
    "# Those lines are used for accessing the results file\n",
    "DATA_FOLDER_PATH = \"./../speed_altitude/data\"\n",
    "SOURCE_FILE = pth.join(DATA_FOLDER_PATH, \"data_post_processing.xml\")\n",
    "CONFIGURATION_FILE = pth.join(DATA_FOLDER_PATH, \"oad_process.yml\")\n",
    "OUTPUT_FILE = pth.join(DATA_FOLDER_PATH, \"oad_process_outputs.xml\")"
   ]
  },
  {
   "cell_type": "markdown",
   "id": "2357117a-8058-4272-a465-b37d671bd147",
   "metadata": {},
   "source": [
    "The main goal of this model is to compute and draw the Thrust plot of the aircraft"
   ]
  },
  {
   "cell_type": "code",
   "execution_count": 2,
   "id": "e8505efd-3191-4bb9-b01f-002333eadc34",
   "metadata": {},
   "outputs": [
    {
     "name": "stderr",
     "output_type": "stream",
     "text": [
      "C:\\Users\\marti\\anaconda3\\envs\\FAST-OAD\\lib\\site-packages\\openmdao\\core\\group.py:1919: UnitsWarning:<model> <class FASTOADModel>: Output 'fastoad_inputs.data:TLAR:range' with units of 'nmi' is connected to input 'post_processing.ceiling_mass.data:TLAR:range' which has no units.\n",
      "C:\\Users\\marti\\anaconda3\\envs\\FAST-OAD\\lib\\site-packages\\openmdao\\core\\group.py:1919: UnitsWarning:<model> <class FASTOADModel>: Output 'fastoad_inputs.data:TLAR:range' with units of 'nmi' is connected to input 'post_processing.available_power.data:TLAR:range' which has no units.\n",
      "C:\\Users\\marti\\anaconda3\\envs\\FAST-OAD\\lib\\site-packages\\openmdao\\core\\group.py:1919: UnitsWarning:<model> <class FASTOADModel>: Output 'fastoad_inputs.data:performance:ceiling:MTOW' with units of 'ft' is connected to input 'post_processing.speed_altitude.data:performance:ceiling:MTOW' which has no units.\n",
      "C:\\Users\\marti\\anaconda3\\envs\\FAST-OAD\\lib\\site-packages\\openmdao\\core\\group.py:1919: UnitsWarning:<model> <class FASTOADModel>: Output 'fastoad_inputs.data:performance:ceiling:MTOW' with units of 'ft' is connected to input 'post_processing.ceiling_mass.data:performance:ceiling:MTOW' which has no units.\n",
      "C:\\Users\\marti\\anaconda3\\envs\\FAST-OAD\\lib\\site-packages\\openmdao\\core\\group.py:1919: UnitsWarning:<model> <class FASTOADModel>: Output 'fastoad_inputs.data:performance:ceiling:MTOW' with units of 'ft' is connected to input 'post_processing.available_power.data:performance:ceiling:MTOW' which has no units.\n",
      "C:\\Users\\marti\\anaconda3\\envs\\FAST-OAD\\lib\\site-packages\\openmdao\\core\\group.py:1919: UnitsWarning:<model> <class FASTOADModel>: Output 'fastoad_inputs.data:performance:ceiling:MZFW' with units of 'ft' is connected to input 'post_processing.speed_altitude.data:performance:ceiling:MZFW' which has no units.\n",
      "C:\\Users\\marti\\anaconda3\\envs\\FAST-OAD\\lib\\site-packages\\openmdao\\core\\group.py:1919: UnitsWarning:<model> <class FASTOADModel>: Output 'fastoad_inputs.data:performance:ceiling:MZFW' with units of 'ft' is connected to input 'post_processing.ceiling_mass.data:performance:ceiling:MZFW' which has no units.\n",
      "C:\\Users\\marti\\anaconda3\\envs\\FAST-OAD\\lib\\site-packages\\openmdao\\core\\group.py:1919: UnitsWarning:<model> <class FASTOADModel>: Output 'fastoad_inputs.data:performance:ceiling:MZFW' with units of 'ft' is connected to input 'post_processing.available_power.data:performance:ceiling:MZFW' which has no units.\n",
      "C:\\Users\\marti\\anaconda3\\envs\\FAST-OAD\\lib\\site-packages\\openmdao\\core\\group.py:1919: UnitsWarning:<model> <class FASTOADModel>: Output 'fastoad_inputs.data:mission:sizing:main_route:cruise:altitude' with units of 'm' is connected to input 'post_processing.available_power.data:mission:sizing:main_route:cruise:altitude' which has no units.\n",
      "C:\\Users\\marti\\anaconda3\\envs\\FAST-OAD\\lib\\site-packages\\openmdao\\core\\group.py:1919: UnitsWarning:<model> <class FASTOADModel>: Output 'fastoad_inputs.data:TLAR:range' with units of 'nmi' is connected to input 'post_processing.ceiling_mass.data:TLAR:range' which has no units.\n",
      "C:\\Users\\marti\\anaconda3\\envs\\FAST-OAD\\lib\\site-packages\\openmdao\\core\\group.py:1919: UnitsWarning:<model> <class FASTOADModel>: Output 'fastoad_inputs.data:TLAR:range' with units of 'nmi' is connected to input 'post_processing.available_power.data:TLAR:range' which has no units.\n",
      "C:\\Users\\marti\\anaconda3\\envs\\FAST-OAD\\lib\\site-packages\\openmdao\\core\\group.py:1919: UnitsWarning:<model> <class FASTOADModel>: Output 'fastoad_inputs.data:performance:ceiling:MTOW' with units of 'ft' is connected to input 'post_processing.speed_altitude.data:performance:ceiling:MTOW' which has no units.\n",
      "C:\\Users\\marti\\anaconda3\\envs\\FAST-OAD\\lib\\site-packages\\openmdao\\core\\group.py:1919: UnitsWarning:<model> <class FASTOADModel>: Output 'fastoad_inputs.data:performance:ceiling:MTOW' with units of 'ft' is connected to input 'post_processing.ceiling_mass.data:performance:ceiling:MTOW' which has no units.\n",
      "C:\\Users\\marti\\anaconda3\\envs\\FAST-OAD\\lib\\site-packages\\openmdao\\core\\group.py:1919: UnitsWarning:<model> <class FASTOADModel>: Output 'fastoad_inputs.data:performance:ceiling:MTOW' with units of 'ft' is connected to input 'post_processing.available_power.data:performance:ceiling:MTOW' which has no units.\n",
      "C:\\Users\\marti\\anaconda3\\envs\\FAST-OAD\\lib\\site-packages\\openmdao\\core\\group.py:1919: UnitsWarning:<model> <class FASTOADModel>: Output 'fastoad_inputs.data:performance:ceiling:MZFW' with units of 'ft' is connected to input 'post_processing.speed_altitude.data:performance:ceiling:MZFW' which has no units.\n",
      "C:\\Users\\marti\\anaconda3\\envs\\FAST-OAD\\lib\\site-packages\\openmdao\\core\\group.py:1919: UnitsWarning:<model> <class FASTOADModel>: Output 'fastoad_inputs.data:performance:ceiling:MZFW' with units of 'ft' is connected to input 'post_processing.ceiling_mass.data:performance:ceiling:MZFW' which has no units.\n",
      "C:\\Users\\marti\\anaconda3\\envs\\FAST-OAD\\lib\\site-packages\\openmdao\\core\\group.py:1919: UnitsWarning:<model> <class FASTOADModel>: Output 'fastoad_inputs.data:performance:ceiling:MZFW' with units of 'ft' is connected to input 'post_processing.available_power.data:performance:ceiling:MZFW' which has no units.\n",
      "C:\\Users\\marti\\anaconda3\\envs\\FAST-OAD\\lib\\site-packages\\openmdao\\core\\group.py:1919: UnitsWarning:<model> <class FASTOADModel>: Output 'fastoad_inputs.data:mission:sizing:main_route:cruise:altitude' with units of 'm' is connected to input 'post_processing.available_power.data:mission:sizing:main_route:cruise:altitude' which has no units.\n",
      "Variable \"data:propulsion:rubber_engine:turbine_inlet_temperature\" out of bound: value [1633.] degK is over upper limit ( 1600.0 ) in file C:\\Users\\marti\\anaconda3\\envs\\FAST-OAD\\lib\\site-packages\\fastoad_cs25\\models\\propulsion\\fuel_propulsion\\rubber_engine\\openmdao.py\n"
     ]
    }
   ],
   "source": [
    "oad.generate_inputs(CONFIGURATION_FILE, SOURCE_FILE, overwrite=True)\n",
    "eval_problem = oad.evaluate_problem(CONFIGURATION_FILE, overwrite=True)"
   ]
  },
  {
   "cell_type": "code",
   "execution_count": 3,
   "id": "996697f4-ebe8-4944-a20f-e2cb7eb12412",
   "metadata": {},
   "outputs": [
    {
     "ename": "AttributeError",
     "evalue": "module 'fastoad.api' has no attribute 'thrust_diagram_drawing_plot'",
     "output_type": "error",
     "traceback": [
      "\u001b[1;31m---------------------------------------------------------------------------\u001b[0m",
      "\u001b[1;31mAttributeError\u001b[0m                            Traceback (most recent call last)",
      "\u001b[1;32m~\\AppData\\Local\\Temp/ipykernel_13584/2110955650.py\u001b[0m in \u001b[0;36m<module>\u001b[1;34m\u001b[0m\n\u001b[1;32m----> 1\u001b[1;33m \u001b[0mfig\u001b[0m \u001b[1;33m=\u001b[0m \u001b[0moad\u001b[0m\u001b[1;33m.\u001b[0m\u001b[0mthrust_diagram_drawing_plot\u001b[0m\u001b[1;33m(\u001b[0m\u001b[0mOUTPUT_FILE\u001b[0m\u001b[1;33m)\u001b[0m\u001b[1;33m\u001b[0m\u001b[1;33m\u001b[0m\u001b[0m\n\u001b[0m\u001b[0;32m      2\u001b[0m \u001b[1;31m#fig.write_image(\"images/Thrust_plot.pdf\")\u001b[0m\u001b[1;33m\u001b[0m\u001b[1;33m\u001b[0m\u001b[1;33m\u001b[0m\u001b[0m\n\u001b[0;32m      3\u001b[0m \u001b[0mfig\u001b[0m\u001b[1;33m.\u001b[0m\u001b[0mshow\u001b[0m\u001b[1;33m(\u001b[0m\u001b[1;33m)\u001b[0m\u001b[1;33m\u001b[0m\u001b[1;33m\u001b[0m\u001b[0m\n",
      "\u001b[1;31mAttributeError\u001b[0m: module 'fastoad.api' has no attribute 'thrust_diagram_drawing_plot'"
     ]
    }
   ],
   "source": [
    "fig = oad.thrust_diagram_drawing_plot(OUTPUT_FILE)\n",
    "#fig.write_image(\"images/Thrust_plot.pdf\")\n",
    "fig.show()"
   ]
  }
 ],
 "metadata": {
  "kernelspec": {
   "display_name": "Python 3 (ipykernel)",
   "language": "python",
   "name": "python3"
  },
  "language_info": {
   "codemirror_mode": {
    "name": "ipython",
    "version": 3
   },
   "file_extension": ".py",
   "mimetype": "text/x-python",
   "name": "python",
   "nbconvert_exporter": "python",
   "pygments_lexer": "ipython3",
   "version": "3.8.13"
  }
 },
 "nbformat": 4,
 "nbformat_minor": 5
}
