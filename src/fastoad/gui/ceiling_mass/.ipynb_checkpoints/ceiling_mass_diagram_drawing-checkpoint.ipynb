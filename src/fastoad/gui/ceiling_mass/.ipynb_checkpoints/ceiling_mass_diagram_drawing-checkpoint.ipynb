{
 "cells": [
  {
   "cell_type": "markdown",
   "id": "9fb9f013-e29b-4b26-978e-c1bc5dfe76a2",
   "metadata": {},
   "source": [
    "# Ceiling mass diagram drawing \n",
    "## Drawing of the ceiling-mass diagram"
   ]
  },
  {
   "cell_type": "code",
   "execution_count": null,
   "id": "0095d4c3-ac03-4671-b0c7-45887ae718d7",
   "metadata": {},
   "outputs": [],
   "source": [
    "import os.path as pth\n",
    "import fastoad.api as oad\n",
    "\n",
    "# OUTPUT file (and no configuration)\n",
    "# Those lines are used for accessing the results file\n",
    "DATA_FOLDER_PATH = \"data\"\n",
    "SOURCE_FILE = pth.join(DATA_FOLDER_PATH, \"data_post_processing.xml\")\n",
    "CONFIGURATION_FILE = pth.join(DATA_FOLDER_PATH, \"oad_process.yml\")\n",
    "OUTPUT_FILE = pth.join(DATA_FOLDER_PATH, \"oad_process_outputs.xml\")"
   ]
  },
  {
   "cell_type": "markdown",
   "id": "7534fca0-db03-4d16-bc5f-21e99bb72f01",
   "metadata": {},
   "source": [
    "The main goal of this model is to compute and draw the Ceiling-mass diagram."
   ]
  },
  {
   "cell_type": "code",
   "execution_count": null,
   "id": "fa58117a-a759-4025-b036-acec9469eedc",
   "metadata": {},
   "outputs": [],
   "source": [
    "oad.generate_inputs(CONFIGURATION_FILE, SOURCE_FILE, overwrite=True)\n",
    "eval_problem = oad.evaluate_problem(CONFIGURATION_FILE, overwrite=True)"
   ]
  },
  {
   "cell_type": "code",
   "execution_count": null,
   "id": "af1c7670-3e75-4c23-be2d-b152db3feb00",
   "metadata": {},
   "outputs": [],
   "source": [
    "fig_ceiling_mass = oad.ceiling_mass_diagram_drawing_plot(OUTPUT_FILE, name=\"Ceiling_mass drawing\")\n",
    "fig_ceiling_mass.show()"
   ]
  }
 ],
 "metadata": {
  "kernelspec": {
   "display_name": "Python 3 (ipykernel)",
   "language": "python",
   "name": "python3"
  },
  "language_info": {
   "codemirror_mode": {
    "name": "ipython",
    "version": 3
   },
   "file_extension": ".py",
   "mimetype": "text/x-python",
   "name": "python",
   "nbconvert_exporter": "python",
   "pygments_lexer": "ipython3",
   "version": "3.8.13"
  }
 },
 "nbformat": 4,
 "nbformat_minor": 5
}
