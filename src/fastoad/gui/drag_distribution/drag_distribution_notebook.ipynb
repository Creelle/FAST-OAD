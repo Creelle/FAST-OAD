{
 "cells": [
  {
   "cell_type": "markdown",
   "id": "5023a993",
   "metadata": {},
   "source": [
    "# Aircraft drag distribution\n",
    "## Sun plot (+ drag as a function of CL) for high and low speed"
   ]
  },
  {
   "cell_type": "code",
   "execution_count": null,
   "id": "0a0883bc",
   "metadata": {},
   "outputs": [],
   "source": [
    "import os.path as pth\n",
    "import fastoad.api as oad"
   ]
  },
  {
   "cell_type": "code",
   "execution_count": null,
   "id": "e4121d51",
   "metadata": {},
   "outputs": [],
   "source": [
    "# OUTPUT file (and no configuration)\n",
    "# Those lines are used for accessing the results file\n",
    "OUTPUT_FILE = pth.join(\"data\",\"problem_outputs.xml\")\n",
    "\n"
   ]
  },
  {
   "cell_type": "code",
   "execution_count": null,
   "id": "b1e9c6a6-0317-42d2-a05a-b044772233ba",
   "metadata": {},
   "outputs": [],
   "source": [
    "fig = oad.drag_distribution_plot(OUTPUT_FILE,aircraft_mass = 80000, aircraft_mach = 0.7, aircraft_altitude = 10000)\n",
    "fig.show()"
   ]
  }
 ],
 "metadata": {
  "kernelspec": {
   "display_name": "Python 3 (ipykernel)",
   "language": "python",
   "name": "python3"
  },
  "language_info": {
   "codemirror_mode": {
    "name": "ipython",
    "version": 3
   },
   "file_extension": ".py",
   "mimetype": "text/x-python",
   "name": "python",
   "nbconvert_exporter": "python",
   "pygments_lexer": "ipython3",
   "version": "3.8.13"
  }
 },
 "nbformat": 4,
 "nbformat_minor": 5
}
