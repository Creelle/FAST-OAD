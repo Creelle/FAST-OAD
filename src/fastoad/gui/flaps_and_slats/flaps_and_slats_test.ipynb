{
 "cells": [
  {
   "cell_type": "raw",
   "id": "3af0e27f",
   "metadata": {},
   "source": [
    "# FAST-OAD Postprocessing flaps and slats plot\n",
    "FAST-OAD is a framework for performing rapid Overall Aircraft Design. The computational core of FAST-OAD is based on the  [OpenMDAO framework](https://openmdao.org/).\n",
    "\n",
    "\n",
    "\n",
    "This notebook will show you the basic postprocessing features that FAST-OAD offers.\n",
    "\n",
    "**Note: The 01_tutorial notebook has to be run to generate the results files used in this postprocessing notebook**\n",
    "\n",
    "*Tip: hover your mouse pointer over any plot to inspect it or get menu to manipulate it*"
   ]
  },
  {
   "cell_type": "code",
   "execution_count": 1,
   "id": "0234b93f",
   "metadata": {},
   "outputs": [
    {
     "ename": "ModuleNotFoundError",
     "evalue": "No module named 'fastoad'",
     "output_type": "error",
     "traceback": [
      "\u001b[1;31m---------------------------------------------------------------------------\u001b[0m",
      "\u001b[1;31mModuleNotFoundError\u001b[0m                       Traceback (most recent call last)",
      "\u001b[1;32m~\\AppData\\Local\\Temp/ipykernel_16088/1725967386.py\u001b[0m in \u001b[0;36m<module>\u001b[1;34m\u001b[0m\n\u001b[0;32m      1\u001b[0m \u001b[1;32mimport\u001b[0m \u001b[0mos\u001b[0m\u001b[1;33m.\u001b[0m\u001b[0mpath\u001b[0m \u001b[1;32mas\u001b[0m \u001b[0mpth\u001b[0m\u001b[1;33m\u001b[0m\u001b[1;33m\u001b[0m\u001b[0m\n\u001b[1;32m----> 2\u001b[1;33m \u001b[1;32mimport\u001b[0m \u001b[0mfastoad\u001b[0m\u001b[1;33m.\u001b[0m\u001b[0mapi\u001b[0m \u001b[1;32mas\u001b[0m \u001b[0moad\u001b[0m\u001b[1;33m\u001b[0m\u001b[1;33m\u001b[0m\u001b[0m\n\u001b[0m",
      "\u001b[1;31mModuleNotFoundError\u001b[0m: No module named 'fastoad'"
     ]
    }
   ],
   "source": [
    "import os.path as pth\n",
    "import fastoad.api as oad"
   ]
  },
  {
   "cell_type": "code",
   "execution_count": null,
   "id": "2ac025a3",
   "metadata": {},
   "outputs": [],
   "source": [
    "# OUTPUT file (and no configuration)\n",
    "DATA_FOLDER_PATH = \"data\"\n",
    "OUTPUT_FILE = pth.join(DATA_FOLDER_PATH, \"problem_outputs.xml\")"
   ]
  },
  {
   "cell_type": "code",
   "execution_count": null,
   "id": "865d0edd",
   "metadata": {},
   "outputs": [],
   "source": [
    "fig = oad.flaps_and_slats_plot(OUTPUT_FILE, name=\"Falsp and slats on the aircraft wings\")\n",
    "fig.show()"
   ]
  },
  {
   "cell_type": "code",
   "execution_count": null,
   "id": "6812e8e4",
   "metadata": {},
   "outputs": [],
   "source": [
    "oad.variable_viewer(OUTPUT_FILE)"
   ]
  },
  {
   "cell_type": "code",
   "execution_count": null,
   "id": "1d74f5b2",
   "metadata": {},
   "outputs": [],
   "source": [
    "df = oad.VariableViewer()  # instantiation of dataframe\n",
    "df.load(OUTPUT_FILE)  # load the file\n",
    "df.display()  # renders a ui for reading/modifying the file"
   ]
  },
  {
   "cell_type": "code",
   "execution_count": null,
   "id": "305daf68",
   "metadata": {},
   "outputs": [],
   "source": [
    "mv = oad.MissionViewer()\n",
    "mv.add_mission(OUTPUT_FILE)\n",
    "mv.display()"
   ]
  },
  {
   "cell_type": "code",
   "execution_count": null,
   "id": "47546f85",
   "metadata": {},
   "outputs": [],
   "source": []
  }
 ],
 "metadata": {
  "kernelspec": {
   "display_name": "Python 3 (ipykernel)",
   "language": "python",
   "name": "python3"
  },
  "language_info": {
   "codemirror_mode": {
    "name": "ipython",
    "version": 3
   },
   "file_extension": ".py",
   "mimetype": "text/x-python",
   "name": "python",
   "nbconvert_exporter": "python",
   "pygments_lexer": "ipython3",
   "version": "3.9.7"
  }
 },
 "nbformat": 4,
 "nbformat_minor": 5
}
