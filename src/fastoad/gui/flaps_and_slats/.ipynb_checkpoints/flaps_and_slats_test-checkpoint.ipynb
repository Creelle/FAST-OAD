{
 "cells": [
  {
   "cell_type": "raw",
   "id": "2dcb0429",
   "metadata": {},
   "source": [
    "# FAST-OAD Postprocessing flaps and slats plot\n",
    "FAST-OAD is a framework for performing rapid Overall Aircraft Design. The computational core of FAST-OAD is based on the  [OpenMDAO framework](https://openmdao.org/).\n",
    "\n",
    "\n",
    "\n",
    "This notebook will show you the basic postprocessing features that FAST-OAD offers.\n",
    "\n",
    "**Note: The 01_tutorial notebook has to be run to generate the results files used in this postprocessing notebook**\n",
    "\n",
    "*Tip: hover your mouse pointer over any plot to inspect it or get menu to manipulate it*"
   ]
  },
  {
   "cell_type": "code",
   "execution_count": 1,
   "id": "d288be96",
   "metadata": {},
   "outputs": [],
   "source": [
    "import os.path as pth\n",
    "import fastoad.api as oad"
   ]
  },
  {
   "cell_type": "code",
   "execution_count": 2,
   "id": "f86ba448",
   "metadata": {},
   "outputs": [],
   "source": [
    "# OUTPUT file (and no configuration)\n",
    "DATA_FOLDER_PATH = \"data\"\n",
    "OUTPUT_FILE = pth.join(DATA_FOLDER_PATH, \"problem_outputs.xml\")"
   ]
  },
  {
   "cell_type": "code",
   "execution_count": 3,
   "id": "1d9f47df",
   "metadata": {},
   "outputs": [
    {
     "data": {
      "application/vnd.jupyter.widget-view+json": {
       "model_id": "69d3a576120c4cc7901bd3e2386ae8a7",
       "version_major": 2,
       "version_minor": 0
      },
      "text/plain": [
       "HBox(children=(Play(value=50, description='Press play', interval=500), IntSlider(value=0)))"
      ]
     },
     "metadata": {},
     "output_type": "display_data"
    }
   ],
   "source": [
    "# fig = oad.wing_drawing_plot(OUTPUT_FILE,name=\"Falsp and slats on the aircraft wings\")\n",
    "# fig.show()\n",
    "\n",
    "oad.wing_drawing_plot2(OUTPUT_FILE, name=\"belle\")\n",
    "\n",
    "\n",
    "# fig4 = oad.wing_drawing_plot2(OUTPUT_FILE,name=\"beau\")[1]\n",
    "# fig4.show()"
   ]
  }
 ],
 "metadata": {
  "kernelspec": {
   "display_name": "Python 3 (ipykernel)",
   "language": "python",
   "name": "python3"
  },
  "language_info": {
   "codemirror_mode": {
    "name": "ipython",
    "version": 3
   },
   "file_extension": ".py",
   "mimetype": "text/x-python",
   "name": "python",
   "nbconvert_exporter": "python",
   "pygments_lexer": "ipython3",
   "version": "3.8.13"
  }
 },
 "nbformat": 4,
 "nbformat_minor": 5
}
