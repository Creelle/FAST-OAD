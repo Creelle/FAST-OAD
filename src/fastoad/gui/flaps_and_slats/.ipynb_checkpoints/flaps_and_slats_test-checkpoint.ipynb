{
 "cells": [
  {
   "cell_type": "raw",
   "id": "2dcb0429",
   "metadata": {},
   "source": [
    "# FAST-OAD Postprocessing flaps and slats plot\n",
    "FAST-OAD is a framework for performing rapid Overall Aircraft Design. The computational core of FAST-OAD is based on the  [OpenMDAO framework](https://openmdao.org/).\n",
    "\n",
    "\n",
    "\n",
    "This notebook will show you the basic postprocessing features that FAST-OAD offers.\n",
    "\n",
    "**Note: The 01_tutorial notebook has to be run to generate the results files used in this postprocessing notebook**\n",
    "\n",
    "*Tip: hover your mouse pointer over any plot to inspect it or get menu to manipulate it*"
   ]
  },
  {
   "cell_type": "code",
   "execution_count": null,
   "id": "d288be96",
   "metadata": {},
   "outputs": [],
   "source": [
    "import os.path as pth\n",
    "import fastoad.api as oad"
   ]
  },
  {
   "cell_type": "code",
   "execution_count": null,
   "id": "f86ba448",
   "metadata": {},
   "outputs": [],
   "source": [
    "# OUTPUT file (and no configuration)\n",
    "DATA_FOLDER_PATH = \"data\"\n",
    "OUTPUT_FILE = pth.join(DATA_FOLDER_PATH, \"problem_outputs.xml\")"
   ]
  },
  {
   "cell_type": "code",
   "execution_count": null,
   "id": "1d9f47df",
   "metadata": {},
   "outputs": [],
   "source": [
    "fig = oad.slats_plot(OUTPUT_FILE, name=\"Slats on the aircraft wings\")\n",
    "fig.show()"
   ]
  },
  {
   "cell_type": "code",
   "execution_count": null,
   "id": "ed6ea878",
   "metadata": {},
   "outputs": [],
   "source": [
    "oad.variable_viewer(OUTPUT_FILE)"
   ]
  },
  {
   "cell_type": "code",
   "execution_count": null,
   "id": "373917e5",
   "metadata": {},
   "outputs": [],
   "source": [
    "df = oad.VariableViewer()  # instantiation of dataframe\n",
    "df.load(OUTPUT_FILE)  # load the file\n",
    "df.display()  # renders a ui for reading/modifying the file"
   ]
  },
  {
   "cell_type": "code",
   "execution_count": null,
   "id": "dc823ebd",
   "metadata": {},
   "outputs": [],
   "source": []
  },
  {
   "cell_type": "code",
   "execution_count": null,
   "id": "837286ef",
   "metadata": {},
   "outputs": [],
   "source": []
  }
 ],
 "metadata": {
  "kernelspec": {
   "display_name": "Python 3 (ipykernel)",
   "language": "python",
   "name": "python3"
  },
  "language_info": {
   "codemirror_mode": {
    "name": "ipython",
    "version": 3
   },
   "file_extension": ".py",
   "mimetype": "text/x-python",
   "name": "python",
   "nbconvert_exporter": "python",
   "pygments_lexer": "ipython3",
   "version": "3.8.13"
  }
 },
 "nbformat": 4,
 "nbformat_minor": 5
}
