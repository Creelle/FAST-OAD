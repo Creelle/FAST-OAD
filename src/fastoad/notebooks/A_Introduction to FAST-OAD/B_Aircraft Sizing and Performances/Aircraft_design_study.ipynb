{
 "cells": [
  {
   "cell_type": "markdown",
   "id": "41e48507",
   "metadata": {},
   "source": [
    "<div class=\"row\">\n",
    "  <div class=\"column\">\n",
    "    <img src=\"./img/logo-onera.png\" width=\"200\">\n",
    "  </div>\n",
    "  <div class=\"column\">\n",
    "    <img src=\"./img/logo-ISAE_SUPAERO.png\" width=\"200\">\n",
    "  </div>\n",
    "</div>"
   ]
  },
  {
   "cell_type": "markdown",
   "id": "f243b7ed",
   "metadata": {},
   "source": [
    "# Using FAST-OAD for the sizing and study of the aircraft"
   ]
  },
  {
   "cell_type": "markdown",
   "id": "e61179c0",
   "metadata": {
    "tags": []
   },
   "source": [
    "This notebooks aims to show you how FAST-OAD can be used to analyse the design of an aircraft and its performance on other mission than the design one. It will also aims to start a reflection on the performance difference between an aircraft used on a shorter mission and an aircraft used on its design mission.\n",
    "\n",
    "***\n",
    "***\n",
    "## Imports"
   ]
  },
  {
   "cell_type": "code",
   "execution_count": 22,
   "id": "458b61ef",
   "metadata": {},
   "outputs": [],
   "source": [
    "import os.path as pth\n",
    "import sys\n",
    "import logging\n",
    "import shutil\n",
    "import warnings\n",
    "\n",
    "warnings.filterwarnings(action='ignore')\n",
    "\n",
    "import openmdao.api as om\n",
    "\n",
    "import fastoad.api as oad\n",
    "\n",
    "sys.path.append(pth.abspath(\".\"))"
   ]
  },
  {
   "cell_type": "markdown",
   "id": "e27c4e9a",
   "metadata": {},
   "source": [
    "## Working directories and reference files \n",
    "Here you can define your working directory and data storage folder as well as reference files names. "
   ]
  },
  {
   "cell_type": "code",
   "execution_count": 23,
   "id": "158ac70b",
   "metadata": {},
   "outputs": [],
   "source": [
    "logging.basicConfig(level=logging.INFO, format=\"%(levelname)-8s: %(message)s\")\n",
    "\n",
    "DATA_FOLDER_PATH = \"data\"\n",
    "\n",
    "WORK_FOLDER_PATH = \"workdir\"\n",
    "\n",
    "SOURCE_FILE = pth.join(DATA_FOLDER_PATH, \"Aircraft_reference_data.xml\")"
   ]
  },
  {
   "cell_type": "markdown",
   "id": "af63cc5c",
   "metadata": {},
   "source": [
    "## Sizing of the aircraft\n",
    "\n",
    "For the first part of this notebook, you will need to verify the sizing of your aircraft using FAST-OAD. To do so we will use a different way to compute the mission that the one used in the tutorials. In the tutorial, a simple Breguet formula was used, here we will use the mission file (It was possible to use it in the first tutorial, a comment made mention of it). This file allows you to describe segment after segment the mission you want your aircraft to fly. \n",
    "\n",
    "### 1.1. The mission file\n",
    "\n",
    "You will use the mission module to compute the fuel consumption over a specified mission. Therefore, you need to define the different phases your mission is composed of. That operation is done through the YAML [mission file](./data/design_mission.yml). If you have a closer look to this file, you will notice that it starts with a definition of the different flight phases (initial climb, climb, descent, holding, taxi) for which one or several flight parameter(s) is (are) varying.\n",
    "\n",
    "For exemple, for the initial climb phase, the first segment is performed at iso-speed with a variation of altitude up to 400ft, then a second segment defines an acceleration at iso-altitude up to 250kt and a third segment at iso-speed and targetting an altitude of 15000ft completes this phase.\n",
    "\n",
    "Each phases are then organised and completed with a cruise phase to form a route. Several routes can then be combined to form a mission profile. \n",
    "\n",
    "Each mission profile should have a unique name.\n",
    "\n",
    "For further information about the mission definition, please see the [official documentation](https://fast-oad.readthedocs.io/en/documentation/mission_module/index.html).\n",
    "\n",
    "### 1.2. The configuration file\n",
    "\n",
    "As already mentioned, the [configuration file](./data/oad_sizing.yml) you are using enables you run the full OAD sizing process. Here a particular attention is paid on the performance module definition. \n",
    "\n",
    "First, in this section, you will call the [mission file](./data/design_mission.yml) you want to use through the `mission_file_path` option. You will then indicate which mission profile to select accordingly to the naming convention you chose in the mission file. This is done using the `mission_name` option. In the present situation you will compute performances for the mission called `MTOW_mission`. \n",
    "\n",
    "Note also that the option `is_sizing` of the performance group is active. That means that the mission TOW computed by the performance module is considered as the design Maximum Take-Off Weight and will impact the aircraft design. \n",
    "\n",
    "You can also notice that the option `add_solver` is deactivated as solvers are already defined for the whole problem in the [configuration file](./data/oad_sizing.yml)."
   ]
  },
  {
   "cell_type": "code",
   "execution_count": 24,
   "id": "2ce8825a",
   "metadata": {},
   "outputs": [],
   "source": [
    "OAD_CONFIGURATION_FILE = pth.join(DATA_FOLDER_PATH, \"oad_sizing.yml\")"
   ]
  },
  {
   "cell_type": "markdown",
   "id": "0ad94e2d",
   "metadata": {},
   "source": [
    "### 1.3. The input file\n",
    "You can now generate the input file and fill out the values that corresponds to your aircraft. If you look into the file you will see that some of the value have already been filled by the default values, you will need to change those to match the value of the aircraft. First, let's generate this input file."
   ]
  },
  {
   "cell_type": "code",
   "execution_count": 25,
   "id": "4afbfb45",
   "metadata": {},
   "outputs": [
    {
     "name": "stderr",
     "output_type": "stream",
     "text": [
      "INFO    : Problem inputs written in c:\\Users\\robbe\\Documents\\GitHub\\Aircraft-Design-2A\\B_Aircraft Sizing and Performances\\workdir\\oad_sizing_in.xml\n"
     ]
    },
    {
     "data": {
      "application/vnd.jupyter.widget-view+json": {
       "model_id": "a9fe331591754bf3bb40beadec2532f6",
       "version_major": 2,
       "version_minor": 0
      },
      "text/plain": [
       "VBox(children=(HBox(children=(Button(description='Load', icon='upload', style=ButtonStyle(), tooltip='Load the…"
      ]
     },
     "metadata": {},
     "output_type": "display_data"
    }
   ],
   "source": [
    "INPUT_FILE = oad.generate_inputs(OAD_CONFIGURATION_FILE, SOURCE_FILE, overwrite=True)\n",
    "\n",
    "oad.variable_viewer(INPUT_FILE)"
   ]
  },
  {
   "cell_type": "markdown",
   "id": "40bd80dd",
   "metadata": {},
   "source": [
    "Some of them might not be known, you can keep the default value for them. However, you need to fill out the values in the following cell so that the process does not take the default value rather than the one that correspond to your aircraft. <code style=\"background:yellow;color:black\">To find in which unit you must fill your values, we have listed the problem variables in the cell above</code>. There might be some adjustement to make to find the right values on some parameters. For instance the thickness-to-chord ratio is omputed in FAST-OAD using a formula base on the cruise mach and wing sweep angle. This formula however uses empirical coefficient which depends a lot on the airfoil technology so it might be wrong for new and/or old aircraft. The cruise mach being an important design parameters, the sweep angle could be changed a little in this case."
   ]
  },
  {
   "cell_type": "code",
   "execution_count": 28,
   "id": "d77416cf",
   "metadata": {},
   "outputs": [],
   "source": [
    "input_file = oad.DataFile(INPUT_FILE)\n",
    "\n",
    "# TLARs\n",
    "input_file[\"data:TLAR:NPAX\"].value = 291\n",
    "input_file[\"data:TLAR:approach_speed\"].value = 67.097\n",
    "input_file[\"data:TLAR:cruise_mach\"].value = 0.81\n",
    "input_file[\"data:TLAR:range\"].value = 5760\n",
    "\n",
    "# Geometry\n",
    "input_file[\"data:geometry:cabin:aisle_width\"].value = 0.508\n",
    "input_file[\"data:geometry:cabin:seats:economical:count_by_row\"].value = 7\n",
    "input_file[\"data:geometry:cabin:seats:economical:length\"].value = 0.812\n",
    "input_file[\"data:geometry:cabin:seats:economical:width\"].value = 0.533\n",
    "\n",
    "input_file[\"data:geometry:flap:chord_ratio\"].value =0.197\n",
    "input_file[\"data:geometry:flap:span_ratio\"].value = 0.8\n",
    "\n",
    "input_file[\"data:geometry:horizontal_tail:aspect_ratio\"].value = 4.46\n",
    "input_file[\"data:geometry:horizontal_tail:sweep_25\"].value = 32\n",
    "input_file[\"data:geometry:horizontal_tail:taper_ratio\"].value = 0.2\n",
    "input_file[\"data:geometry:horizontal_tail:thickness_ratio\"].value = 0.1\n",
    "\n",
    "input_file[\"data:geometry:propulsion:engine:y_ratio\"].value = 0.34\n",
    "\n",
    "input_file[\"data:geometry:vertical_tail:aspect_ratio\"].value = 1.76\n",
    "input_file[\"data:geometry:vertical_tail:sweep_25\"].value =39\n",
    "input_file[\"data:geometry:vertical_tail:taper_ratio\"].value = 0.31\n",
    "input_file[\"data:geometry:vertical_tail:thickness_ratio\"].value = 0.11\n",
    "\n",
    "input_file[\"data:geometry:wing:aspect_ratio\"].value = 7.99\n",
    "input_file[\"data:geometry:wing:sweep_25\"].value =29.5\n",
    "input_file[\"data:geometry:wing:kink:span_ratio\"].value =0.375\n",
    "input_file[\"data:geometry:wing:virtual_taper_ratio\"].value = 0.315# Put arround 1.5 * the actual wing taper ratio\n",
    "input_file[\"data:geometry:wing:MAC:at25percent:x\"].value = 25.13\n",
    "\n",
    "# Propulsion\n",
    "input_file[\"data:propulsion:MTO_thrust\"].value = 270000\n",
    "\n",
    "input_file[\"data:propulsion:rubber_engine:design_altitude\"].value = 10058.4\n",
    "input_file[\"data:propulsion:rubber_engine:maximum_mach\"].value =0.81\n",
    "input_file[\"data:propulsion:rubber_engine:overall_pressure_ratio\"].value =32.6\n",
    "\n",
    "# Weight\n",
    "input_file[\"data:weight:aircraft:max_payload\"].value = 45541\n",
    "input_file[\"data:weight:aircraft:payload\"].value = 20520\n",
    "\n",
    "# Mission\n",
    "input_file[\"data:mission:MTOW_mission:diversion:distance\"].value = 200\n",
    "input_file[\"data:mission:MTOW_mission:holding:duration\"].value = 30\n",
    "input_file[\"data:mission:MTOW_mission:main_route:range\"].value = 5780\n",
    "input_file[\"data:mission:MTOW_mission:takeoff:V2\"].value = 82.3\n",
    "input_file[\"data:mission:MTOW_mission:takeoff:fuel\"].value = 82.4\n",
    "\n",
    "input_file[\"data:mission:sizing:takeoff:flap_angle\"].value = 10\n",
    "input_file[\"data:mission:sizing:takeoff:slat_angle\"].value = 22\n",
    "input_file[\"data:mission:sizing:landing:flap_angle\"].value = 40\n",
    "input_file[\"data:mission:sizing:landing:slat_angle\"].value = 22\n",
    "input_file[\"data:mission:sizing:main_route:cruise:altitude\"].value = 34000\n",
    "\n",
    "# The motor model is very sensitive to the input, this is the reason why there might be a great over- or under-estimation of \n",
    "# the sfc in cruise. For this reason we propose to first run the aircraft without any tuning and to then adjust the sfc based \n",
    "# on the results of the first run. You can change the following value after your first run:\n",
    "\n",
    "input_file[\"tuning:propulsion:rubber_engine:SFC:k_cr\"].value = 0.80681\n",
    "\n",
    "input_file.save()"
   ]
  },
  {
   "cell_type": "markdown",
   "id": "aed257b0",
   "metadata": {},
   "source": [
    "You can check that the inputs are correctly written by using the following command:"
   ]
  },
  {
   "cell_type": "code",
   "execution_count": 29,
   "id": "4d7a4a47",
   "metadata": {},
   "outputs": [
    {
     "data": {
      "application/vnd.jupyter.widget-view+json": {
       "model_id": "70ad7aa56ad14290949a636ed3cf32fa",
       "version_major": 2,
       "version_minor": 0
      },
      "text/plain": [
       "VBox(children=(HBox(children=(Button(description='Load', icon='upload', style=ButtonStyle(), tooltip='Load the…"
      ]
     },
     "metadata": {},
     "output_type": "display_data"
    }
   ],
   "source": [
    "oad.variable_viewer(INPUT_FILE)"
   ]
  },
  {
   "cell_type": "markdown",
   "id": "8837ff0f",
   "metadata": {},
   "source": [
    "### 1.4. Run the OAD process\n",
    "\n",
    "Now, run the problem and check the output file:"
   ]
  },
  {
   "cell_type": "code",
   "execution_count": 30,
   "id": "91647ca3",
   "metadata": {},
   "outputs": [
    {
     "name": "stderr",
     "output_type": "stream",
     "text": [
      "INFO    : Mission computation - iteration 0 : Using initializer computation. OTHER ITERATIONS NEEDED.\n",
      "INFO    : Mission computation - iteration 1 : Using mission definition.\n",
      "WARNING : Target cannot be reached in \"MTOW_mission:main_route:descent\". Segment computation interrupted.Please review the segment settings, especially thrust_rate.\n",
      "WARNING : Target cannot be reached in \"MTOW_mission:main_route:descent\". Segment computation interrupted.Please review the segment settings, especially thrust_rate.\n",
      "WARNING : Target cannot be reached in \"MTOW_mission:main_route:descent\". Segment computation interrupted.Please review the segment settings, especially thrust_rate.\n",
      "WARNING : Target cannot be reached in \"MTOW_mission:main_route:descent\". Segment computation interrupted.Please review the segment settings, especially thrust_rate.\n",
      "WARNING : Target cannot be reached in \"MTOW_mission:main_route:descent\". Segment computation interrupted.Please review the segment settings, especially thrust_rate.\n",
      "WARNING : Target cannot be reached in \"MTOW_mission:diversion:descent\". Segment computation interrupted.Please review the segment settings, especially thrust_rate.\n",
      "WARNING : Target cannot be reached in \"MTOW_mission:diversion:descent\". Segment computation interrupted.Please review the segment settings, especially thrust_rate.\n",
      "WARNING : Target cannot be reached in \"MTOW_mission:diversion:descent\". Segment computation interrupted.Please review the segment settings, especially thrust_rate.\n",
      "WARNING : Target cannot be reached in \"MTOW_mission:diversion:descent\". Segment computation interrupted.Please review the segment settings, especially thrust_rate.\n",
      "WARNING : Target cannot be reached in \"MTOW_mission:diversion:descent\". Segment computation interrupted.Please review the segment settings, especially thrust_rate.\n",
      "WARNING : Target cannot be reached in \"MTOW_mission:diversion:cruise\". Segment computation interrupted.Please review the segment settings, especially thrust_rate.\n",
      "WARNING : Target cannot be reached in \"MTOW_mission:diversion:descent\". Segment computation interrupted.Please review the segment settings, especially thrust_rate.\n",
      "WARNING : Target cannot be reached in \"MTOW_mission:diversion:cruise\". Segment computation interrupted.Please review the segment settings, especially thrust_rate.\n",
      "WARNING : Target cannot be reached in \"MTOW_mission:diversion:descent\". Segment computation interrupted.Please review the segment settings, especially thrust_rate.\n",
      "INFO    : Mission computation - iteration 2 : Using mission definition.\n",
      "WARNING : Target cannot be reached in \"MTOW_mission:main_route:descent\". Segment computation interrupted.Please review the segment settings, especially thrust_rate.\n",
      "WARNING : Target cannot be reached in \"MTOW_mission:diversion:descent\". Segment computation interrupted.Please review the segment settings, especially thrust_rate.\n",
      "WARNING : Target cannot be reached in \"MTOW_mission:diversion:descent\". Segment computation interrupted.Please review the segment settings, especially thrust_rate.\n",
      "WARNING : Target cannot be reached in \"MTOW_mission:diversion:descent\". Segment computation interrupted.Please review the segment settings, especially thrust_rate.\n",
      "WARNING : Target cannot be reached in \"MTOW_mission:diversion:descent\". Segment computation interrupted.Please review the segment settings, especially thrust_rate.\n",
      "WARNING : Target cannot be reached in \"MTOW_mission:diversion:descent\". Segment computation interrupted.Please review the segment settings, especially thrust_rate.\n",
      "WARNING : Target cannot be reached in \"MTOW_mission:diversion:cruise\". Segment computation interrupted.Please review the segment settings, especially thrust_rate.\n",
      "WARNING : Target cannot be reached in \"MTOW_mission:diversion:descent\". Segment computation interrupted.Please review the segment settings, especially thrust_rate.\n",
      "WARNING : Target cannot be reached in \"MTOW_mission:diversion:cruise\". Segment computation interrupted.Please review the segment settings, especially thrust_rate.\n",
      "WARNING : Target cannot be reached in \"MTOW_mission:diversion:descent\". Segment computation interrupted.Please review the segment settings, especially thrust_rate.\n",
      "INFO    : Mission computation - iteration 3 : Using mission definition.\n",
      "WARNING : Target cannot be reached in \"MTOW_mission:diversion:descent\". Segment computation interrupted.Please review the segment settings, especially thrust_rate.\n",
      "WARNING : Target cannot be reached in \"MTOW_mission:diversion:descent\". Segment computation interrupted.Please review the segment settings, especially thrust_rate.\n",
      "WARNING : Target cannot be reached in \"MTOW_mission:diversion:cruise\". Segment computation interrupted.Please review the segment settings, especially thrust_rate.\n",
      "WARNING : Target cannot be reached in \"MTOW_mission:diversion:cruise\". Segment computation interrupted.Please review the segment settings, especially thrust_rate.\n",
      "INFO    : Mission computation - iteration 4 : Using mission definition.\n",
      "WARNING : Target cannot be reached in \"MTOW_mission:diversion:descent\". Segment computation interrupted.Please review the segment settings, especially thrust_rate.\n",
      "WARNING : Target cannot be reached in \"MTOW_mission:diversion:descent\". Segment computation interrupted.Please review the segment settings, especially thrust_rate.\n",
      "WARNING : Target cannot be reached in \"MTOW_mission:diversion:cruise\". Segment computation interrupted.Please review the segment settings, especially thrust_rate.\n",
      "WARNING : Target cannot be reached in \"MTOW_mission:diversion:cruise\". Segment computation interrupted.Please review the segment settings, especially thrust_rate.\n",
      "INFO    : Mission computation - iteration 5 : Using mission definition.\n",
      "WARNING : Target cannot be reached in \"MTOW_mission:diversion:descent\". Segment computation interrupted.Please review the segment settings, especially thrust_rate.\n",
      "WARNING : Target cannot be reached in \"MTOW_mission:diversion:descent\". Segment computation interrupted.Please review the segment settings, especially thrust_rate.\n",
      "WARNING : Target cannot be reached in \"MTOW_mission:diversion:cruise\". Segment computation interrupted.Please review the segment settings, especially thrust_rate.\n",
      "WARNING : Target cannot be reached in \"MTOW_mission:diversion:cruise\". Segment computation interrupted.Please review the segment settings, especially thrust_rate.\n",
      "INFO    : Mission computation - iteration 6 : Using mission definition.\n",
      "WARNING : Target cannot be reached in \"MTOW_mission:diversion:descent\". Segment computation interrupted.Please review the segment settings, especially thrust_rate.\n",
      "WARNING : Target cannot be reached in \"MTOW_mission:diversion:descent\". Segment computation interrupted.Please review the segment settings, especially thrust_rate.\n",
      "WARNING : Target cannot be reached in \"MTOW_mission:diversion:cruise\". Segment computation interrupted.Please review the segment settings, especially thrust_rate.\n",
      "WARNING : Target cannot be reached in \"MTOW_mission:diversion:cruise\". Segment computation interrupted.Please review the segment settings, especially thrust_rate.\n",
      "INFO    : Mission computation - iteration 7 : Using mission definition.\n",
      "WARNING : Target cannot be reached in \"MTOW_mission:diversion:descent\". Segment computation interrupted.Please review the segment settings, especially thrust_rate.\n",
      "WARNING : Target cannot be reached in \"MTOW_mission:diversion:descent\". Segment computation interrupted.Please review the segment settings, especially thrust_rate.\n",
      "WARNING : Target cannot be reached in \"MTOW_mission:diversion:cruise\". Segment computation interrupted.Please review the segment settings, especially thrust_rate.\n",
      "WARNING : Target cannot be reached in \"MTOW_mission:diversion:cruise\". Segment computation interrupted.Please review the segment settings, especially thrust_rate.\n",
      "INFO    : Mission computation - iteration 8 : Using mission definition.\n",
      "WARNING : Target cannot be reached in \"MTOW_mission:diversion:descent\". Segment computation interrupted.Please review the segment settings, especially thrust_rate.\n",
      "WARNING : Target cannot be reached in \"MTOW_mission:diversion:descent\". Segment computation interrupted.Please review the segment settings, especially thrust_rate.\n",
      "WARNING : Target cannot be reached in \"MTOW_mission:diversion:cruise\". Segment computation interrupted.Please review the segment settings, especially thrust_rate.\n",
      "WARNING : Target cannot be reached in \"MTOW_mission:diversion:cruise\". Segment computation interrupted.Please review the segment settings, especially thrust_rate.\n",
      "INFO    : Mission computation - iteration 9 : Using mission definition.\n",
      "WARNING : Target cannot be reached in \"MTOW_mission:diversion:descent\". Segment computation interrupted.Please review the segment settings, especially thrust_rate.\n",
      "WARNING : Target cannot be reached in \"MTOW_mission:diversion:descent\". Segment computation interrupted.Please review the segment settings, especially thrust_rate.\n",
      "WARNING : Target cannot be reached in \"MTOW_mission:diversion:cruise\". Segment computation interrupted.Please review the segment settings, especially thrust_rate.\n",
      "WARNING : Target cannot be reached in \"MTOW_mission:diversion:cruise\". Segment computation interrupted.Please review the segment settings, especially thrust_rate.\n",
      "INFO    : Mission computation - iteration 10 : Using mission definition.\n",
      "WARNING : Target cannot be reached in \"MTOW_mission:diversion:descent\". Segment computation interrupted.Please review the segment settings, especially thrust_rate.\n",
      "WARNING : Target cannot be reached in \"MTOW_mission:diversion:descent\". Segment computation interrupted.Please review the segment settings, especially thrust_rate.\n",
      "WARNING : Target cannot be reached in \"MTOW_mission:diversion:cruise\". Segment computation interrupted.Please review the segment settings, especially thrust_rate.\n",
      "WARNING : Target cannot be reached in \"MTOW_mission:diversion:cruise\". Segment computation interrupted.Please review the segment settings, especially thrust_rate.\n",
      "INFO    : Mission computation - iteration 11 : Using mission definition.\n",
      "WARNING : Target cannot be reached in \"MTOW_mission:diversion:descent\". Segment computation interrupted.Please review the segment settings, especially thrust_rate.\n",
      "WARNING : Target cannot be reached in \"MTOW_mission:diversion:descent\". Segment computation interrupted.Please review the segment settings, especially thrust_rate.\n",
      "WARNING : Target cannot be reached in \"MTOW_mission:diversion:cruise\". Segment computation interrupted.Please review the segment settings, especially thrust_rate.\n",
      "WARNING : Target cannot be reached in \"MTOW_mission:diversion:cruise\". Segment computation interrupted.Please review the segment settings, especially thrust_rate.\n",
      "INFO    : Mission computation - iteration 12 : Using mission definition.\n",
      "WARNING : Target cannot be reached in \"MTOW_mission:diversion:descent\". Segment computation interrupted.Please review the segment settings, especially thrust_rate.\n",
      "WARNING : Target cannot be reached in \"MTOW_mission:diversion:descent\". Segment computation interrupted.Please review the segment settings, especially thrust_rate.\n",
      "WARNING : Target cannot be reached in \"MTOW_mission:diversion:cruise\". Segment computation interrupted.Please review the segment settings, especially thrust_rate.\n",
      "WARNING : Target cannot be reached in \"MTOW_mission:diversion:cruise\". Segment computation interrupted.Please review the segment settings, especially thrust_rate.\n",
      "INFO    : Mission computation - iteration 13 : Using mission definition.\n",
      "WARNING : Target cannot be reached in \"MTOW_mission:diversion:descent\". Segment computation interrupted.Please review the segment settings, especially thrust_rate.\n",
      "WARNING : Target cannot be reached in \"MTOW_mission:diversion:descent\". Segment computation interrupted.Please review the segment settings, especially thrust_rate.\n",
      "WARNING : Target cannot be reached in \"MTOW_mission:diversion:cruise\". Segment computation interrupted.Please review the segment settings, especially thrust_rate.\n",
      "WARNING : Target cannot be reached in \"MTOW_mission:diversion:cruise\". Segment computation interrupted.Please review the segment settings, especially thrust_rate.\n",
      "INFO    : Mission computation - iteration 14 : Using mission definition.\n",
      "WARNING : Target cannot be reached in \"MTOW_mission:diversion:descent\". Segment computation interrupted.Please review the segment settings, especially thrust_rate.\n",
      "WARNING : Target cannot be reached in \"MTOW_mission:diversion:descent\". Segment computation interrupted.Please review the segment settings, especially thrust_rate.\n",
      "WARNING : Target cannot be reached in \"MTOW_mission:diversion:cruise\". Segment computation interrupted.Please review the segment settings, especially thrust_rate.\n",
      "WARNING : Target cannot be reached in \"MTOW_mission:diversion:cruise\". Segment computation interrupted.Please review the segment settings, especially thrust_rate.\n",
      "INFO    : Mission computation - iteration 15 : Using mission definition.\n",
      "WARNING : Target cannot be reached in \"MTOW_mission:diversion:descent\". Segment computation interrupted.Please review the segment settings, especially thrust_rate.\n",
      "WARNING : Target cannot be reached in \"MTOW_mission:diversion:descent\". Segment computation interrupted.Please review the segment settings, especially thrust_rate.\n",
      "WARNING : Target cannot be reached in \"MTOW_mission:diversion:cruise\". Segment computation interrupted.Please review the segment settings, especially thrust_rate.\n",
      "WARNING : Target cannot be reached in \"MTOW_mission:diversion:cruise\". Segment computation interrupted.Please review the segment settings, especially thrust_rate.\n",
      "INFO    : Mission computation - iteration 16 : Using mission definition.\n",
      "WARNING : Target cannot be reached in \"MTOW_mission:diversion:descent\". Segment computation interrupted.Please review the segment settings, especially thrust_rate.\n",
      "WARNING : Target cannot be reached in \"MTOW_mission:diversion:descent\". Segment computation interrupted.Please review the segment settings, especially thrust_rate.\n",
      "WARNING : Target cannot be reached in \"MTOW_mission:diversion:cruise\". Segment computation interrupted.Please review the segment settings, especially thrust_rate.\n",
      "WARNING : Target cannot be reached in \"MTOW_mission:diversion:cruise\". Segment computation interrupted.Please review the segment settings, especially thrust_rate.\n",
      "INFO    : Mission computation - iteration 17 : Using mission definition.\n",
      "WARNING : Target cannot be reached in \"MTOW_mission:diversion:descent\". Segment computation interrupted.Please review the segment settings, especially thrust_rate.\n",
      "WARNING : Target cannot be reached in \"MTOW_mission:diversion:descent\". Segment computation interrupted.Please review the segment settings, especially thrust_rate.\n",
      "WARNING : Target cannot be reached in \"MTOW_mission:diversion:cruise\". Segment computation interrupted.Please review the segment settings, especially thrust_rate.\n",
      "WARNING : Target cannot be reached in \"MTOW_mission:diversion:cruise\". Segment computation interrupted.Please review the segment settings, especially thrust_rate.\n",
      "INFO    : Mission computation - iteration 18 : Using mission definition.\n",
      "WARNING : Target cannot be reached in \"MTOW_mission:diversion:descent\". Segment computation interrupted.Please review the segment settings, especially thrust_rate.\n",
      "WARNING : Target cannot be reached in \"MTOW_mission:diversion:descent\". Segment computation interrupted.Please review the segment settings, especially thrust_rate.\n",
      "WARNING : Target cannot be reached in \"MTOW_mission:diversion:cruise\". Segment computation interrupted.Please review the segment settings, especially thrust_rate.\n",
      "WARNING : Target cannot be reached in \"MTOW_mission:diversion:cruise\". Segment computation interrupted.Please review the segment settings, especially thrust_rate.\n",
      "INFO    : Mission computation - iteration 19 : Using mission definition.\n",
      "WARNING : Target cannot be reached in \"MTOW_mission:diversion:descent\". Segment computation interrupted.Please review the segment settings, especially thrust_rate.\n",
      "WARNING : Target cannot be reached in \"MTOW_mission:diversion:descent\". Segment computation interrupted.Please review the segment settings, especially thrust_rate.\n",
      "WARNING : Target cannot be reached in \"MTOW_mission:diversion:cruise\". Segment computation interrupted.Please review the segment settings, especially thrust_rate.\n",
      "WARNING : Target cannot be reached in \"MTOW_mission:diversion:cruise\". Segment computation interrupted.Please review the segment settings, especially thrust_rate.\n",
      "INFO    : Mission computation - iteration 20 : Using mission definition.\n",
      "WARNING : Target cannot be reached in \"MTOW_mission:diversion:descent\". Segment computation interrupted.Please review the segment settings, especially thrust_rate.\n",
      "WARNING : Target cannot be reached in \"MTOW_mission:diversion:descent\". Segment computation interrupted.Please review the segment settings, especially thrust_rate.\n",
      "WARNING : Target cannot be reached in \"MTOW_mission:diversion:cruise\". Segment computation interrupted.Please review the segment settings, especially thrust_rate.\n",
      "WARNING : Target cannot be reached in \"MTOW_mission:diversion:cruise\". Segment computation interrupted.Please review the segment settings, especially thrust_rate.\n",
      "INFO    : Mission computation - iteration 21 : Using mission definition.\n",
      "WARNING : Target cannot be reached in \"MTOW_mission:diversion:descent\". Segment computation interrupted.Please review the segment settings, especially thrust_rate.\n",
      "WARNING : Target cannot be reached in \"MTOW_mission:diversion:descent\". Segment computation interrupted.Please review the segment settings, especially thrust_rate.\n",
      "WARNING : Target cannot be reached in \"MTOW_mission:diversion:cruise\". Segment computation interrupted.Please review the segment settings, especially thrust_rate.\n",
      "WARNING : Target cannot be reached in \"MTOW_mission:diversion:cruise\". Segment computation interrupted.Please review the segment settings, especially thrust_rate.\n",
      "INFO    : Mission computation - iteration 22 : Using mission definition.\n",
      "WARNING : Target cannot be reached in \"MTOW_mission:diversion:descent\". Segment computation interrupted.Please review the segment settings, especially thrust_rate.\n",
      "WARNING : Target cannot be reached in \"MTOW_mission:diversion:descent\". Segment computation interrupted.Please review the segment settings, especially thrust_rate.\n",
      "WARNING : Target cannot be reached in \"MTOW_mission:diversion:cruise\". Segment computation interrupted.Please review the segment settings, especially thrust_rate.\n",
      "WARNING : Target cannot be reached in \"MTOW_mission:diversion:cruise\". Segment computation interrupted.Please review the segment settings, especially thrust_rate.\n",
      "INFO    : Mission computation - iteration 23 : Using mission definition.\n",
      "WARNING : Target cannot be reached in \"MTOW_mission:diversion:descent\". Segment computation interrupted.Please review the segment settings, especially thrust_rate.\n",
      "WARNING : Target cannot be reached in \"MTOW_mission:diversion:descent\". Segment computation interrupted.Please review the segment settings, especially thrust_rate.\n",
      "WARNING : Target cannot be reached in \"MTOW_mission:diversion:cruise\". Segment computation interrupted.Please review the segment settings, especially thrust_rate.\n",
      "WARNING : Target cannot be reached in \"MTOW_mission:diversion:cruise\". Segment computation interrupted.Please review the segment settings, especially thrust_rate.\n",
      "INFO    : Mission computation - iteration 24 : Using mission definition.\n",
      "WARNING : Target cannot be reached in \"MTOW_mission:diversion:descent\". Segment computation interrupted.Please review the segment settings, especially thrust_rate.\n",
      "WARNING : Target cannot be reached in \"MTOW_mission:diversion:descent\". Segment computation interrupted.Please review the segment settings, especially thrust_rate.\n",
      "WARNING : Target cannot be reached in \"MTOW_mission:diversion:cruise\". Segment computation interrupted.Please review the segment settings, especially thrust_rate.\n",
      "WARNING : Target cannot be reached in \"MTOW_mission:diversion:cruise\". Segment computation interrupted.Please review the segment settings, especially thrust_rate.\n",
      "INFO    : Mission computation - iteration 25 : Using mission definition.\n",
      "WARNING : Target cannot be reached in \"MTOW_mission:diversion:descent\". Segment computation interrupted.Please review the segment settings, especially thrust_rate.\n",
      "WARNING : Target cannot be reached in \"MTOW_mission:diversion:descent\". Segment computation interrupted.Please review the segment settings, especially thrust_rate.\n",
      "WARNING : Target cannot be reached in \"MTOW_mission:diversion:cruise\". Segment computation interrupted.Please review the segment settings, especially thrust_rate.\n",
      "WARNING : Target cannot be reached in \"MTOW_mission:diversion:cruise\". Segment computation interrupted.Please review the segment settings, especially thrust_rate.\n",
      "INFO    : Mission computation - iteration 26 : Using mission definition.\n",
      "WARNING : Target cannot be reached in \"MTOW_mission:diversion:descent\". Segment computation interrupted.Please review the segment settings, especially thrust_rate.\n",
      "WARNING : Target cannot be reached in \"MTOW_mission:diversion:descent\". Segment computation interrupted.Please review the segment settings, especially thrust_rate.\n",
      "WARNING : Target cannot be reached in \"MTOW_mission:diversion:cruise\". Segment computation interrupted.Please review the segment settings, especially thrust_rate.\n",
      "WARNING : Target cannot be reached in \"MTOW_mission:diversion:cruise\". Segment computation interrupted.Please review the segment settings, especially thrust_rate.\n",
      "INFO    : Mission computation - iteration 27 : Using mission definition.\n",
      "WARNING : Target cannot be reached in \"MTOW_mission:diversion:descent\". Segment computation interrupted.Please review the segment settings, especially thrust_rate.\n",
      "WARNING : Target cannot be reached in \"MTOW_mission:diversion:descent\". Segment computation interrupted.Please review the segment settings, especially thrust_rate.\n",
      "WARNING : Target cannot be reached in \"MTOW_mission:diversion:cruise\". Segment computation interrupted.Please review the segment settings, especially thrust_rate.\n",
      "WARNING : Target cannot be reached in \"MTOW_mission:diversion:cruise\". Segment computation interrupted.Please review the segment settings, especially thrust_rate.\n",
      "INFO    : Mission computation - iteration 28 : Using mission definition.\n",
      "WARNING : Target cannot be reached in \"MTOW_mission:diversion:descent\". Segment computation interrupted.Please review the segment settings, especially thrust_rate.\n",
      "WARNING : Target cannot be reached in \"MTOW_mission:diversion:descent\". Segment computation interrupted.Please review the segment settings, especially thrust_rate.\n",
      "WARNING : Target cannot be reached in \"MTOW_mission:diversion:cruise\". Segment computation interrupted.Please review the segment settings, especially thrust_rate.\n",
      "WARNING : Target cannot be reached in \"MTOW_mission:diversion:cruise\". Segment computation interrupted.Please review the segment settings, especially thrust_rate.\n",
      "INFO    : Mission computation - iteration 29 : Using mission definition.\n",
      "WARNING : Target cannot be reached in \"MTOW_mission:diversion:descent\". Segment computation interrupted.Please review the segment settings, especially thrust_rate.\n",
      "WARNING : Target cannot be reached in \"MTOW_mission:diversion:descent\". Segment computation interrupted.Please review the segment settings, especially thrust_rate.\n",
      "WARNING : Target cannot be reached in \"MTOW_mission:diversion:cruise\". Segment computation interrupted.Please review the segment settings, especially thrust_rate.\n",
      "WARNING : Target cannot be reached in \"MTOW_mission:diversion:cruise\". Segment computation interrupted.Please review the segment settings, especially thrust_rate.\n",
      "INFO    : Mission computation - iteration 30 : Using mission definition.\n",
      "WARNING : Target cannot be reached in \"MTOW_mission:diversion:descent\". Segment computation interrupted.Please review the segment settings, especially thrust_rate.\n",
      "WARNING : Target cannot be reached in \"MTOW_mission:diversion:descent\". Segment computation interrupted.Please review the segment settings, especially thrust_rate.\n",
      "WARNING : Target cannot be reached in \"MTOW_mission:diversion:cruise\". Segment computation interrupted.Please review the segment settings, especially thrust_rate.\n",
      "WARNING : Target cannot be reached in \"MTOW_mission:diversion:cruise\". Segment computation interrupted.Please review the segment settings, especially thrust_rate.\n",
      "INFO    : Mission computation - iteration 31 : Using mission definition.\n",
      "WARNING : Target cannot be reached in \"MTOW_mission:diversion:descent\". Segment computation interrupted.Please review the segment settings, especially thrust_rate.\n",
      "WARNING : Target cannot be reached in \"MTOW_mission:diversion:descent\". Segment computation interrupted.Please review the segment settings, especially thrust_rate.\n",
      "WARNING : Target cannot be reached in \"MTOW_mission:diversion:cruise\". Segment computation interrupted.Please review the segment settings, especially thrust_rate.\n",
      "WARNING : Target cannot be reached in \"MTOW_mission:diversion:cruise\". Segment computation interrupted.Please review the segment settings, especially thrust_rate.\n",
      "INFO    : Mission computation - iteration 32 : Using mission definition.\n",
      "WARNING : Target cannot be reached in \"MTOW_mission:diversion:descent\". Segment computation interrupted.Please review the segment settings, especially thrust_rate.\n",
      "WARNING : Target cannot be reached in \"MTOW_mission:diversion:descent\". Segment computation interrupted.Please review the segment settings, especially thrust_rate.\n",
      "WARNING : Target cannot be reached in \"MTOW_mission:diversion:cruise\". Segment computation interrupted.Please review the segment settings, especially thrust_rate.\n",
      "WARNING : Target cannot be reached in \"MTOW_mission:diversion:cruise\". Segment computation interrupted.Please review the segment settings, especially thrust_rate.\n",
      "INFO    : Mission computation - iteration 33 : Using mission definition.\n",
      "WARNING : Target cannot be reached in \"MTOW_mission:diversion:descent\". Segment computation interrupted.Please review the segment settings, especially thrust_rate.\n",
      "WARNING : Target cannot be reached in \"MTOW_mission:diversion:descent\". Segment computation interrupted.Please review the segment settings, especially thrust_rate.\n",
      "WARNING : Target cannot be reached in \"MTOW_mission:diversion:cruise\". Segment computation interrupted.Please review the segment settings, especially thrust_rate.\n",
      "WARNING : Target cannot be reached in \"MTOW_mission:diversion:cruise\". Segment computation interrupted.Please review the segment settings, especially thrust_rate.\n",
      "INFO    : Mission computation - iteration 34 : Using mission definition.\n",
      "WARNING : Target cannot be reached in \"MTOW_mission:diversion:descent\". Segment computation interrupted.Please review the segment settings, especially thrust_rate.\n",
      "WARNING : Target cannot be reached in \"MTOW_mission:diversion:descent\". Segment computation interrupted.Please review the segment settings, especially thrust_rate.\n",
      "WARNING : Target cannot be reached in \"MTOW_mission:diversion:cruise\". Segment computation interrupted.Please review the segment settings, especially thrust_rate.\n",
      "WARNING : Target cannot be reached in \"MTOW_mission:diversion:cruise\". Segment computation interrupted.Please review the segment settings, especially thrust_rate.\n"
     ]
    },
    {
     "name": "stdout",
     "output_type": "stream",
     "text": [
      "NL: NLBGS Converged in 35 iterations\n"
     ]
    },
    {
     "name": "stderr",
     "output_type": "stream",
     "text": [
      "WARNING : Variable \"data:propulsion:rubber_engine:turbine_inlet_temperature\" out of bound: value [1633.] degK is over upper limit ( 1600.0 ) in file C:\\Users\\robbe\\AppData\\Local\\Programs\\Python\\Python38\\lib\\site-packages\\fastoad_cs25\\models\\propulsion\\fuel_propulsion\\rubber_engine\\openmdao.py\n",
      "INFO    : Computation finished after 446.96 seconds\n",
      "INFO    : Problem outputs written in c:\\Users\\robbe\\Documents\\GitHub\\Aircraft-Design-2A\\B_Aircraft Sizing and Performances\\workdir\\oad_sizing_out.xml\n"
     ]
    }
   ],
   "source": [
    "MTOW_problem = oad.evaluate_problem(OAD_CONFIGURATION_FILE, overwrite=True)"
   ]
  },
  {
   "cell_type": "markdown",
   "id": "b6d05b59",
   "metadata": {
    "tags": []
   },
   "source": [
    "### 1.5. Results Analysis\n",
    "\n",
    "You can now print the output file and compare the results with he sizing obtained using Alcazar and with the reference data you found."
   ]
  },
  {
   "cell_type": "code",
   "execution_count": 31,
   "id": "bf6513f2",
   "metadata": {},
   "outputs": [
    {
     "data": {
      "application/vnd.jupyter.widget-view+json": {
       "model_id": "2a0abdbfca4b4c5199b5eae39d5e7dd0",
       "version_major": 2,
       "version_minor": 0
      },
      "text/plain": [
       "VBox(children=(HBox(children=(Button(description='Load', icon='upload', style=ButtonStyle(), tooltip='Load the…"
      ]
     },
     "metadata": {},
     "output_type": "display_data"
    }
   ],
   "source": [
    "oad.variable_viewer(MTOW_problem.output_file_path)"
   ]
  },
  {
   "cell_type": "markdown",
   "id": "1dda83a4",
   "metadata": {},
   "source": [
    "Particularly, check the Maximum Take Off Weight (MTOW), the Operating Weight Empty (OWE) and the fuel consumption on the aircraft on its design mission. Are there differences with the sizing done in Alcazar or with the actual values. Where do these might be coming from ? \n",
    "\n",
    "A more practical way is to use the visualisation tools that were presented in a previous tutorial to plot the mass breakdown and the aircraft geometry and compare them with the reference aircraft data. "
   ]
  },
  {
   "cell_type": "code",
   "execution_count": 66,
   "id": "827a2616",
   "metadata": {},
   "outputs": [
    {
     "data": {
      "application/vnd.plotly.v1+json": {
       "config": {
        "plotlyServerURL": "https://plot.ly"
       },
       "data": [
        {
         "branchvalues": "total",
         "domain": {
          "x": [
           0,
           0.45
          ],
          "y": [
           0,
           1
          ]
         },
         "labels": [
          "MTOW<br>183537 [kg]",
          "payload<br>20520 [kg] (11.2%)",
          "onboard_fuel_at_takeoff<br>64994 [kg] (35.4%)",
          "OWE<br>98023 [kg] (53.4%)"
         ],
         "parents": [
          "",
          "MTOW<br>183537 [kg]",
          "MTOW<br>183537 [kg]",
          "MTOW<br>183537 [kg]"
         ],
         "type": "sunburst",
         "values": [
          183537.42712499632,
          20520,
          64994.27937261651,
          98023.14777382529
         ]
        },
        {
         "branchvalues": "total",
         "domain": {
          "x": [
           0.55,
           1
          ],
          "y": [
           0,
           1
          ]
         },
         "labels": [
          "OWE<br>98023 [kg]",
          "airframe<br>60888 [kg] (62.1%)",
          "crew<br>770 [kg] (0.8%)",
          "furniture<br>6620 [kg] (6.8%)",
          "propulsion<br>15005 [kg] (15.3%)",
          "systems<br>14738 [kg] (15.0%)",
          "flight_controls",
          "fuselage",
          "horizontal_tail",
          "paint",
          "pylon",
          "vertical_tail",
          "wing",
          "landing_gear_front",
          "landing_gear_main",
          "food_water",
          "passenger_seats",
          "security_kit",
          "toilets",
          "engine",
          "fuel_lines",
          "unconsumables",
          "flight_kit",
          "navigation",
          "transmission",
          "life_support_air_conditioning",
          "life_support_cabin_lighting",
          "life_support_de-icing",
          "life_support_insulation",
          "life_support_oxygen",
          "life_support_safety_equipment",
          "life_support_seats_crew_accommodation",
          "operational_cargo_hold",
          "operational_radar",
          "power_auxiliary_power_unit",
          "power_electric_systems",
          "power_hydraulic_systems"
         ],
         "parents": [
          "",
          "OWE<br>98023 [kg]",
          "OWE<br>98023 [kg]",
          "OWE<br>98023 [kg]",
          "OWE<br>98023 [kg]",
          "OWE<br>98023 [kg]",
          "airframe<br>60888 [kg] (62.1%)",
          "airframe<br>60888 [kg] (62.1%)",
          "airframe<br>60888 [kg] (62.1%)",
          "airframe<br>60888 [kg] (62.1%)",
          "airframe<br>60888 [kg] (62.1%)",
          "airframe<br>60888 [kg] (62.1%)",
          "airframe<br>60888 [kg] (62.1%)",
          "airframe<br>60888 [kg] (62.1%)",
          "airframe<br>60888 [kg] (62.1%)",
          "furniture<br>6620 [kg] (6.8%)",
          "furniture<br>6620 [kg] (6.8%)",
          "furniture<br>6620 [kg] (6.8%)",
          "furniture<br>6620 [kg] (6.8%)",
          "propulsion<br>15005 [kg] (15.3%)",
          "propulsion<br>15005 [kg] (15.3%)",
          "propulsion<br>15005 [kg] (15.3%)",
          "systems<br>14738 [kg] (15.0%)",
          "systems<br>14738 [kg] (15.0%)",
          "systems<br>14738 [kg] (15.0%)",
          "systems<br>14738 [kg] (15.0%)",
          "systems<br>14738 [kg] (15.0%)",
          "systems<br>14738 [kg] (15.0%)",
          "systems<br>14738 [kg] (15.0%)",
          "systems<br>14738 [kg] (15.0%)",
          "systems<br>14738 [kg] (15.0%)",
          "systems<br>14738 [kg] (15.0%)",
          "systems<br>14738 [kg] (15.0%)",
          "systems<br>14738 [kg] (15.0%)",
          "systems<br>14738 [kg] (15.0%)",
          "systems<br>14738 [kg] (15.0%)",
          "systems<br>14738 [kg] (15.0%)"
         ],
         "type": "sunburst",
         "values": [
          98023.14777382529,
          60888.593137824464,
          770,
          6620.25,
          15005.898095212337,
          14738.406540788495,
          2298.320934088321,
          20083.299546725266,
          3204.527191612291,
          303.3419704273999,
          2368.1931461203317,
          1700.642054936785,
          24648.65853828675,
          824.2895997012511,
          5457.320155926079,
          2546.25,
          3201,
          436.5,
          436.5,
          13810.5,
          915.3886839491884,
          280.00941126314854,
          45,
          899.1746793744785,
          350,
          1952.9143946402648,
          316.6296648190377,
          207.38880266848167,
          4206.651261167216,
          476.5,
          839.605,
          198,
          482.4008177372774,
          100,
          439.5723237508992,
          2681.1122358441576,
          1543.4573607866816
         ]
        }
       ],
       "layout": {
        "autosize": true,
        "template": {
         "data": {
          "bar": [
           {
            "error_x": {
             "color": "#2a3f5f"
            },
            "error_y": {
             "color": "#2a3f5f"
            },
            "marker": {
             "line": {
              "color": "#E5ECF6",
              "width": 0.5
             },
             "pattern": {
              "fillmode": "overlay",
              "size": 10,
              "solidity": 0.2
             }
            },
            "type": "bar"
           }
          ],
          "barpolar": [
           {
            "marker": {
             "line": {
              "color": "#E5ECF6",
              "width": 0.5
             },
             "pattern": {
              "fillmode": "overlay",
              "size": 10,
              "solidity": 0.2
             }
            },
            "type": "barpolar"
           }
          ],
          "carpet": [
           {
            "aaxis": {
             "endlinecolor": "#2a3f5f",
             "gridcolor": "white",
             "linecolor": "white",
             "minorgridcolor": "white",
             "startlinecolor": "#2a3f5f"
            },
            "baxis": {
             "endlinecolor": "#2a3f5f",
             "gridcolor": "white",
             "linecolor": "white",
             "minorgridcolor": "white",
             "startlinecolor": "#2a3f5f"
            },
            "type": "carpet"
           }
          ],
          "choropleth": [
           {
            "colorbar": {
             "outlinewidth": 0,
             "ticks": ""
            },
            "type": "choropleth"
           }
          ],
          "contour": [
           {
            "colorbar": {
             "outlinewidth": 0,
             "ticks": ""
            },
            "colorscale": [
             [
              0,
              "#0d0887"
             ],
             [
              0.1111111111111111,
              "#46039f"
             ],
             [
              0.2222222222222222,
              "#7201a8"
             ],
             [
              0.3333333333333333,
              "#9c179e"
             ],
             [
              0.4444444444444444,
              "#bd3786"
             ],
             [
              0.5555555555555556,
              "#d8576b"
             ],
             [
              0.6666666666666666,
              "#ed7953"
             ],
             [
              0.7777777777777778,
              "#fb9f3a"
             ],
             [
              0.8888888888888888,
              "#fdca26"
             ],
             [
              1,
              "#f0f921"
             ]
            ],
            "type": "contour"
           }
          ],
          "contourcarpet": [
           {
            "colorbar": {
             "outlinewidth": 0,
             "ticks": ""
            },
            "type": "contourcarpet"
           }
          ],
          "heatmap": [
           {
            "colorbar": {
             "outlinewidth": 0,
             "ticks": ""
            },
            "colorscale": [
             [
              0,
              "#0d0887"
             ],
             [
              0.1111111111111111,
              "#46039f"
             ],
             [
              0.2222222222222222,
              "#7201a8"
             ],
             [
              0.3333333333333333,
              "#9c179e"
             ],
             [
              0.4444444444444444,
              "#bd3786"
             ],
             [
              0.5555555555555556,
              "#d8576b"
             ],
             [
              0.6666666666666666,
              "#ed7953"
             ],
             [
              0.7777777777777778,
              "#fb9f3a"
             ],
             [
              0.8888888888888888,
              "#fdca26"
             ],
             [
              1,
              "#f0f921"
             ]
            ],
            "type": "heatmap"
           }
          ],
          "heatmapgl": [
           {
            "colorbar": {
             "outlinewidth": 0,
             "ticks": ""
            },
            "colorscale": [
             [
              0,
              "#0d0887"
             ],
             [
              0.1111111111111111,
              "#46039f"
             ],
             [
              0.2222222222222222,
              "#7201a8"
             ],
             [
              0.3333333333333333,
              "#9c179e"
             ],
             [
              0.4444444444444444,
              "#bd3786"
             ],
             [
              0.5555555555555556,
              "#d8576b"
             ],
             [
              0.6666666666666666,
              "#ed7953"
             ],
             [
              0.7777777777777778,
              "#fb9f3a"
             ],
             [
              0.8888888888888888,
              "#fdca26"
             ],
             [
              1,
              "#f0f921"
             ]
            ],
            "type": "heatmapgl"
           }
          ],
          "histogram": [
           {
            "marker": {
             "pattern": {
              "fillmode": "overlay",
              "size": 10,
              "solidity": 0.2
             }
            },
            "type": "histogram"
           }
          ],
          "histogram2d": [
           {
            "colorbar": {
             "outlinewidth": 0,
             "ticks": ""
            },
            "colorscale": [
             [
              0,
              "#0d0887"
             ],
             [
              0.1111111111111111,
              "#46039f"
             ],
             [
              0.2222222222222222,
              "#7201a8"
             ],
             [
              0.3333333333333333,
              "#9c179e"
             ],
             [
              0.4444444444444444,
              "#bd3786"
             ],
             [
              0.5555555555555556,
              "#d8576b"
             ],
             [
              0.6666666666666666,
              "#ed7953"
             ],
             [
              0.7777777777777778,
              "#fb9f3a"
             ],
             [
              0.8888888888888888,
              "#fdca26"
             ],
             [
              1,
              "#f0f921"
             ]
            ],
            "type": "histogram2d"
           }
          ],
          "histogram2dcontour": [
           {
            "colorbar": {
             "outlinewidth": 0,
             "ticks": ""
            },
            "colorscale": [
             [
              0,
              "#0d0887"
             ],
             [
              0.1111111111111111,
              "#46039f"
             ],
             [
              0.2222222222222222,
              "#7201a8"
             ],
             [
              0.3333333333333333,
              "#9c179e"
             ],
             [
              0.4444444444444444,
              "#bd3786"
             ],
             [
              0.5555555555555556,
              "#d8576b"
             ],
             [
              0.6666666666666666,
              "#ed7953"
             ],
             [
              0.7777777777777778,
              "#fb9f3a"
             ],
             [
              0.8888888888888888,
              "#fdca26"
             ],
             [
              1,
              "#f0f921"
             ]
            ],
            "type": "histogram2dcontour"
           }
          ],
          "mesh3d": [
           {
            "colorbar": {
             "outlinewidth": 0,
             "ticks": ""
            },
            "type": "mesh3d"
           }
          ],
          "parcoords": [
           {
            "line": {
             "colorbar": {
              "outlinewidth": 0,
              "ticks": ""
             }
            },
            "type": "parcoords"
           }
          ],
          "pie": [
           {
            "automargin": true,
            "type": "pie"
           }
          ],
          "scatter": [
           {
            "marker": {
             "colorbar": {
              "outlinewidth": 0,
              "ticks": ""
             }
            },
            "type": "scatter"
           }
          ],
          "scatter3d": [
           {
            "line": {
             "colorbar": {
              "outlinewidth": 0,
              "ticks": ""
             }
            },
            "marker": {
             "colorbar": {
              "outlinewidth": 0,
              "ticks": ""
             }
            },
            "type": "scatter3d"
           }
          ],
          "scattercarpet": [
           {
            "marker": {
             "colorbar": {
              "outlinewidth": 0,
              "ticks": ""
             }
            },
            "type": "scattercarpet"
           }
          ],
          "scattergeo": [
           {
            "marker": {
             "colorbar": {
              "outlinewidth": 0,
              "ticks": ""
             }
            },
            "type": "scattergeo"
           }
          ],
          "scattergl": [
           {
            "marker": {
             "colorbar": {
              "outlinewidth": 0,
              "ticks": ""
             }
            },
            "type": "scattergl"
           }
          ],
          "scattermapbox": [
           {
            "marker": {
             "colorbar": {
              "outlinewidth": 0,
              "ticks": ""
             }
            },
            "type": "scattermapbox"
           }
          ],
          "scatterpolar": [
           {
            "marker": {
             "colorbar": {
              "outlinewidth": 0,
              "ticks": ""
             }
            },
            "type": "scatterpolar"
           }
          ],
          "scatterpolargl": [
           {
            "marker": {
             "colorbar": {
              "outlinewidth": 0,
              "ticks": ""
             }
            },
            "type": "scatterpolargl"
           }
          ],
          "scatterternary": [
           {
            "marker": {
             "colorbar": {
              "outlinewidth": 0,
              "ticks": ""
             }
            },
            "type": "scatterternary"
           }
          ],
          "surface": [
           {
            "colorbar": {
             "outlinewidth": 0,
             "ticks": ""
            },
            "colorscale": [
             [
              0,
              "#0d0887"
             ],
             [
              0.1111111111111111,
              "#46039f"
             ],
             [
              0.2222222222222222,
              "#7201a8"
             ],
             [
              0.3333333333333333,
              "#9c179e"
             ],
             [
              0.4444444444444444,
              "#bd3786"
             ],
             [
              0.5555555555555556,
              "#d8576b"
             ],
             [
              0.6666666666666666,
              "#ed7953"
             ],
             [
              0.7777777777777778,
              "#fb9f3a"
             ],
             [
              0.8888888888888888,
              "#fdca26"
             ],
             [
              1,
              "#f0f921"
             ]
            ],
            "type": "surface"
           }
          ],
          "table": [
           {
            "cells": {
             "fill": {
              "color": "#EBF0F8"
             },
             "line": {
              "color": "white"
             }
            },
            "header": {
             "fill": {
              "color": "#C8D4E3"
             },
             "line": {
              "color": "white"
             }
            },
            "type": "table"
           }
          ]
         },
         "layout": {
          "annotationdefaults": {
           "arrowcolor": "#2a3f5f",
           "arrowhead": 0,
           "arrowwidth": 1
          },
          "autotypenumbers": "strict",
          "coloraxis": {
           "colorbar": {
            "outlinewidth": 0,
            "ticks": ""
           }
          },
          "colorscale": {
           "diverging": [
            [
             0,
             "#8e0152"
            ],
            [
             0.1,
             "#c51b7d"
            ],
            [
             0.2,
             "#de77ae"
            ],
            [
             0.3,
             "#f1b6da"
            ],
            [
             0.4,
             "#fde0ef"
            ],
            [
             0.5,
             "#f7f7f7"
            ],
            [
             0.6,
             "#e6f5d0"
            ],
            [
             0.7,
             "#b8e186"
            ],
            [
             0.8,
             "#7fbc41"
            ],
            [
             0.9,
             "#4d9221"
            ],
            [
             1,
             "#276419"
            ]
           ],
           "sequential": [
            [
             0,
             "#0d0887"
            ],
            [
             0.1111111111111111,
             "#46039f"
            ],
            [
             0.2222222222222222,
             "#7201a8"
            ],
            [
             0.3333333333333333,
             "#9c179e"
            ],
            [
             0.4444444444444444,
             "#bd3786"
            ],
            [
             0.5555555555555556,
             "#d8576b"
            ],
            [
             0.6666666666666666,
             "#ed7953"
            ],
            [
             0.7777777777777778,
             "#fb9f3a"
            ],
            [
             0.8888888888888888,
             "#fdca26"
            ],
            [
             1,
             "#f0f921"
            ]
           ],
           "sequentialminus": [
            [
             0,
             "#0d0887"
            ],
            [
             0.1111111111111111,
             "#46039f"
            ],
            [
             0.2222222222222222,
             "#7201a8"
            ],
            [
             0.3333333333333333,
             "#9c179e"
            ],
            [
             0.4444444444444444,
             "#bd3786"
            ],
            [
             0.5555555555555556,
             "#d8576b"
            ],
            [
             0.6666666666666666,
             "#ed7953"
            ],
            [
             0.7777777777777778,
             "#fb9f3a"
            ],
            [
             0.8888888888888888,
             "#fdca26"
            ],
            [
             1,
             "#f0f921"
            ]
           ]
          },
          "colorway": [
           "#636efa",
           "#EF553B",
           "#00cc96",
           "#ab63fa",
           "#FFA15A",
           "#19d3f3",
           "#FF6692",
           "#B6E880",
           "#FF97FF",
           "#FECB52"
          ],
          "font": {
           "color": "#2a3f5f"
          },
          "geo": {
           "bgcolor": "white",
           "lakecolor": "white",
           "landcolor": "#E5ECF6",
           "showlakes": true,
           "showland": true,
           "subunitcolor": "white"
          },
          "hoverlabel": {
           "align": "left"
          },
          "hovermode": "closest",
          "mapbox": {
           "style": "light"
          },
          "paper_bgcolor": "white",
          "plot_bgcolor": "#E5ECF6",
          "polar": {
           "angularaxis": {
            "gridcolor": "white",
            "linecolor": "white",
            "ticks": ""
           },
           "bgcolor": "#E5ECF6",
           "radialaxis": {
            "gridcolor": "white",
            "linecolor": "white",
            "ticks": ""
           }
          },
          "scene": {
           "xaxis": {
            "backgroundcolor": "#E5ECF6",
            "gridcolor": "white",
            "gridwidth": 2,
            "linecolor": "white",
            "showbackground": true,
            "ticks": "",
            "zerolinecolor": "white"
           },
           "yaxis": {
            "backgroundcolor": "#E5ECF6",
            "gridcolor": "white",
            "gridwidth": 2,
            "linecolor": "white",
            "showbackground": true,
            "ticks": "",
            "zerolinecolor": "white"
           },
           "zaxis": {
            "backgroundcolor": "#E5ECF6",
            "gridcolor": "white",
            "gridwidth": 2,
            "linecolor": "white",
            "showbackground": true,
            "ticks": "",
            "zerolinecolor": "white"
           }
          },
          "shapedefaults": {
           "line": {
            "color": "#2a3f5f"
           }
          },
          "ternary": {
           "aaxis": {
            "gridcolor": "white",
            "linecolor": "white",
            "ticks": ""
           },
           "baxis": {
            "gridcolor": "white",
            "linecolor": "white",
            "ticks": ""
           },
           "bgcolor": "#E5ECF6",
           "caxis": {
            "gridcolor": "white",
            "linecolor": "white",
            "ticks": ""
           }
          },
          "title": {
           "x": 0.05
          },
          "xaxis": {
           "automargin": true,
           "gridcolor": "white",
           "linecolor": "white",
           "ticks": "",
           "title": {
            "standoff": 15
           },
           "zerolinecolor": "white",
           "zerolinewidth": 2
          },
          "yaxis": {
           "automargin": true,
           "gridcolor": "white",
           "linecolor": "white",
           "ticks": "",
           "title": {
            "standoff": 15
           },
           "zerolinecolor": "white",
           "zerolinewidth": 2
          }
         }
        },
        "title": {
         "text": "Mass Breakdown",
         "x": 0.5
        }
       }
      },
      "image/png": "[encoded data removed]",
      "text/html": [
       "<div>                            <div id=\"48f8cac8-890f-4fe3-bb95-60210924045a\" class=\"plotly-graph-div\" style=\"height:525px; width:100%;\"></div>            <script type=\"text/javascript\">                require([\"plotly\"], function(Plotly) {                    window.PLOTLYENV=window.PLOTLYENV || {};                                    if (document.getElementById(\"48f8cac8-890f-4fe3-bb95-60210924045a\")) {                    Plotly.newPlot(                        \"48f8cac8-890f-4fe3-bb95-60210924045a\",                        [{\"branchvalues\":\"total\",\"labels\":[\"MTOW<br>183537 [kg]\",\"payload<br>20520 [kg] (11.2%)\",\"onboard_fuel_at_takeoff<br>64994 [kg] (35.4%)\",\"OWE<br>98023 [kg] (53.4%)\"],\"parents\":[\"\",\"MTOW<br>183537 [kg]\",\"MTOW<br>183537 [kg]\",\"MTOW<br>183537 [kg]\"],\"values\":[183537.42712499632,20520.0,64994.27937261651,98023.14777382529],\"type\":\"sunburst\",\"domain\":{\"x\":[0.0,0.45],\"y\":[0.0,1.0]}},{\"branchvalues\":\"total\",\"labels\":[\"OWE<br>98023 [kg]\",\"airframe<br>60888 [kg] (62.1%)\",\"crew<br>770 [kg] (0.8%)\",\"furniture<br>6620 [kg] (6.8%)\",\"propulsion<br>15005 [kg] (15.3%)\",\"systems<br>14738 [kg] (15.0%)\",\"flight_controls\",\"fuselage\",\"horizontal_tail\",\"paint\",\"pylon\",\"vertical_tail\",\"wing\",\"landing_gear_front\",\"landing_gear_main\",\"food_water\",\"passenger_seats\",\"security_kit\",\"toilets\",\"engine\",\"fuel_lines\",\"unconsumables\",\"flight_kit\",\"navigation\",\"transmission\",\"life_support_air_conditioning\",\"life_support_cabin_lighting\",\"life_support_de-icing\",\"life_support_insulation\",\"life_support_oxygen\",\"life_support_safety_equipment\",\"life_support_seats_crew_accommodation\",\"operational_cargo_hold\",\"operational_radar\",\"power_auxiliary_power_unit\",\"power_electric_systems\",\"power_hydraulic_systems\"],\"parents\":[\"\",\"OWE<br>98023 [kg]\",\"OWE<br>98023 [kg]\",\"OWE<br>98023 [kg]\",\"OWE<br>98023 [kg]\",\"OWE<br>98023 [kg]\",\"airframe<br>60888 [kg] (62.1%)\",\"airframe<br>60888 [kg] (62.1%)\",\"airframe<br>60888 [kg] (62.1%)\",\"airframe<br>60888 [kg] (62.1%)\",\"airframe<br>60888 [kg] (62.1%)\",\"airframe<br>60888 [kg] (62.1%)\",\"airframe<br>60888 [kg] (62.1%)\",\"airframe<br>60888 [kg] (62.1%)\",\"airframe<br>60888 [kg] (62.1%)\",\"furniture<br>6620 [kg] (6.8%)\",\"furniture<br>6620 [kg] (6.8%)\",\"furniture<br>6620 [kg] (6.8%)\",\"furniture<br>6620 [kg] (6.8%)\",\"propulsion<br>15005 [kg] (15.3%)\",\"propulsion<br>15005 [kg] (15.3%)\",\"propulsion<br>15005 [kg] (15.3%)\",\"systems<br>14738 [kg] (15.0%)\",\"systems<br>14738 [kg] (15.0%)\",\"systems<br>14738 [kg] (15.0%)\",\"systems<br>14738 [kg] (15.0%)\",\"systems<br>14738 [kg] (15.0%)\",\"systems<br>14738 [kg] (15.0%)\",\"systems<br>14738 [kg] (15.0%)\",\"systems<br>14738 [kg] (15.0%)\",\"systems<br>14738 [kg] (15.0%)\",\"systems<br>14738 [kg] (15.0%)\",\"systems<br>14738 [kg] (15.0%)\",\"systems<br>14738 [kg] (15.0%)\",\"systems<br>14738 [kg] (15.0%)\",\"systems<br>14738 [kg] (15.0%)\",\"systems<br>14738 [kg] (15.0%)\"],\"values\":[98023.14777382529,60888.593137824464,770.0,6620.25,15005.898095212337,14738.406540788495,2298.320934088321,20083.299546725266,3204.527191612291,303.3419704273999,2368.1931461203317,1700.642054936785,24648.65853828675,824.2895997012511,5457.320155926079,2546.25,3201.0,436.5,436.5,13810.5,915.3886839491884,280.00941126314854,45.0,899.1746793744785,350.0,1952.9143946402648,316.6296648190377,207.38880266848167,4206.651261167216,476.5,839.605,198.0,482.4008177372774,100.0,439.5723237508992,2681.1122358441576,1543.4573607866816],\"type\":\"sunburst\",\"domain\":{\"x\":[0.55,1.0],\"y\":[0.0,1.0]}}],                        {\"template\":{\"data\":{\"bar\":[{\"error_x\":{\"color\":\"#2a3f5f\"},\"error_y\":{\"color\":\"#2a3f5f\"},\"marker\":{\"line\":{\"color\":\"#E5ECF6\",\"width\":0.5},\"pattern\":{\"fillmode\":\"overlay\",\"size\":10,\"solidity\":0.2}},\"type\":\"bar\"}],\"barpolar\":[{\"marker\":{\"line\":{\"color\":\"#E5ECF6\",\"width\":0.5},\"pattern\":{\"fillmode\":\"overlay\",\"size\":10,\"solidity\":0.2}},\"type\":\"barpolar\"}],\"carpet\":[{\"aaxis\":{\"endlinecolor\":\"#2a3f5f\",\"gridcolor\":\"white\",\"linecolor\":\"white\",\"minorgridcolor\":\"white\",\"startlinecolor\":\"#2a3f5f\"},\"baxis\":{\"endlinecolor\":\"#2a3f5f\",\"gridcolor\":\"white\",\"linecolor\":\"white\",\"minorgridcolor\":\"white\",\"startlinecolor\":\"#2a3f5f\"},\"type\":\"carpet\"}],\"choropleth\":[{\"colorbar\":{\"outlinewidth\":0,\"ticks\":\"\"},\"type\":\"choropleth\"}],\"contour\":[{\"colorbar\":{\"outlinewidth\":0,\"ticks\":\"\"},\"colorscale\":[[0.0,\"#0d0887\"],[0.1111111111111111,\"#46039f\"],[0.2222222222222222,\"#7201a8\"],[0.3333333333333333,\"#9c179e\"],[0.4444444444444444,\"#bd3786\"],[0.5555555555555556,\"#d8576b\"],[0.6666666666666666,\"#ed7953\"],[0.7777777777777778,\"#fb9f3a\"],[0.8888888888888888,\"#fdca26\"],[1.0,\"#f0f921\"]],\"type\":\"contour\"}],\"contourcarpet\":[{\"colorbar\":{\"outlinewidth\":0,\"ticks\":\"\"},\"type\":\"contourcarpet\"}],\"heatmap\":[{\"colorbar\":{\"outlinewidth\":0,\"ticks\":\"\"},\"colorscale\":[[0.0,\"#0d0887\"],[0.1111111111111111,\"#46039f\"],[0.2222222222222222,\"#7201a8\"],[0.3333333333333333,\"#9c179e\"],[0.4444444444444444,\"#bd3786\"],[0.5555555555555556,\"#d8576b\"],[0.6666666666666666,\"#ed7953\"],[0.7777777777777778,\"#fb9f3a\"],[0.8888888888888888,\"#fdca26\"],[1.0,\"#f0f921\"]],\"type\":\"heatmap\"}],\"heatmapgl\":[{\"colorbar\":{\"outlinewidth\":0,\"ticks\":\"\"},\"colorscale\":[[0.0,\"#0d0887\"],[0.1111111111111111,\"#46039f\"],[0.2222222222222222,\"#7201a8\"],[0.3333333333333333,\"#9c179e\"],[0.4444444444444444,\"#bd3786\"],[0.5555555555555556,\"#d8576b\"],[0.6666666666666666,\"#ed7953\"],[0.7777777777777778,\"#fb9f3a\"],[0.8888888888888888,\"#fdca26\"],[1.0,\"#f0f921\"]],\"type\":\"heatmapgl\"}],\"histogram\":[{\"marker\":{\"pattern\":{\"fillmode\":\"overlay\",\"size\":10,\"solidity\":0.2}},\"type\":\"histogram\"}],\"histogram2d\":[{\"colorbar\":{\"outlinewidth\":0,\"ticks\":\"\"},\"colorscale\":[[0.0,\"#0d0887\"],[0.1111111111111111,\"#46039f\"],[0.2222222222222222,\"#7201a8\"],[0.3333333333333333,\"#9c179e\"],[0.4444444444444444,\"#bd3786\"],[0.5555555555555556,\"#d8576b\"],[0.6666666666666666,\"#ed7953\"],[0.7777777777777778,\"#fb9f3a\"],[0.8888888888888888,\"#fdca26\"],[1.0,\"#f0f921\"]],\"type\":\"histogram2d\"}],\"histogram2dcontour\":[{\"colorbar\":{\"outlinewidth\":0,\"ticks\":\"\"},\"colorscale\":[[0.0,\"#0d0887\"],[0.1111111111111111,\"#46039f\"],[0.2222222222222222,\"#7201a8\"],[0.3333333333333333,\"#9c179e\"],[0.4444444444444444,\"#bd3786\"],[0.5555555555555556,\"#d8576b\"],[0.6666666666666666,\"#ed7953\"],[0.7777777777777778,\"#fb9f3a\"],[0.8888888888888888,\"#fdca26\"],[1.0,\"#f0f921\"]],\"type\":\"histogram2dcontour\"}],\"mesh3d\":[{\"colorbar\":{\"outlinewidth\":0,\"ticks\":\"\"},\"type\":\"mesh3d\"}],\"parcoords\":[{\"line\":{\"colorbar\":{\"outlinewidth\":0,\"ticks\":\"\"}},\"type\":\"parcoords\"}],\"pie\":[{\"automargin\":true,\"type\":\"pie\"}],\"scatter\":[{\"marker\":{\"colorbar\":{\"outlinewidth\":0,\"ticks\":\"\"}},\"type\":\"scatter\"}],\"scatter3d\":[{\"line\":{\"colorbar\":{\"outlinewidth\":0,\"ticks\":\"\"}},\"marker\":{\"colorbar\":{\"outlinewidth\":0,\"ticks\":\"\"}},\"type\":\"scatter3d\"}],\"scattercarpet\":[{\"marker\":{\"colorbar\":{\"outlinewidth\":0,\"ticks\":\"\"}},\"type\":\"scattercarpet\"}],\"scattergeo\":[{\"marker\":{\"colorbar\":{\"outlinewidth\":0,\"ticks\":\"\"}},\"type\":\"scattergeo\"}],\"scattergl\":[{\"marker\":{\"colorbar\":{\"outlinewidth\":0,\"ticks\":\"\"}},\"type\":\"scattergl\"}],\"scattermapbox\":[{\"marker\":{\"colorbar\":{\"outlinewidth\":0,\"ticks\":\"\"}},\"type\":\"scattermapbox\"}],\"scatterpolar\":[{\"marker\":{\"colorbar\":{\"outlinewidth\":0,\"ticks\":\"\"}},\"type\":\"scatterpolar\"}],\"scatterpolargl\":[{\"marker\":{\"colorbar\":{\"outlinewidth\":0,\"ticks\":\"\"}},\"type\":\"scatterpolargl\"}],\"scatterternary\":[{\"marker\":{\"colorbar\":{\"outlinewidth\":0,\"ticks\":\"\"}},\"type\":\"scatterternary\"}],\"surface\":[{\"colorbar\":{\"outlinewidth\":0,\"ticks\":\"\"},\"colorscale\":[[0.0,\"#0d0887\"],[0.1111111111111111,\"#46039f\"],[0.2222222222222222,\"#7201a8\"],[0.3333333333333333,\"#9c179e\"],[0.4444444444444444,\"#bd3786\"],[0.5555555555555556,\"#d8576b\"],[0.6666666666666666,\"#ed7953\"],[0.7777777777777778,\"#fb9f3a\"],[0.8888888888888888,\"#fdca26\"],[1.0,\"#f0f921\"]],\"type\":\"surface\"}],\"table\":[{\"cells\":{\"fill\":{\"color\":\"#EBF0F8\"},\"line\":{\"color\":\"white\"}},\"header\":{\"fill\":{\"color\":\"#C8D4E3\"},\"line\":{\"color\":\"white\"}},\"type\":\"table\"}]},\"layout\":{\"annotationdefaults\":{\"arrowcolor\":\"#2a3f5f\",\"arrowhead\":0,\"arrowwidth\":1},\"autotypenumbers\":\"strict\",\"coloraxis\":{\"colorbar\":{\"outlinewidth\":0,\"ticks\":\"\"}},\"colorscale\":{\"diverging\":[[0,\"#8e0152\"],[0.1,\"#c51b7d\"],[0.2,\"#de77ae\"],[0.3,\"#f1b6da\"],[0.4,\"#fde0ef\"],[0.5,\"#f7f7f7\"],[0.6,\"#e6f5d0\"],[0.7,\"#b8e186\"],[0.8,\"#7fbc41\"],[0.9,\"#4d9221\"],[1,\"#276419\"]],\"sequential\":[[0.0,\"#0d0887\"],[0.1111111111111111,\"#46039f\"],[0.2222222222222222,\"#7201a8\"],[0.3333333333333333,\"#9c179e\"],[0.4444444444444444,\"#bd3786\"],[0.5555555555555556,\"#d8576b\"],[0.6666666666666666,\"#ed7953\"],[0.7777777777777778,\"#fb9f3a\"],[0.8888888888888888,\"#fdca26\"],[1.0,\"#f0f921\"]],\"sequentialminus\":[[0.0,\"#0d0887\"],[0.1111111111111111,\"#46039f\"],[0.2222222222222222,\"#7201a8\"],[0.3333333333333333,\"#9c179e\"],[0.4444444444444444,\"#bd3786\"],[0.5555555555555556,\"#d8576b\"],[0.6666666666666666,\"#ed7953\"],[0.7777777777777778,\"#fb9f3a\"],[0.8888888888888888,\"#fdca26\"],[1.0,\"#f0f921\"]]},\"colorway\":[\"#636efa\",\"#EF553B\",\"#00cc96\",\"#ab63fa\",\"#FFA15A\",\"#19d3f3\",\"#FF6692\",\"#B6E880\",\"#FF97FF\",\"#FECB52\"],\"font\":{\"color\":\"#2a3f5f\"},\"geo\":{\"bgcolor\":\"white\",\"lakecolor\":\"white\",\"landcolor\":\"#E5ECF6\",\"showlakes\":true,\"showland\":true,\"subunitcolor\":\"white\"},\"hoverlabel\":{\"align\":\"left\"},\"hovermode\":\"closest\",\"mapbox\":{\"style\":\"light\"},\"paper_bgcolor\":\"white\",\"plot_bgcolor\":\"#E5ECF6\",\"polar\":{\"angularaxis\":{\"gridcolor\":\"white\",\"linecolor\":\"white\",\"ticks\":\"\"},\"bgcolor\":\"#E5ECF6\",\"radialaxis\":{\"gridcolor\":\"white\",\"linecolor\":\"white\",\"ticks\":\"\"}},\"scene\":{\"xaxis\":{\"backgroundcolor\":\"#E5ECF6\",\"gridcolor\":\"white\",\"gridwidth\":2,\"linecolor\":\"white\",\"showbackground\":true,\"ticks\":\"\",\"zerolinecolor\":\"white\"},\"yaxis\":{\"backgroundcolor\":\"#E5ECF6\",\"gridcolor\":\"white\",\"gridwidth\":2,\"linecolor\":\"white\",\"showbackground\":true,\"ticks\":\"\",\"zerolinecolor\":\"white\"},\"zaxis\":{\"backgroundcolor\":\"#E5ECF6\",\"gridcolor\":\"white\",\"gridwidth\":2,\"linecolor\":\"white\",\"showbackground\":true,\"ticks\":\"\",\"zerolinecolor\":\"white\"}},\"shapedefaults\":{\"line\":{\"color\":\"#2a3f5f\"}},\"ternary\":{\"aaxis\":{\"gridcolor\":\"white\",\"linecolor\":\"white\",\"ticks\":\"\"},\"baxis\":{\"gridcolor\":\"white\",\"linecolor\":\"white\",\"ticks\":\"\"},\"bgcolor\":\"#E5ECF6\",\"caxis\":{\"gridcolor\":\"white\",\"linecolor\":\"white\",\"ticks\":\"\"}},\"title\":{\"x\":0.05},\"xaxis\":{\"automargin\":true,\"gridcolor\":\"white\",\"linecolor\":\"white\",\"ticks\":\"\",\"title\":{\"standoff\":15},\"zerolinecolor\":\"white\",\"zerolinewidth\":2},\"yaxis\":{\"automargin\":true,\"gridcolor\":\"white\",\"linecolor\":\"white\",\"ticks\":\"\",\"title\":{\"standoff\":15},\"zerolinecolor\":\"white\",\"zerolinewidth\":2}}},\"title\":{\"text\":\"Mass Breakdown\",\"x\":0.5}},                        {\"responsive\": true}                    ).then(function(){\n",
       "                            \n",
       "var gd = document.getElementById('48f8cac8-890f-4fe3-bb95-60210924045a');\n",
       "var x = new MutationObserver(function (mutations, observer) {{\n",
       "        var display = window.getComputedStyle(gd).display;\n",
       "        if (!display || display === 'none') {{\n",
       "            console.log([gd, 'removed!']);\n",
       "            Plotly.purge(gd);\n",
       "            observer.disconnect();\n",
       "        }}\n",
       "}});\n",
       "\n",
       "// Listen for the removal of the full notebook cells\n",
       "var notebookContainer = gd.closest('#notebook-container');\n",
       "if (notebookContainer) {{\n",
       "    x.observe(notebookContainer, {childList: true});\n",
       "}}\n",
       "\n",
       "// Listen for the clearing of the current output cell\n",
       "var outputEl = gd.closest('.output');\n",
       "if (outputEl) {{\n",
       "    x.observe(outputEl, {childList: true});\n",
       "}}\n",
       "\n",
       "                        })                };                });            </script>        </div>"
      ]
     },
     "metadata": {},
     "output_type": "display_data"
    }
   ],
   "source": [
    "oad.mass_breakdown_sun_plot(MTOW_problem.output_file_path)"
   ]
  },
  {
   "cell_type": "code",
   "execution_count": null,
   "id": "2a653e3f",
   "metadata": {},
   "outputs": [],
   "source": []
  },
  {
   "cell_type": "code",
   "execution_count": 32,
   "id": "6ccbc087",
   "metadata": {},
   "outputs": [
    {
     "data": {
      "application/vnd.plotly.v1+json": {
       "config": {
        "plotlyServerURL": "https://plot.ly"
       },
       "data": [
        {
         "marker": {
          "color": "rgb(31, 119, 180)"
         },
         "name": "",
         "showlegend": false,
         "type": "bar",
         "x": [
          "MTOW",
          "OWE",
          "Fuel - Mission",
          "Payload"
         ],
         "xaxis": "x",
         "y": [
          183537.42712499632,
          98023.14777382529,
          64994.27937261651,
          20520
         ],
         "yaxis": "y"
        },
        {
         "marker": {
          "color": "rgb(31, 119, 180)"
         },
         "name": "FAST-OAD",
         "type": "bar",
         "x": [
          "airframe",
          "crew",
          "furniture",
          "propulsion",
          "systems"
         ],
         "xaxis": "x2",
         "y": [
          60888.593137824464,
          770,
          6620.25,
          15005.898095212337,
          14738.406540788495
         ],
         "yaxis": "y2"
        }
       ],
       "layout": {
        "annotations": [
         {
          "font": {
           "size": 16
          },
          "showarrow": false,
          "text": "Maximum Take-Off Weight Breakdown",
          "x": 0.225,
          "xanchor": "center",
          "xref": "paper",
          "y": 1,
          "yanchor": "bottom",
          "yref": "paper"
         },
         {
          "font": {
           "size": 16
          },
          "showarrow": false,
          "text": "Overall Weight Empty Breakdown",
          "x": 0.775,
          "xanchor": "center",
          "xref": "paper",
          "y": 1,
          "yanchor": "bottom",
          "yref": "paper"
         }
        ],
        "template": {
         "data": {
          "bar": [
           {
            "error_x": {
             "color": "#2a3f5f"
            },
            "error_y": {
             "color": "#2a3f5f"
            },
            "marker": {
             "line": {
              "color": "#E5ECF6",
              "width": 0.5
             },
             "pattern": {
              "fillmode": "overlay",
              "size": 10,
              "solidity": 0.2
             }
            },
            "type": "bar"
           }
          ],
          "barpolar": [
           {
            "marker": {
             "line": {
              "color": "#E5ECF6",
              "width": 0.5
             },
             "pattern": {
              "fillmode": "overlay",
              "size": 10,
              "solidity": 0.2
             }
            },
            "type": "barpolar"
           }
          ],
          "carpet": [
           {
            "aaxis": {
             "endlinecolor": "#2a3f5f",
             "gridcolor": "white",
             "linecolor": "white",
             "minorgridcolor": "white",
             "startlinecolor": "#2a3f5f"
            },
            "baxis": {
             "endlinecolor": "#2a3f5f",
             "gridcolor": "white",
             "linecolor": "white",
             "minorgridcolor": "white",
             "startlinecolor": "#2a3f5f"
            },
            "type": "carpet"
           }
          ],
          "choropleth": [
           {
            "colorbar": {
             "outlinewidth": 0,
             "ticks": ""
            },
            "type": "choropleth"
           }
          ],
          "contour": [
           {
            "colorbar": {
             "outlinewidth": 0,
             "ticks": ""
            },
            "colorscale": [
             [
              0,
              "#0d0887"
             ],
             [
              0.1111111111111111,
              "#46039f"
             ],
             [
              0.2222222222222222,
              "#7201a8"
             ],
             [
              0.3333333333333333,
              "#9c179e"
             ],
             [
              0.4444444444444444,
              "#bd3786"
             ],
             [
              0.5555555555555556,
              "#d8576b"
             ],
             [
              0.6666666666666666,
              "#ed7953"
             ],
             [
              0.7777777777777778,
              "#fb9f3a"
             ],
             [
              0.8888888888888888,
              "#fdca26"
             ],
             [
              1,
              "#f0f921"
             ]
            ],
            "type": "contour"
           }
          ],
          "contourcarpet": [
           {
            "colorbar": {
             "outlinewidth": 0,
             "ticks": ""
            },
            "type": "contourcarpet"
           }
          ],
          "heatmap": [
           {
            "colorbar": {
             "outlinewidth": 0,
             "ticks": ""
            },
            "colorscale": [
             [
              0,
              "#0d0887"
             ],
             [
              0.1111111111111111,
              "#46039f"
             ],
             [
              0.2222222222222222,
              "#7201a8"
             ],
             [
              0.3333333333333333,
              "#9c179e"
             ],
             [
              0.4444444444444444,
              "#bd3786"
             ],
             [
              0.5555555555555556,
              "#d8576b"
             ],
             [
              0.6666666666666666,
              "#ed7953"
             ],
             [
              0.7777777777777778,
              "#fb9f3a"
             ],
             [
              0.8888888888888888,
              "#fdca26"
             ],
             [
              1,
              "#f0f921"
             ]
            ],
            "type": "heatmap"
           }
          ],
          "heatmapgl": [
           {
            "colorbar": {
             "outlinewidth": 0,
             "ticks": ""
            },
            "colorscale": [
             [
              0,
              "#0d0887"
             ],
             [
              0.1111111111111111,
              "#46039f"
             ],
             [
              0.2222222222222222,
              "#7201a8"
             ],
             [
              0.3333333333333333,
              "#9c179e"
             ],
             [
              0.4444444444444444,
              "#bd3786"
             ],
             [
              0.5555555555555556,
              "#d8576b"
             ],
             [
              0.6666666666666666,
              "#ed7953"
             ],
             [
              0.7777777777777778,
              "#fb9f3a"
             ],
             [
              0.8888888888888888,
              "#fdca26"
             ],
             [
              1,
              "#f0f921"
             ]
            ],
            "type": "heatmapgl"
           }
          ],
          "histogram": [
           {
            "marker": {
             "pattern": {
              "fillmode": "overlay",
              "size": 10,
              "solidity": 0.2
             }
            },
            "type": "histogram"
           }
          ],
          "histogram2d": [
           {
            "colorbar": {
             "outlinewidth": 0,
             "ticks": ""
            },
            "colorscale": [
             [
              0,
              "#0d0887"
             ],
             [
              0.1111111111111111,
              "#46039f"
             ],
             [
              0.2222222222222222,
              "#7201a8"
             ],
             [
              0.3333333333333333,
              "#9c179e"
             ],
             [
              0.4444444444444444,
              "#bd3786"
             ],
             [
              0.5555555555555556,
              "#d8576b"
             ],
             [
              0.6666666666666666,
              "#ed7953"
             ],
             [
              0.7777777777777778,
              "#fb9f3a"
             ],
             [
              0.8888888888888888,
              "#fdca26"
             ],
             [
              1,
              "#f0f921"
             ]
            ],
            "type": "histogram2d"
           }
          ],
          "histogram2dcontour": [
           {
            "colorbar": {
             "outlinewidth": 0,
             "ticks": ""
            },
            "colorscale": [
             [
              0,
              "#0d0887"
             ],
             [
              0.1111111111111111,
              "#46039f"
             ],
             [
              0.2222222222222222,
              "#7201a8"
             ],
             [
              0.3333333333333333,
              "#9c179e"
             ],
             [
              0.4444444444444444,
              "#bd3786"
             ],
             [
              0.5555555555555556,
              "#d8576b"
             ],
             [
              0.6666666666666666,
              "#ed7953"
             ],
             [
              0.7777777777777778,
              "#fb9f3a"
             ],
             [
              0.8888888888888888,
              "#fdca26"
             ],
             [
              1,
              "#f0f921"
             ]
            ],
            "type": "histogram2dcontour"
           }
          ],
          "mesh3d": [
           {
            "colorbar": {
             "outlinewidth": 0,
             "ticks": ""
            },
            "type": "mesh3d"
           }
          ],
          "parcoords": [
           {
            "line": {
             "colorbar": {
              "outlinewidth": 0,
              "ticks": ""
             }
            },
            "type": "parcoords"
           }
          ],
          "pie": [
           {
            "automargin": true,
            "type": "pie"
           }
          ],
          "scatter": [
           {
            "marker": {
             "colorbar": {
              "outlinewidth": 0,
              "ticks": ""
             }
            },
            "type": "scatter"
           }
          ],
          "scatter3d": [
           {
            "line": {
             "colorbar": {
              "outlinewidth": 0,
              "ticks": ""
             }
            },
            "marker": {
             "colorbar": {
              "outlinewidth": 0,
              "ticks": ""
             }
            },
            "type": "scatter3d"
           }
          ],
          "scattercarpet": [
           {
            "marker": {
             "colorbar": {
              "outlinewidth": 0,
              "ticks": ""
             }
            },
            "type": "scattercarpet"
           }
          ],
          "scattergeo": [
           {
            "marker": {
             "colorbar": {
              "outlinewidth": 0,
              "ticks": ""
             }
            },
            "type": "scattergeo"
           }
          ],
          "scattergl": [
           {
            "marker": {
             "colorbar": {
              "outlinewidth": 0,
              "ticks": ""
             }
            },
            "type": "scattergl"
           }
          ],
          "scattermapbox": [
           {
            "marker": {
             "colorbar": {
              "outlinewidth": 0,
              "ticks": ""
             }
            },
            "type": "scattermapbox"
           }
          ],
          "scatterpolar": [
           {
            "marker": {
             "colorbar": {
              "outlinewidth": 0,
              "ticks": ""
             }
            },
            "type": "scatterpolar"
           }
          ],
          "scatterpolargl": [
           {
            "marker": {
             "colorbar": {
              "outlinewidth": 0,
              "ticks": ""
             }
            },
            "type": "scatterpolargl"
           }
          ],
          "scatterternary": [
           {
            "marker": {
             "colorbar": {
              "outlinewidth": 0,
              "ticks": ""
             }
            },
            "type": "scatterternary"
           }
          ],
          "surface": [
           {
            "colorbar": {
             "outlinewidth": 0,
             "ticks": ""
            },
            "colorscale": [
             [
              0,
              "#0d0887"
             ],
             [
              0.1111111111111111,
              "#46039f"
             ],
             [
              0.2222222222222222,
              "#7201a8"
             ],
             [
              0.3333333333333333,
              "#9c179e"
             ],
             [
              0.4444444444444444,
              "#bd3786"
             ],
             [
              0.5555555555555556,
              "#d8576b"
             ],
             [
              0.6666666666666666,
              "#ed7953"
             ],
             [
              0.7777777777777778,
              "#fb9f3a"
             ],
             [
              0.8888888888888888,
              "#fdca26"
             ],
             [
              1,
              "#f0f921"
             ]
            ],
            "type": "surface"
           }
          ],
          "table": [
           {
            "cells": {
             "fill": {
              "color": "#EBF0F8"
             },
             "line": {
              "color": "white"
             }
            },
            "header": {
             "fill": {
              "color": "#C8D4E3"
             },
             "line": {
              "color": "white"
             }
            },
            "type": "table"
           }
          ]
         },
         "layout": {
          "annotationdefaults": {
           "arrowcolor": "#2a3f5f",
           "arrowhead": 0,
           "arrowwidth": 1
          },
          "autotypenumbers": "strict",
          "coloraxis": {
           "colorbar": {
            "outlinewidth": 0,
            "ticks": ""
           }
          },
          "colorscale": {
           "diverging": [
            [
             0,
             "#8e0152"
            ],
            [
             0.1,
             "#c51b7d"
            ],
            [
             0.2,
             "#de77ae"
            ],
            [
             0.3,
             "#f1b6da"
            ],
            [
             0.4,
             "#fde0ef"
            ],
            [
             0.5,
             "#f7f7f7"
            ],
            [
             0.6,
             "#e6f5d0"
            ],
            [
             0.7,
             "#b8e186"
            ],
            [
             0.8,
             "#7fbc41"
            ],
            [
             0.9,
             "#4d9221"
            ],
            [
             1,
             "#276419"
            ]
           ],
           "sequential": [
            [
             0,
             "#0d0887"
            ],
            [
             0.1111111111111111,
             "#46039f"
            ],
            [
             0.2222222222222222,
             "#7201a8"
            ],
            [
             0.3333333333333333,
             "#9c179e"
            ],
            [
             0.4444444444444444,
             "#bd3786"
            ],
            [
             0.5555555555555556,
             "#d8576b"
            ],
            [
             0.6666666666666666,
             "#ed7953"
            ],
            [
             0.7777777777777778,
             "#fb9f3a"
            ],
            [
             0.8888888888888888,
             "#fdca26"
            ],
            [
             1,
             "#f0f921"
            ]
           ],
           "sequentialminus": [
            [
             0,
             "#0d0887"
            ],
            [
             0.1111111111111111,
             "#46039f"
            ],
            [
             0.2222222222222222,
             "#7201a8"
            ],
            [
             0.3333333333333333,
             "#9c179e"
            ],
            [
             0.4444444444444444,
             "#bd3786"
            ],
            [
             0.5555555555555556,
             "#d8576b"
            ],
            [
             0.6666666666666666,
             "#ed7953"
            ],
            [
             0.7777777777777778,
             "#fb9f3a"
            ],
            [
             0.8888888888888888,
             "#fdca26"
            ],
            [
             1,
             "#f0f921"
            ]
           ]
          },
          "colorway": [
           "#636efa",
           "#EF553B",
           "#00cc96",
           "#ab63fa",
           "#FFA15A",
           "#19d3f3",
           "#FF6692",
           "#B6E880",
           "#FF97FF",
           "#FECB52"
          ],
          "font": {
           "color": "#2a3f5f"
          },
          "geo": {
           "bgcolor": "white",
           "lakecolor": "white",
           "landcolor": "#E5ECF6",
           "showlakes": true,
           "showland": true,
           "subunitcolor": "white"
          },
          "hoverlabel": {
           "align": "left"
          },
          "hovermode": "closest",
          "mapbox": {
           "style": "light"
          },
          "paper_bgcolor": "white",
          "plot_bgcolor": "#E5ECF6",
          "polar": {
           "angularaxis": {
            "gridcolor": "white",
            "linecolor": "white",
            "ticks": ""
           },
           "bgcolor": "#E5ECF6",
           "radialaxis": {
            "gridcolor": "white",
            "linecolor": "white",
            "ticks": ""
           }
          },
          "scene": {
           "xaxis": {
            "backgroundcolor": "#E5ECF6",
            "gridcolor": "white",
            "gridwidth": 2,
            "linecolor": "white",
            "showbackground": true,
            "ticks": "",
            "zerolinecolor": "white"
           },
           "yaxis": {
            "backgroundcolor": "#E5ECF6",
            "gridcolor": "white",
            "gridwidth": 2,
            "linecolor": "white",
            "showbackground": true,
            "ticks": "",
            "zerolinecolor": "white"
           },
           "zaxis": {
            "backgroundcolor": "#E5ECF6",
            "gridcolor": "white",
            "gridwidth": 2,
            "linecolor": "white",
            "showbackground": true,
            "ticks": "",
            "zerolinecolor": "white"
           }
          },
          "shapedefaults": {
           "line": {
            "color": "#2a3f5f"
           }
          },
          "ternary": {
           "aaxis": {
            "gridcolor": "white",
            "linecolor": "white",
            "ticks": ""
           },
           "baxis": {
            "gridcolor": "white",
            "linecolor": "white",
            "ticks": ""
           },
           "bgcolor": "#E5ECF6",
           "caxis": {
            "gridcolor": "white",
            "linecolor": "white",
            "ticks": ""
           }
          },
          "title": {
           "x": 0.05
          },
          "xaxis": {
           "automargin": true,
           "gridcolor": "white",
           "linecolor": "white",
           "ticks": "",
           "title": {
            "standoff": 15
           },
           "zerolinecolor": "white",
           "zerolinewidth": 2
          },
          "yaxis": {
           "automargin": true,
           "gridcolor": "white",
           "linecolor": "white",
           "ticks": "",
           "title": {
            "standoff": 15
           },
           "zerolinecolor": "white",
           "zerolinewidth": 2
          }
         }
        },
        "xaxis": {
         "anchor": "y",
         "domain": [
          0,
          0.45
         ]
        },
        "xaxis2": {
         "anchor": "y2",
         "domain": [
          0.55,
          1
         ]
        },
        "yaxis": {
         "anchor": "x",
         "domain": [
          0,
          1
         ],
         "title": {
          "text": "[kg]"
         }
        },
        "yaxis2": {
         "anchor": "x2",
         "domain": [
          0,
          1
         ]
        }
       }
      }
     },
     "metadata": {},
     "output_type": "display_data"
    }
   ],
   "source": [
    "fig = oad.mass_breakdown_bar_plot(MTOW_problem.output_file_path, name=\"FAST-OAD\")\n",
    "fig.show()"
   ]
  },
  {
   "cell_type": "code",
   "execution_count": 33,
   "id": "f95f8eee",
   "metadata": {},
   "outputs": [
    {
     "data": {
      "application/vnd.plotly.v1+json": {
       "config": {
        "plotlyServerURL": "https://plot.ly"
       },
       "data": [
        {
         "mode": "lines+markers",
         "name": "FAST-OAD",
         "type": "scatter",
         "uid": "4f44d43b-e594-46be-9c5d-4cdf4730b1be",
         "x": [
          0,
          -2.5164400000000002,
          -9.19689630089274,
          -24.525056802380643,
          -24.525056802380643,
          -9.19689630089274,
          -2.5164400000000002,
          0,
          0,
          0,
          2.5164400000000002,
          9.19689630089274,
          24.525056802380643,
          24.525056802380643,
          9.19689630089274,
          2.5164400000000002,
          0,
          0
         ],
         "y": [
          18.871395422620754,
          18.871395422620754,
          23.066317910729712,
          32.69147557854385,
          35.20817177314009,
          29.394620970843118,
          29.394620970843118,
          29.394620970843118,
          18.871395422620754,
          18.871395422620754,
          18.871395422620754,
          23.066317910729712,
          32.69147557854385,
          35.20817177314009,
          29.394620970843118,
          29.394620970843118,
          29.394620970843118,
          18.871395422620754
         ]
        }
       ],
       "layout": {
        "template": {
         "data": {
          "bar": [
           {
            "error_x": {
             "color": "#2a3f5f"
            },
            "error_y": {
             "color": "#2a3f5f"
            },
            "marker": {
             "line": {
              "color": "#E5ECF6",
              "width": 0.5
             },
             "pattern": {
              "fillmode": "overlay",
              "size": 10,
              "solidity": 0.2
             }
            },
            "type": "bar"
           }
          ],
          "barpolar": [
           {
            "marker": {
             "line": {
              "color": "#E5ECF6",
              "width": 0.5
             },
             "pattern": {
              "fillmode": "overlay",
              "size": 10,
              "solidity": 0.2
             }
            },
            "type": "barpolar"
           }
          ],
          "carpet": [
           {
            "aaxis": {
             "endlinecolor": "#2a3f5f",
             "gridcolor": "white",
             "linecolor": "white",
             "minorgridcolor": "white",
             "startlinecolor": "#2a3f5f"
            },
            "baxis": {
             "endlinecolor": "#2a3f5f",
             "gridcolor": "white",
             "linecolor": "white",
             "minorgridcolor": "white",
             "startlinecolor": "#2a3f5f"
            },
            "type": "carpet"
           }
          ],
          "choropleth": [
           {
            "colorbar": {
             "outlinewidth": 0,
             "ticks": ""
            },
            "type": "choropleth"
           }
          ],
          "contour": [
           {
            "colorbar": {
             "outlinewidth": 0,
             "ticks": ""
            },
            "colorscale": [
             [
              0,
              "#0d0887"
             ],
             [
              0.1111111111111111,
              "#46039f"
             ],
             [
              0.2222222222222222,
              "#7201a8"
             ],
             [
              0.3333333333333333,
              "#9c179e"
             ],
             [
              0.4444444444444444,
              "#bd3786"
             ],
             [
              0.5555555555555556,
              "#d8576b"
             ],
             [
              0.6666666666666666,
              "#ed7953"
             ],
             [
              0.7777777777777778,
              "#fb9f3a"
             ],
             [
              0.8888888888888888,
              "#fdca26"
             ],
             [
              1,
              "#f0f921"
             ]
            ],
            "type": "contour"
           }
          ],
          "contourcarpet": [
           {
            "colorbar": {
             "outlinewidth": 0,
             "ticks": ""
            },
            "type": "contourcarpet"
           }
          ],
          "heatmap": [
           {
            "colorbar": {
             "outlinewidth": 0,
             "ticks": ""
            },
            "colorscale": [
             [
              0,
              "#0d0887"
             ],
             [
              0.1111111111111111,
              "#46039f"
             ],
             [
              0.2222222222222222,
              "#7201a8"
             ],
             [
              0.3333333333333333,
              "#9c179e"
             ],
             [
              0.4444444444444444,
              "#bd3786"
             ],
             [
              0.5555555555555556,
              "#d8576b"
             ],
             [
              0.6666666666666666,
              "#ed7953"
             ],
             [
              0.7777777777777778,
              "#fb9f3a"
             ],
             [
              0.8888888888888888,
              "#fdca26"
             ],
             [
              1,
              "#f0f921"
             ]
            ],
            "type": "heatmap"
           }
          ],
          "heatmapgl": [
           {
            "colorbar": {
             "outlinewidth": 0,
             "ticks": ""
            },
            "colorscale": [
             [
              0,
              "#0d0887"
             ],
             [
              0.1111111111111111,
              "#46039f"
             ],
             [
              0.2222222222222222,
              "#7201a8"
             ],
             [
              0.3333333333333333,
              "#9c179e"
             ],
             [
              0.4444444444444444,
              "#bd3786"
             ],
             [
              0.5555555555555556,
              "#d8576b"
             ],
             [
              0.6666666666666666,
              "#ed7953"
             ],
             [
              0.7777777777777778,
              "#fb9f3a"
             ],
             [
              0.8888888888888888,
              "#fdca26"
             ],
             [
              1,
              "#f0f921"
             ]
            ],
            "type": "heatmapgl"
           }
          ],
          "histogram": [
           {
            "marker": {
             "pattern": {
              "fillmode": "overlay",
              "size": 10,
              "solidity": 0.2
             }
            },
            "type": "histogram"
           }
          ],
          "histogram2d": [
           {
            "colorbar": {
             "outlinewidth": 0,
             "ticks": ""
            },
            "colorscale": [
             [
              0,
              "#0d0887"
             ],
             [
              0.1111111111111111,
              "#46039f"
             ],
             [
              0.2222222222222222,
              "#7201a8"
             ],
             [
              0.3333333333333333,
              "#9c179e"
             ],
             [
              0.4444444444444444,
              "#bd3786"
             ],
             [
              0.5555555555555556,
              "#d8576b"
             ],
             [
              0.6666666666666666,
              "#ed7953"
             ],
             [
              0.7777777777777778,
              "#fb9f3a"
             ],
             [
              0.8888888888888888,
              "#fdca26"
             ],
             [
              1,
              "#f0f921"
             ]
            ],
            "type": "histogram2d"
           }
          ],
          "histogram2dcontour": [
           {
            "colorbar": {
             "outlinewidth": 0,
             "ticks": ""
            },
            "colorscale": [
             [
              0,
              "#0d0887"
             ],
             [
              0.1111111111111111,
              "#46039f"
             ],
             [
              0.2222222222222222,
              "#7201a8"
             ],
             [
              0.3333333333333333,
              "#9c179e"
             ],
             [
              0.4444444444444444,
              "#bd3786"
             ],
             [
              0.5555555555555556,
              "#d8576b"
             ],
             [
              0.6666666666666666,
              "#ed7953"
             ],
             [
              0.7777777777777778,
              "#fb9f3a"
             ],
             [
              0.8888888888888888,
              "#fdca26"
             ],
             [
              1,
              "#f0f921"
             ]
            ],
            "type": "histogram2dcontour"
           }
          ],
          "mesh3d": [
           {
            "colorbar": {
             "outlinewidth": 0,
             "ticks": ""
            },
            "type": "mesh3d"
           }
          ],
          "parcoords": [
           {
            "line": {
             "colorbar": {
              "outlinewidth": 0,
              "ticks": ""
             }
            },
            "type": "parcoords"
           }
          ],
          "pie": [
           {
            "automargin": true,
            "type": "pie"
           }
          ],
          "scatter": [
           {
            "marker": {
             "colorbar": {
              "outlinewidth": 0,
              "ticks": ""
             }
            },
            "type": "scatter"
           }
          ],
          "scatter3d": [
           {
            "line": {
             "colorbar": {
              "outlinewidth": 0,
              "ticks": ""
             }
            },
            "marker": {
             "colorbar": {
              "outlinewidth": 0,
              "ticks": ""
             }
            },
            "type": "scatter3d"
           }
          ],
          "scattercarpet": [
           {
            "marker": {
             "colorbar": {
              "outlinewidth": 0,
              "ticks": ""
             }
            },
            "type": "scattercarpet"
           }
          ],
          "scattergeo": [
           {
            "marker": {
             "colorbar": {
              "outlinewidth": 0,
              "ticks": ""
             }
            },
            "type": "scattergeo"
           }
          ],
          "scattergl": [
           {
            "marker": {
             "colorbar": {
              "outlinewidth": 0,
              "ticks": ""
             }
            },
            "type": "scattergl"
           }
          ],
          "scattermapbox": [
           {
            "marker": {
             "colorbar": {
              "outlinewidth": 0,
              "ticks": ""
             }
            },
            "type": "scattermapbox"
           }
          ],
          "scatterpolar": [
           {
            "marker": {
             "colorbar": {
              "outlinewidth": 0,
              "ticks": ""
             }
            },
            "type": "scatterpolar"
           }
          ],
          "scatterpolargl": [
           {
            "marker": {
             "colorbar": {
              "outlinewidth": 0,
              "ticks": ""
             }
            },
            "type": "scatterpolargl"
           }
          ],
          "scatterternary": [
           {
            "marker": {
             "colorbar": {
              "outlinewidth": 0,
              "ticks": ""
             }
            },
            "type": "scatterternary"
           }
          ],
          "surface": [
           {
            "colorbar": {
             "outlinewidth": 0,
             "ticks": ""
            },
            "colorscale": [
             [
              0,
              "#0d0887"
             ],
             [
              0.1111111111111111,
              "#46039f"
             ],
             [
              0.2222222222222222,
              "#7201a8"
             ],
             [
              0.3333333333333333,
              "#9c179e"
             ],
             [
              0.4444444444444444,
              "#bd3786"
             ],
             [
              0.5555555555555556,
              "#d8576b"
             ],
             [
              0.6666666666666666,
              "#ed7953"
             ],
             [
              0.7777777777777778,
              "#fb9f3a"
             ],
             [
              0.8888888888888888,
              "#fdca26"
             ],
             [
              1,
              "#f0f921"
             ]
            ],
            "type": "surface"
           }
          ],
          "table": [
           {
            "cells": {
             "fill": {
              "color": "#EBF0F8"
             },
             "line": {
              "color": "white"
             }
            },
            "header": {
             "fill": {
              "color": "#C8D4E3"
             },
             "line": {
              "color": "white"
             }
            },
            "type": "table"
           }
          ]
         },
         "layout": {
          "annotationdefaults": {
           "arrowcolor": "#2a3f5f",
           "arrowhead": 0,
           "arrowwidth": 1
          },
          "autotypenumbers": "strict",
          "coloraxis": {
           "colorbar": {
            "outlinewidth": 0,
            "ticks": ""
           }
          },
          "colorscale": {
           "diverging": [
            [
             0,
             "#8e0152"
            ],
            [
             0.1,
             "#c51b7d"
            ],
            [
             0.2,
             "#de77ae"
            ],
            [
             0.3,
             "#f1b6da"
            ],
            [
             0.4,
             "#fde0ef"
            ],
            [
             0.5,
             "#f7f7f7"
            ],
            [
             0.6,
             "#e6f5d0"
            ],
            [
             0.7,
             "#b8e186"
            ],
            [
             0.8,
             "#7fbc41"
            ],
            [
             0.9,
             "#4d9221"
            ],
            [
             1,
             "#276419"
            ]
           ],
           "sequential": [
            [
             0,
             "#0d0887"
            ],
            [
             0.1111111111111111,
             "#46039f"
            ],
            [
             0.2222222222222222,
             "#7201a8"
            ],
            [
             0.3333333333333333,
             "#9c179e"
            ],
            [
             0.4444444444444444,
             "#bd3786"
            ],
            [
             0.5555555555555556,
             "#d8576b"
            ],
            [
             0.6666666666666666,
             "#ed7953"
            ],
            [
             0.7777777777777778,
             "#fb9f3a"
            ],
            [
             0.8888888888888888,
             "#fdca26"
            ],
            [
             1,
             "#f0f921"
            ]
           ],
           "sequentialminus": [
            [
             0,
             "#0d0887"
            ],
            [
             0.1111111111111111,
             "#46039f"
            ],
            [
             0.2222222222222222,
             "#7201a8"
            ],
            [
             0.3333333333333333,
             "#9c179e"
            ],
            [
             0.4444444444444444,
             "#bd3786"
            ],
            [
             0.5555555555555556,
             "#d8576b"
            ],
            [
             0.6666666666666666,
             "#ed7953"
            ],
            [
             0.7777777777777778,
             "#fb9f3a"
            ],
            [
             0.8888888888888888,
             "#fdca26"
            ],
            [
             1,
             "#f0f921"
            ]
           ]
          },
          "colorway": [
           "#636efa",
           "#EF553B",
           "#00cc96",
           "#ab63fa",
           "#FFA15A",
           "#19d3f3",
           "#FF6692",
           "#B6E880",
           "#FF97FF",
           "#FECB52"
          ],
          "font": {
           "color": "#2a3f5f"
          },
          "geo": {
           "bgcolor": "white",
           "lakecolor": "white",
           "landcolor": "#E5ECF6",
           "showlakes": true,
           "showland": true,
           "subunitcolor": "white"
          },
          "hoverlabel": {
           "align": "left"
          },
          "hovermode": "closest",
          "mapbox": {
           "style": "light"
          },
          "paper_bgcolor": "white",
          "plot_bgcolor": "#E5ECF6",
          "polar": {
           "angularaxis": {
            "gridcolor": "white",
            "linecolor": "white",
            "ticks": ""
           },
           "bgcolor": "#E5ECF6",
           "radialaxis": {
            "gridcolor": "white",
            "linecolor": "white",
            "ticks": ""
           }
          },
          "scene": {
           "xaxis": {
            "backgroundcolor": "#E5ECF6",
            "gridcolor": "white",
            "gridwidth": 2,
            "linecolor": "white",
            "showbackground": true,
            "ticks": "",
            "zerolinecolor": "white"
           },
           "yaxis": {
            "backgroundcolor": "#E5ECF6",
            "gridcolor": "white",
            "gridwidth": 2,
            "linecolor": "white",
            "showbackground": true,
            "ticks": "",
            "zerolinecolor": "white"
           },
           "zaxis": {
            "backgroundcolor": "#E5ECF6",
            "gridcolor": "white",
            "gridwidth": 2,
            "linecolor": "white",
            "showbackground": true,
            "ticks": "",
            "zerolinecolor": "white"
           }
          },
          "shapedefaults": {
           "line": {
            "color": "#2a3f5f"
           }
          },
          "ternary": {
           "aaxis": {
            "gridcolor": "white",
            "linecolor": "white",
            "ticks": ""
           },
           "baxis": {
            "gridcolor": "white",
            "linecolor": "white",
            "ticks": ""
           },
           "bgcolor": "#E5ECF6",
           "caxis": {
            "gridcolor": "white",
            "linecolor": "white",
            "ticks": ""
           }
          },
          "title": {
           "x": 0.05
          },
          "xaxis": {
           "automargin": true,
           "gridcolor": "white",
           "linecolor": "white",
           "ticks": "",
           "title": {
            "standoff": 15
           },
           "zerolinecolor": "white",
           "zerolinewidth": 2
          },
          "yaxis": {
           "automargin": true,
           "gridcolor": "white",
           "linecolor": "white",
           "ticks": "",
           "title": {
            "standoff": 15
           },
           "zerolinecolor": "white",
           "zerolinewidth": 2
          }
         }
        },
        "title": {
         "text": "Wing Geometry",
         "x": 0.5
        },
        "xaxis": {
         "title": {
          "text": "y"
         }
        },
        "yaxis": {
         "scaleanchor": "x",
         "scaleratio": 1,
         "title": {
          "text": "x"
         }
        }
       }
      }
     },
     "metadata": {},
     "output_type": "display_data"
    }
   ],
   "source": [
    "fig = oad.wing_geometry_plot(MTOW_problem.output_file_path, name=\"FAST-OAD\")\n",
    "fig.show()"
   ]
  },
  {
   "cell_type": "code",
   "execution_count": 34,
   "id": "b9f434f9",
   "metadata": {},
   "outputs": [
    {
     "data": {
      "application/vnd.jupyter.widget-view+json": {
       "model_id": "a4e96127a26943bda47f5b4b1aa64693",
       "version_major": 2,
       "version_minor": 0
      },
      "text/plain": [
       "FigureWidget({\n",
       "    'data': [{'mode': 'lines+markers',\n",
       "              'type': 'scatter',\n",
       "              'uid': '3…"
      ]
     },
     "metadata": {},
     "output_type": "display_data"
    }
   ],
   "source": [
    "oad.aircraft_geometry_plot(MTOW_problem.output_file_path)"
   ]
  },
  {
   "cell_type": "markdown",
   "id": "5e516943",
   "metadata": {},
   "source": [
    "You can also plot the mission profile and fuel consumption history to compare with your computations: "
   ]
  },
  {
   "cell_type": "code",
   "execution_count": 35,
   "id": "a956be18",
   "metadata": {},
   "outputs": [],
   "source": [
    "SIZING_MISSION = pth.join(WORK_FOLDER_PATH, \"oad_sizing.csv\")\n",
    "\n",
    "mission = oad.MissionViewer()\n",
    "mission.add_mission(SIZING_MISSION, name=\"Aircraft design mission\")\n",
    "\n"
   ]
  },
  {
   "cell_type": "code",
   "execution_count": 36,
   "id": "6c4ef9b4",
   "metadata": {},
   "outputs": [
    {
     "data": {
      "application/vnd.jupyter.widget-view+json": {
       "model_id": "6fcb83893e894441a9efaf2000ea62e7",
       "version_major": 2,
       "version_minor": 0
      },
      "text/plain": [
       "VBox(children=(HBox(children=(Label(value='x:'), Dropdown(index=2, options=('time [s]', 'altitude [m]', 'groun…"
      ]
     },
     "metadata": {},
     "output_type": "display_data"
    }
   ],
   "source": [
    "mission.display()"
   ]
  },
  {
   "cell_type": "markdown",
   "id": "8b24d9e2",
   "metadata": {},
   "source": [
    "<div class=\"alert alert-block alert-danger\"><b>Warning:</b> Don't forget to download your work directory on your computer.</div>"
   ]
  },
  {
   "cell_type": "markdown",
   "id": "8775f66b",
   "metadata": {
    "tags": []
   },
   "source": [
    "***\n",
    "***\n",
    "\n",
    "## 2. Operational Missions\n",
    "\n",
    "Starting from your the FAST-OAD design of your aircraft you will now discover how to run a mission analysis for the an operational mission. The operationnal mission we will study is defined as follow:\n",
    "\n",
    "- Range = A value below the desing range (For example, on the CeRAS aircraft (https://ceras.ilr.rwth-aachen.de/tiki/tiki-index.php?page=Welcome) it is around 20% of the design range)\n",
    "- Diversion range = 200NM\n",
    "- Payload = Payload of the design mission\n",
    "\n",
    "For this mission the objective is to retrieve the fuel weight and consequently the take-off weight to later compare it to an other aircraft specifically design for the mission.\n",
    "\n",
    "The new mission will be defined in another [mission file](./data/operational_mission.yml) (though it could be done in the same file as for the sizing mission since only the range will change). They are composed of a main route and a diversion and only the range will be changed in the input file.\n",
    "\n",
    "### 2.1. Updating the configuration file \n",
    "Once you create an adapted mission file you should generate or retrieve a configuration file that would allow for a mission analysis to be run. Let's have a look to such a [file](./data/operational_mission_conf.yml): "
   ]
  },
  {
   "cell_type": "code",
   "execution_count": 37,
   "id": "f2354fc3",
   "metadata": {},
   "outputs": [],
   "source": [
    "CONFIGURATION_FILE = pth.join(DATA_FOLDER_PATH, \"operational_mission_conf.yml\")"
   ]
  },
  {
   "cell_type": "markdown",
   "id": "eacf2dcc",
   "metadata": {},
   "source": [
    "The [configuration file](./data/operational_mission_conf.yml) shows that high-speed aerodynamics subgroup and performances modules are called.\n",
    "\n",
    "The option `adjust_fuel` that is set to **True** indicates that fuel weight is adjusted to the need of the mission. The take-off weight will be the results of an iterative procedure and is computed as follow: \n",
    "\n",
    "$ TOW = OWE + PL + BF - F_{taxi-out} - F_{TO\\ run} $ with $OWE$ from the OAD sizing results, $BF$ being the block (loaded) fuel, $F_{taxi-out}$ and $F_{TO\\ run}$ being respectively the consumed fuel during taxi-out and takeoff run phases. \n",
    "\n",
    "You need to set the option `add_solver` to **True** to allow for the iterative process to take place if no solvers are defined in the configuration file. \n",
    "\n",
    "Note again that the `mission_name` option must correspond to a mission described in the [mission file](./data/operational_mission.yml).\n",
    "\n",
    "### 2.2. The input file\n",
    "\n",
    "As indicated in the introduction of this part, you will start from the results of the OAD sizing process you have just run to compute the operational missions take-off weight and fuel consumption. \n",
    "\n",
    "To do so, you just have to use the XML [output file](./data/oad_sizing_out.xml) from the OAD process as the source file to generate the new input file: "
   ]
  },
  {
   "cell_type": "code",
   "execution_count": 44,
   "id": "0c3ee0c9",
   "metadata": {},
   "outputs": [
    {
     "name": "stderr",
     "output_type": "stream",
     "text": [
      "INFO    : Problem inputs written in c:\\Users\\robbe\\Documents\\GitHub\\Aircraft-Design-2A\\B_Aircraft Sizing and Performances\\workdir\\operational_mission_in.xml\n"
     ]
    }
   ],
   "source": [
    "SOURCE_FILE = pth.join(WORK_FOLDER_PATH, \"oad_sizing_out.xml\")\n",
    "input_file_op = oad.generate_inputs(CONFIGURATION_FILE, SOURCE_FILE, overwrite=True)\n",
    "\n",
    "#input_file_op[\"data:mission:op_mission:payload\"].value = 20520.0\n",
    "#input_file_op[\"data:mission:op_mission:diversion:distance\"].value = 370400\n",
    "#input_file_op[\"data:mission:op_mission:holding:duration\"].value = 1800\n",
    "#input_file_op[\"data:mission:op_mission:main_route:range\"].value = 1156*10**3*1.852\n",
    "#input_file_op[\"data:mission:op_mission:takeoff:V2\"].value = 82.3\n",
    "#input_file_op[\"data:mission:op_mission:takeoff:altitude\"].value = 458.1\n",
    "#input_file_op[\"data:mission:op_mission:takeoff:fuel\"].value = 82.4\n",
    "#input_file_op[\"data:mission:op_mission:taxi_in:duration\"].value = 600\n",
    "#input_file_op[\"data:mission:op_mission:taxi_out:duration\"].value = 300\n",
    "#input_file_op[\"data:mission:op_mission:taxi_out:thrust_rate\"].value = 0.3\n"
   ]
  },
  {
   "cell_type": "markdown",
   "id": "6b9613a9",
   "metadata": {},
   "source": [
    "**Important note:** You should check carefully the mission inputs to be sure they are consistent with the mission specifications (mainly the range) and that no \"nan\" values are present. Don't forget to also set the correct payload."
   ]
  },
  {
   "cell_type": "code",
   "execution_count": 39,
   "id": "317b542a",
   "metadata": {},
   "outputs": [
    {
     "data": {
      "application/vnd.jupyter.widget-view+json": {
       "model_id": "fc4b50382c1a4a5bbf748974f63308b4",
       "version_major": 2,
       "version_minor": 0
      },
      "text/plain": [
       "VBox(children=(HBox(children=(Button(description='Load', icon='upload', style=ButtonStyle(), tooltip='Load the…"
      ]
     },
     "metadata": {},
     "output_type": "display_data"
    }
   ],
   "source": [
    "\n",
    "oad.variable_viewer(input_file_op)"
   ]
  },
  {
   "cell_type": "markdown",
   "id": "922aa04f",
   "metadata": {},
   "source": [
    "### 2.3. Operational Missions Runs\n",
    "\n",
    "You can now run the missions analyses:"
   ]
  },
  {
   "cell_type": "code",
   "execution_count": 45,
   "id": "3892f5e7",
   "metadata": {},
   "outputs": [
    {
     "name": "stderr",
     "output_type": "stream",
     "text": [
      "INFO    : Mission computation - iteration 0 : Using initializer computation. OTHER ITERATIONS NEEDED.\n",
      "INFO    : Mission computation - iteration 1 : Using mission definition.\n",
      "WARNING : Target cannot be reached in \"op_mission:main_route:initial_climb\". Segment computation interrupted.Please review the segment settings, especially thrust_rate.\n",
      "WARNING : Target cannot be reached in \"op_mission:main_route:initial_climb\". Segment computation interrupted.Please review the segment settings, especially thrust_rate.\n",
      "WARNING : Target cannot be reached in \"op_mission:main_route:initial_climb\". Segment computation interrupted.Please review the segment settings, especially thrust_rate.\n",
      "WARNING : Target cannot be reached in \"op_mission:main_route:initial_climb\". Segment computation interrupted.Please review the segment settings, especially thrust_rate.\n",
      "WARNING : Target cannot be reached in \"op_mission:main_route:initial_climb\". Segment computation interrupted.Please review the segment settings, especially thrust_rate.\n",
      "WARNING : Target cannot be reached in \"op_mission:main_route:initial_climb\". Segment computation interrupted.Please review the segment settings, especially thrust_rate.\n",
      "INFO    : Mission computation - iteration 2 : Using mission definition.\n",
      "WARNING : Target cannot be reached in \"op_mission:main_route:initial_climb\". Segment computation interrupted.Please review the segment settings, especially thrust_rate.\n",
      "WARNING : Target cannot be reached in \"op_mission:main_route:initial_climb\". Segment computation interrupted.Please review the segment settings, especially thrust_rate.\n",
      "WARNING : Target cannot be reached in \"op_mission:main_route:initial_climb\". Segment computation interrupted.Please review the segment settings, especially thrust_rate.\n",
      "WARNING : Target cannot be reached in \"op_mission:main_route:initial_climb\". Segment computation interrupted.Please review the segment settings, especially thrust_rate.\n",
      "WARNING : Target cannot be reached in \"op_mission:main_route:initial_climb\". Segment computation interrupted.Please review the segment settings, especially thrust_rate.\n",
      "WARNING : Target cannot be reached in \"op_mission:main_route:initial_climb\". Segment computation interrupted.Please review the segment settings, especially thrust_rate.\n",
      "INFO    : Mission computation - iteration 3 : Using mission definition.\n",
      "WARNING : Target cannot be reached in \"op_mission:main_route:initial_climb\". Segment computation interrupted.Please review the segment settings, especially thrust_rate.\n",
      "WARNING : Target cannot be reached in \"op_mission:main_route:initial_climb\". Segment computation interrupted.Please review the segment settings, especially thrust_rate.\n",
      "WARNING : Target cannot be reached in \"op_mission:main_route:initial_climb\". Segment computation interrupted.Please review the segment settings, especially thrust_rate.\n",
      "WARNING : Target cannot be reached in \"op_mission:main_route:initial_climb\". Segment computation interrupted.Please review the segment settings, especially thrust_rate.\n",
      "WARNING : Target cannot be reached in \"op_mission:main_route:initial_climb\". Segment computation interrupted.Please review the segment settings, especially thrust_rate.\n",
      "WARNING : Target cannot be reached in \"op_mission:main_route:initial_climb\". Segment computation interrupted.Please review the segment settings, especially thrust_rate.\n",
      "INFO    : Mission computation - iteration 4 : Using mission definition.\n",
      "WARNING : Target cannot be reached in \"op_mission:main_route:initial_climb\". Segment computation interrupted.Please review the segment settings, especially thrust_rate.\n",
      "WARNING : Target cannot be reached in \"op_mission:main_route:initial_climb\". Segment computation interrupted.Please review the segment settings, especially thrust_rate.\n",
      "WARNING : Target cannot be reached in \"op_mission:main_route:initial_climb\". Segment computation interrupted.Please review the segment settings, especially thrust_rate.\n",
      "WARNING : Target cannot be reached in \"op_mission:main_route:initial_climb\". Segment computation interrupted.Please review the segment settings, especially thrust_rate.\n",
      "WARNING : Target cannot be reached in \"op_mission:main_route:initial_climb\". Segment computation interrupted.Please review the segment settings, especially thrust_rate.\n",
      "WARNING : Target cannot be reached in \"op_mission:main_route:initial_climb\". Segment computation interrupted.Please review the segment settings, especially thrust_rate.\n",
      "INFO    : Mission computation - iteration 5 : Using mission definition.\n",
      "WARNING : Target cannot be reached in \"op_mission:main_route:initial_climb\". Segment computation interrupted.Please review the segment settings, especially thrust_rate.\n",
      "WARNING : Target cannot be reached in \"op_mission:main_route:initial_climb\". Segment computation interrupted.Please review the segment settings, especially thrust_rate.\n",
      "WARNING : Target cannot be reached in \"op_mission:main_route:initial_climb\". Segment computation interrupted.Please review the segment settings, especially thrust_rate.\n",
      "WARNING : Target cannot be reached in \"op_mission:main_route:initial_climb\". Segment computation interrupted.Please review the segment settings, especially thrust_rate.\n",
      "WARNING : Target cannot be reached in \"op_mission:main_route:initial_climb\". Segment computation interrupted.Please review the segment settings, especially thrust_rate.\n",
      "WARNING : Target cannot be reached in \"op_mission:main_route:initial_climb\". Segment computation interrupted.Please review the segment settings, especially thrust_rate.\n",
      "INFO    : Mission computation - iteration 6 : Using mission definition.\n",
      "WARNING : Target cannot be reached in \"op_mission:main_route:initial_climb\". Segment computation interrupted.Please review the segment settings, especially thrust_rate.\n",
      "WARNING : Target cannot be reached in \"op_mission:main_route:initial_climb\". Segment computation interrupted.Please review the segment settings, especially thrust_rate.\n",
      "WARNING : Target cannot be reached in \"op_mission:main_route:initial_climb\". Segment computation interrupted.Please review the segment settings, especially thrust_rate.\n",
      "WARNING : Target cannot be reached in \"op_mission:main_route:initial_climb\". Segment computation interrupted.Please review the segment settings, especially thrust_rate.\n",
      "WARNING : Target cannot be reached in \"op_mission:main_route:initial_climb\". Segment computation interrupted.Please review the segment settings, especially thrust_rate.\n",
      "WARNING : Target cannot be reached in \"op_mission:main_route:initial_climb\". Segment computation interrupted.Please review the segment settings, especially thrust_rate.\n",
      "WARNING : Variable \"data:propulsion:rubber_engine:turbine_inlet_temperature\" out of bound: value [1633.] degK is over upper limit ( 1600.0 ) in file C:\\Users\\robbe\\AppData\\Local\\Programs\\Python\\Python38\\lib\\site-packages\\fastoad_cs25\\models\\propulsion\\fuel_propulsion\\rubber_engine\\openmdao.py\n",
      "INFO    : Computation finished after 26.13 seconds\n",
      "INFO    : Problem outputs written in c:\\Users\\robbe\\Documents\\GitHub\\Aircraft-Design-2A\\B_Aircraft Sizing and Performances\\workdir\\operational_mission_out.xml\n"
     ]
    }
   ],
   "source": [
    "operational_problem = oad.evaluate_problem(CONFIGURATION_FILE, overwrite=True)"
   ]
  },
  {
   "cell_type": "markdown",
   "id": "ccb5e823",
   "metadata": {},
   "source": [
    "The XML [output file](./workdir/operational_mission_out.xml) can be displayed in a table format using `variable_viewer`function. And you can compare the fuel consumptions and TOW with the values from the sizing mission just to see that they are indeed below the values for the sizing mission."
   ]
  },
  {
   "cell_type": "code",
   "execution_count": 46,
   "id": "68f28a38",
   "metadata": {},
   "outputs": [
    {
     "data": {
      "application/vnd.jupyter.widget-view+json": {
       "model_id": "c610356c76e24aeeb949a2fd0d2152fa",
       "version_major": 2,
       "version_minor": 0
      },
      "text/plain": [
       "VBox(children=(HBox(children=(Button(description='Load', icon='upload', style=ButtonStyle(), tooltip='Load the…"
      ]
     },
     "metadata": {},
     "output_type": "display_data"
    }
   ],
   "source": [
    "oad.variable_viewer(operational_problem.output_file_path)"
   ]
  },
  {
   "cell_type": "markdown",
   "id": "75494123",
   "metadata": {},
   "source": [
    "You can also take a look at the mission profile:"
   ]
  },
  {
   "cell_type": "code",
   "execution_count": 47,
   "id": "6c85c259",
   "metadata": {},
   "outputs": [],
   "source": [
    "OP_MISSION = pth.join(WORK_FOLDER_PATH, \"operational_mission_study.csv\")\n",
    "SIZING_MISSION = pth.join(WORK_FOLDER_PATH, \"oad_sizing.csv\")\n",
    "\n",
    "mission = oad.MissionViewer()\n",
    "\n",
    "mission.add_mission(SIZING_MISSION, name=\"Aircraft design mission\")\n",
    "mission.add_mission(OP_MISSION, name=\"Aircraft operational mission\")"
   ]
  },
  {
   "cell_type": "code",
   "execution_count": 48,
   "id": "b373315a",
   "metadata": {},
   "outputs": [
    {
     "data": {
      "application/vnd.jupyter.widget-view+json": {
       "model_id": "7ffdf12741474462a5cd78b4084edede",
       "version_major": 2,
       "version_minor": 0
      },
      "text/plain": [
       "VBox(children=(HBox(children=(Label(value='x:'), Dropdown(index=2, options=('time [s]', 'altitude [m]', 'groun…"
      ]
     },
     "metadata": {},
     "output_type": "display_data"
    }
   ],
   "source": [
    "mission.display()"
   ]
  },
  {
   "cell_type": "markdown",
   "id": "bdad2d92",
   "metadata": {},
   "source": [
    "At this point you can compute the fuel consumption, but don't forget to include to the main route the taxi out and takeoff phases. The reserves are not directly used for this computation even though they have an impact through the weight of the aircraft. \n",
    "\n",
    "Compare the fuel consumption per passenger and kilometer for the design mission and operationnal mission."
   ]
  },
  {
   "cell_type": "markdown",
   "id": "035e6c9a",
   "metadata": {},
   "source": [
    "<div class=\"alert alert-block alert-danger\"><b>Warning:</b> Don't forget to download your work directory on your computer.</div>"
   ]
  },
  {
   "cell_type": "markdown",
   "id": "0b2fbbdf",
   "metadata": {},
   "source": [
    "***\n",
    "***\n",
    "\n",
    "## 3. Redesign of the aircraft for the operational mission\n",
    "\n",
    "The next part of this notebook will consist in redesigning the original aircraft so that the performance mission you selected in the second part will be the design mission and assessing the change in terms of weight and fuel consumption. For this part, we will reuse the [mission file](./data/design_mission.yml) from the first part but we will use a diffent [configuration file](./data/redesign_sizing.yml) so that we can change the name of the input and output file.\n",
    "\n",
    "Since we used the same modules in the current configuration file than we did in the first part, the data we will need will remain the same, only their value are likely to change. Consequently, we will be able to use the input file from the first part as the source file for this third part, which is what we will do to avoid losing time. We will then be able to generate the input file based on this source file."
   ]
  },
  {
   "cell_type": "code",
   "execution_count": 49,
   "id": "186d5689",
   "metadata": {},
   "outputs": [
    {
     "name": "stderr",
     "output_type": "stream",
     "text": [
      "INFO    : Problem inputs written in c:\\Users\\robbe\\Documents\\GitHub\\Aircraft-Design-2A\\B_Aircraft Sizing and Performances\\workdir\\redesign_sizing_in.xml\n"
     ]
    }
   ],
   "source": [
    "SOURCE_FILE_REDESIGN = INPUT_FILE\n",
    "REDESIGN_CONFIGURATON_FILE = pth.join(DATA_FOLDER_PATH, \"redesign_sizing.yml\")\n",
    "\n",
    "input_file_redesign = oad.generate_inputs(REDESIGN_CONFIGURATON_FILE, SOURCE_FILE_REDESIGN, overwrite=True)"
   ]
  },
  {
   "cell_type": "markdown",
   "id": "ac602e29",
   "metadata": {},
   "source": [
    "Don't forget to change the relevant parameter to match the redesign we want. This can be done with the Variable Viewer, but don't forget to save the file after you've made your change or the inputs from the first part will be used."
   ]
  },
  {
   "cell_type": "code",
   "execution_count": 59,
   "id": "8a675156",
   "metadata": {},
   "outputs": [
    {
     "data": {
      "application/vnd.jupyter.widget-view+json": {
       "model_id": "fbcb74569d9049b2b45f410b9351e43f",
       "version_major": 2,
       "version_minor": 0
      },
      "text/plain": [
       "VBox(children=(HBox(children=(Button(description='Load', icon='upload', style=ButtonStyle(), tooltip='Load the…"
      ]
     },
     "metadata": {},
     "output_type": "display_data"
    }
   ],
   "source": [
    "oad.variable_viewer(input_file_redesign)"
   ]
  },
  {
   "cell_type": "markdown",
   "id": "e75e05c0",
   "metadata": {},
   "source": [
    "You can now run the new problem with the following cell:"
   ]
  },
  {
   "cell_type": "code",
   "execution_count": 60,
   "id": "6c12179a",
   "metadata": {},
   "outputs": [
    {
     "name": "stderr",
     "output_type": "stream",
     "text": [
      "INFO    : Mission computation - iteration 0 : Using initializer computation. OTHER ITERATIONS NEEDED.\n",
      "INFO    : Mission computation - iteration 1 : Using mission definition.\n",
      "WARNING : Target cannot be reached in \"MTOW_mission:main_route:descent\". Segment computation interrupted.Please review the segment settings, especially thrust_rate.\n",
      "WARNING : Target cannot be reached in \"MTOW_mission:main_route:descent\". Segment computation interrupted.Please review the segment settings, especially thrust_rate.\n",
      "WARNING : Target cannot be reached in \"MTOW_mission:main_route:descent\". Segment computation interrupted.Please review the segment settings, especially thrust_rate.\n",
      "WARNING : Target cannot be reached in \"MTOW_mission:diversion:descent\". Segment computation interrupted.Please review the segment settings, especially thrust_rate.\n",
      "WARNING : Target cannot be reached in \"MTOW_mission:diversion:descent\". Segment computation interrupted.Please review the segment settings, especially thrust_rate.\n",
      "WARNING : Target cannot be reached in \"MTOW_mission:diversion:cruise\". Segment computation interrupted.Please review the segment settings, especially thrust_rate.\n",
      "WARNING : Target cannot be reached in \"MTOW_mission:diversion:descent\". Segment computation interrupted.Please review the segment settings, especially thrust_rate.\n",
      "WARNING : Target cannot be reached in \"MTOW_mission:diversion:cruise\". Segment computation interrupted.Please review the segment settings, especially thrust_rate.\n",
      "WARNING : Target cannot be reached in \"MTOW_mission:diversion:descent\". Segment computation interrupted.Please review the segment settings, especially thrust_rate.\n",
      "INFO    : Mission computation - iteration 2 : Using mission definition.\n",
      "WARNING : Target cannot be reached in \"MTOW_mission:diversion:descent\". Segment computation interrupted.Please review the segment settings, especially thrust_rate.\n",
      "WARNING : Target cannot be reached in \"MTOW_mission:diversion:descent\". Segment computation interrupted.Please review the segment settings, especially thrust_rate.\n",
      "WARNING : Target cannot be reached in \"MTOW_mission:diversion:cruise\". Segment computation interrupted.Please review the segment settings, especially thrust_rate.\n",
      "WARNING : Target cannot be reached in \"MTOW_mission:diversion:cruise\". Segment computation interrupted.Please review the segment settings, especially thrust_rate.\n",
      "INFO    : Mission computation - iteration 3 : Using mission definition.\n",
      "WARNING : Target cannot be reached in \"MTOW_mission:diversion:descent\". Segment computation interrupted.Please review the segment settings, especially thrust_rate.\n",
      "WARNING : Target cannot be reached in \"MTOW_mission:diversion:descent\". Segment computation interrupted.Please review the segment settings, especially thrust_rate.\n",
      "WARNING : Target cannot be reached in \"MTOW_mission:diversion:cruise\". Segment computation interrupted.Please review the segment settings, especially thrust_rate.\n",
      "WARNING : Target cannot be reached in \"MTOW_mission:diversion:cruise\". Segment computation interrupted.Please review the segment settings, especially thrust_rate.\n",
      "INFO    : Mission computation - iteration 4 : Using mission definition.\n",
      "WARNING : Target cannot be reached in \"MTOW_mission:diversion:descent\". Segment computation interrupted.Please review the segment settings, especially thrust_rate.\n",
      "WARNING : Target cannot be reached in \"MTOW_mission:diversion:cruise\". Segment computation interrupted.Please review the segment settings, especially thrust_rate.\n",
      "WARNING : Target cannot be reached in \"MTOW_mission:diversion:cruise\". Segment computation interrupted.Please review the segment settings, especially thrust_rate.\n",
      "INFO    : Mission computation - iteration 5 : Using mission definition.\n",
      "WARNING : Target cannot be reached in \"MTOW_mission:diversion:cruise\". Segment computation interrupted.Please review the segment settings, especially thrust_rate.\n",
      "WARNING : Target cannot be reached in \"MTOW_mission:diversion:cruise\". Segment computation interrupted.Please review the segment settings, especially thrust_rate.\n",
      "INFO    : Mission computation - iteration 6 : Using mission definition.\n",
      "WARNING : Target cannot be reached in \"MTOW_mission:diversion:cruise\". Segment computation interrupted.Please review the segment settings, especially thrust_rate.\n",
      "WARNING : Target cannot be reached in \"MTOW_mission:diversion:cruise\". Segment computation interrupted.Please review the segment settings, especially thrust_rate.\n",
      "INFO    : Mission computation - iteration 7 : Using mission definition.\n",
      "WARNING : Target cannot be reached in \"MTOW_mission:diversion:cruise\". Segment computation interrupted.Please review the segment settings, especially thrust_rate.\n",
      "WARNING : Target cannot be reached in \"MTOW_mission:diversion:cruise\". Segment computation interrupted.Please review the segment settings, especially thrust_rate.\n",
      "INFO    : Mission computation - iteration 8 : Using mission definition.\n",
      "WARNING : Target cannot be reached in \"MTOW_mission:diversion:cruise\". Segment computation interrupted.Please review the segment settings, especially thrust_rate.\n",
      "WARNING : Target cannot be reached in \"MTOW_mission:diversion:cruise\". Segment computation interrupted.Please review the segment settings, especially thrust_rate.\n",
      "INFO    : Mission computation - iteration 9 : Using mission definition.\n",
      "WARNING : Target cannot be reached in \"MTOW_mission:diversion:cruise\". Segment computation interrupted.Please review the segment settings, especially thrust_rate.\n",
      "WARNING : Target cannot be reached in \"MTOW_mission:diversion:cruise\". Segment computation interrupted.Please review the segment settings, especially thrust_rate.\n",
      "INFO    : Mission computation - iteration 10 : Using mission definition.\n",
      "WARNING : Target cannot be reached in \"MTOW_mission:diversion:cruise\". Segment computation interrupted.Please review the segment settings, especially thrust_rate.\n",
      "WARNING : Target cannot be reached in \"MTOW_mission:diversion:cruise\". Segment computation interrupted.Please review the segment settings, especially thrust_rate.\n",
      "INFO    : Mission computation - iteration 11 : Using mission definition.\n",
      "WARNING : Target cannot be reached in \"MTOW_mission:diversion:cruise\". Segment computation interrupted.Please review the segment settings, especially thrust_rate.\n",
      "WARNING : Target cannot be reached in \"MTOW_mission:diversion:cruise\". Segment computation interrupted.Please review the segment settings, especially thrust_rate.\n",
      "INFO    : Mission computation - iteration 12 : Using mission definition.\n",
      "WARNING : Target cannot be reached in \"MTOW_mission:diversion:cruise\". Segment computation interrupted.Please review the segment settings, especially thrust_rate.\n",
      "WARNING : Target cannot be reached in \"MTOW_mission:diversion:cruise\". Segment computation interrupted.Please review the segment settings, especially thrust_rate.\n",
      "INFO    : Mission computation - iteration 13 : Using mission definition.\n",
      "WARNING : Target cannot be reached in \"MTOW_mission:diversion:cruise\". Segment computation interrupted.Please review the segment settings, especially thrust_rate.\n",
      "WARNING : Target cannot be reached in \"MTOW_mission:diversion:cruise\". Segment computation interrupted.Please review the segment settings, especially thrust_rate.\n",
      "INFO    : Mission computation - iteration 14 : Using mission definition.\n",
      "WARNING : Target cannot be reached in \"MTOW_mission:diversion:cruise\". Segment computation interrupted.Please review the segment settings, especially thrust_rate.\n",
      "WARNING : Target cannot be reached in \"MTOW_mission:diversion:cruise\". Segment computation interrupted.Please review the segment settings, especially thrust_rate.\n",
      "INFO    : Mission computation - iteration 15 : Using mission definition.\n",
      "WARNING : Target cannot be reached in \"MTOW_mission:diversion:cruise\". Segment computation interrupted.Please review the segment settings, especially thrust_rate.\n",
      "WARNING : Target cannot be reached in \"MTOW_mission:diversion:cruise\". Segment computation interrupted.Please review the segment settings, especially thrust_rate.\n",
      "INFO    : Mission computation - iteration 16 : Using mission definition.\n",
      "WARNING : Target cannot be reached in \"MTOW_mission:diversion:cruise\". Segment computation interrupted.Please review the segment settings, especially thrust_rate.\n",
      "WARNING : Target cannot be reached in \"MTOW_mission:diversion:cruise\". Segment computation interrupted.Please review the segment settings, especially thrust_rate.\n",
      "INFO    : Mission computation - iteration 17 : Using mission definition.\n",
      "WARNING : Target cannot be reached in \"MTOW_mission:diversion:cruise\". Segment computation interrupted.Please review the segment settings, especially thrust_rate.\n",
      "WARNING : Target cannot be reached in \"MTOW_mission:diversion:cruise\". Segment computation interrupted.Please review the segment settings, especially thrust_rate.\n",
      "INFO    : Mission computation - iteration 18 : Using mission definition.\n",
      "WARNING : Target cannot be reached in \"MTOW_mission:diversion:cruise\". Segment computation interrupted.Please review the segment settings, especially thrust_rate.\n",
      "WARNING : Target cannot be reached in \"MTOW_mission:diversion:cruise\". Segment computation interrupted.Please review the segment settings, especially thrust_rate.\n",
      "INFO    : Mission computation - iteration 19 : Using mission definition.\n",
      "WARNING : Target cannot be reached in \"MTOW_mission:diversion:cruise\". Segment computation interrupted.Please review the segment settings, especially thrust_rate.\n",
      "WARNING : Target cannot be reached in \"MTOW_mission:diversion:cruise\". Segment computation interrupted.Please review the segment settings, especially thrust_rate.\n",
      "INFO    : Mission computation - iteration 20 : Using mission definition.\n",
      "WARNING : Target cannot be reached in \"MTOW_mission:diversion:cruise\". Segment computation interrupted.Please review the segment settings, especially thrust_rate.\n",
      "WARNING : Target cannot be reached in \"MTOW_mission:diversion:cruise\". Segment computation interrupted.Please review the segment settings, especially thrust_rate.\n"
     ]
    },
    {
     "name": "stdout",
     "output_type": "stream",
     "text": [
      "NL: NLBGS Converged in 21 iterations\n"
     ]
    },
    {
     "name": "stderr",
     "output_type": "stream",
     "text": [
      "WARNING : Variable \"data:propulsion:rubber_engine:turbine_inlet_temperature\" out of bound: value [1633.] degK is over upper limit ( 1600.0 ) in file C:\\Users\\robbe\\AppData\\Local\\Programs\\Python\\Python38\\lib\\site-packages\\fastoad_cs25\\models\\propulsion\\fuel_propulsion\\rubber_engine\\openmdao.py\n",
      "INFO    : Computation finished after 171.02 seconds\n",
      "INFO    : Problem outputs written in c:\\Users\\robbe\\Documents\\GitHub\\Aircraft-Design-2A\\B_Aircraft Sizing and Performances\\workdir\\redesign_sizing_out.xml\n"
     ]
    }
   ],
   "source": [
    "REDESIGN_problem = oad.evaluate_problem(REDESIGN_CONFIGURATON_FILE, overwrite=True)"
   ]
  },
  {
   "cell_type": "markdown",
   "id": "a23d85ac",
   "metadata": {},
   "source": [
    "The analysis of the results is left up to you. You can use the tools we presented in this notebook or in the second notebook to create plots for the report and for the comparaison of the aircrafts. We mainly expect a comparaison in the fuel consumption, the geometry of the aircraft and the mass breakdown but feel free to add any analysis that you feel like is relevant. You can use the next cell to execute your code. Don't forget that once you close your Binder session, all files are lost so regularly download the files of interest (source files, output files and this notebook if you made any change)."
   ]
  },
  {
   "cell_type": "code",
   "execution_count": 61,
   "id": "249f03a9",
   "metadata": {},
   "outputs": [
    {
     "data": {
      "application/vnd.jupyter.widget-view+json": {
       "model_id": "c23f9169cc1f4ca8b6e80562974db145",
       "version_major": 2,
       "version_minor": 0
      },
      "text/plain": [
       "VBox(children=(HBox(children=(Button(description='Load', icon='upload', style=ButtonStyle(), tooltip='Load the…"
      ]
     },
     "metadata": {},
     "output_type": "display_data"
    }
   ],
   "source": [
    "oad.variable_viewer(REDESIGN_problem.output_file_path)\n",
    "\n",
    "\n"
   ]
  },
  {
   "cell_type": "markdown",
   "id": "931b750e",
   "metadata": {},
   "source": [
    "Once again compare the fuel consumption per passenger and kilometer on all the mission."
   ]
  },
  {
   "cell_type": "markdown",
   "id": "35e436a1",
   "metadata": {},
   "source": [
    "<div class=\"alert alert-block alert-danger\"><b>Warning:</b> Don't forget to download your work directory on your computer once you are done with the post-processing.</div>"
   ]
  },
  {
   "cell_type": "markdown",
   "id": "ad64542a",
   "metadata": {},
   "source": [
    "You will find that the engine you put on the aircraft is oversized as the MTOW has decreased a lot during the redesign. This means that there is additional unwanted weight and this shifts the point of best sfc, which means an overestimated fuel consumption. Select new engines (mainly their T/O thrust) by justifying you choice through a quick computation or historical data. We could do multiple iteration this way, but here only one is asked.\n",
    "\n",
    "How has the fuel consumption evolved ? What conclusion do you draw from this ? "
   ]
  },
  {
   "cell_type": "code",
   "execution_count": 62,
   "id": "569ea8e6",
   "metadata": {},
   "outputs": [],
   "source": [
    "OP_MISSION = pth.join(WORK_FOLDER_PATH, \"operational_mission_study.csv\")\n",
    "RESIZING_MISSION = pth.join(WORK_FOLDER_PATH, \"oad_resizing.csv\")\n",
    "\n",
    "mission = oad.MissionViewer()\n",
    "mission.add_mission(OP_MISSION, name=\"Aircraft operational mission\")\n",
    "\n",
    "mission.add_mission(RESIZING_MISSION, name=\"Aircraft redesign mission\")\n",
    "\n"
   ]
  },
  {
   "cell_type": "code",
   "execution_count": 64,
   "id": "02c89a8a",
   "metadata": {},
   "outputs": [
    {
     "data": {
      "application/vnd.jupyter.widget-view+json": {
       "model_id": "53f0de2a845542499367d965a706463e",
       "version_major": 2,
       "version_minor": 0
      },
      "text/plain": [
       "VBox(children=(HBox(children=(Label(value='x:'), Dropdown(index=2, options=('time [s]', 'altitude [m]', 'groun…"
      ]
     },
     "metadata": {},
     "output_type": "display_data"
    }
   ],
   "source": [
    "mission.display()"
   ]
  },
  {
   "cell_type": "code",
   "execution_count": 65,
   "id": "73718149-bb63-428e-aea5-5ff13262430b",
   "metadata": {},
   "outputs": [
    {
     "data": {
      "application/vnd.plotly.v1+json": {
       "config": {
        "plotlyServerURL": "https://plot.ly"
       },
       "data": [
        {
         "mode": "lines+markers",
         "name": "Aircraft operational mission",
         "type": "scatter",
         "uid": "6f710775-48f9-488c-8eb7-05ef2646d3a4",
         "x": [
          0,
          -2.5164400000000002,
          -9.19689630089274,
          -24.525056802380643,
          -24.525056802380643,
          -9.19689630089274,
          -2.5164400000000002,
          0,
          0,
          0,
          2.5164400000000002,
          9.19689630089274,
          24.525056802380643,
          24.525056802380643,
          9.19689630089274,
          2.5164400000000002,
          0,
          0
         ],
         "y": [
          18.871395422620754,
          18.871395422620754,
          23.066317910729712,
          32.69147557854385,
          35.20817177314009,
          29.394620970843118,
          29.394620970843118,
          29.394620970843118,
          18.871395422620754,
          18.871395422620754,
          18.871395422620754,
          23.066317910729712,
          32.69147557854385,
          35.20817177314009,
          29.394620970843118,
          29.394620970843118,
          29.394620970843118,
          18.871395422620754
         ]
        },
        {
         "mode": "lines+markers",
         "name": "Aircraft redesign mission",
         "type": "scatter",
         "uid": "d757a450-67a0-4a14-b5c0-7d0d5d457f6a",
         "x": [
          0,
          -2.5164400000000002,
          -8.538169936604454,
          -22.768453164278547,
          -22.768453164278547,
          -8.538169936604454,
          -2.5164400000000002,
          0,
          0,
          0,
          2.5164400000000002,
          8.538169936604454,
          22.768453164278547,
          22.768453164278547,
          8.538169936604454,
          2.5164400000000002,
          0,
          0
         ],
         "y": [
          19.406027727290244,
          19.406027727290244,
          23.189837151506065,
          32.131566580258166,
          34.4630284596883,
          29.08378924146462,
          29.08378924146462,
          29.08378924146462,
          19.406027727290244,
          19.406027727290244,
          19.406027727290244,
          23.189837151506065,
          32.131566580258166,
          34.4630284596883,
          29.08378924146462,
          29.08378924146462,
          29.08378924146462,
          19.406027727290244
         ]
        }
       ],
       "layout": {
        "template": {
         "data": {
          "bar": [
           {
            "error_x": {
             "color": "#2a3f5f"
            },
            "error_y": {
             "color": "#2a3f5f"
            },
            "marker": {
             "line": {
              "color": "#E5ECF6",
              "width": 0.5
             },
             "pattern": {
              "fillmode": "overlay",
              "size": 10,
              "solidity": 0.2
             }
            },
            "type": "bar"
           }
          ],
          "barpolar": [
           {
            "marker": {
             "line": {
              "color": "#E5ECF6",
              "width": 0.5
             },
             "pattern": {
              "fillmode": "overlay",
              "size": 10,
              "solidity": 0.2
             }
            },
            "type": "barpolar"
           }
          ],
          "carpet": [
           {
            "aaxis": {
             "endlinecolor": "#2a3f5f",
             "gridcolor": "white",
             "linecolor": "white",
             "minorgridcolor": "white",
             "startlinecolor": "#2a3f5f"
            },
            "baxis": {
             "endlinecolor": "#2a3f5f",
             "gridcolor": "white",
             "linecolor": "white",
             "minorgridcolor": "white",
             "startlinecolor": "#2a3f5f"
            },
            "type": "carpet"
           }
          ],
          "choropleth": [
           {
            "colorbar": {
             "outlinewidth": 0,
             "ticks": ""
            },
            "type": "choropleth"
           }
          ],
          "contour": [
           {
            "colorbar": {
             "outlinewidth": 0,
             "ticks": ""
            },
            "colorscale": [
             [
              0,
              "#0d0887"
             ],
             [
              0.1111111111111111,
              "#46039f"
             ],
             [
              0.2222222222222222,
              "#7201a8"
             ],
             [
              0.3333333333333333,
              "#9c179e"
             ],
             [
              0.4444444444444444,
              "#bd3786"
             ],
             [
              0.5555555555555556,
              "#d8576b"
             ],
             [
              0.6666666666666666,
              "#ed7953"
             ],
             [
              0.7777777777777778,
              "#fb9f3a"
             ],
             [
              0.8888888888888888,
              "#fdca26"
             ],
             [
              1,
              "#f0f921"
             ]
            ],
            "type": "contour"
           }
          ],
          "contourcarpet": [
           {
            "colorbar": {
             "outlinewidth": 0,
             "ticks": ""
            },
            "type": "contourcarpet"
           }
          ],
          "heatmap": [
           {
            "colorbar": {
             "outlinewidth": 0,
             "ticks": ""
            },
            "colorscale": [
             [
              0,
              "#0d0887"
             ],
             [
              0.1111111111111111,
              "#46039f"
             ],
             [
              0.2222222222222222,
              "#7201a8"
             ],
             [
              0.3333333333333333,
              "#9c179e"
             ],
             [
              0.4444444444444444,
              "#bd3786"
             ],
             [
              0.5555555555555556,
              "#d8576b"
             ],
             [
              0.6666666666666666,
              "#ed7953"
             ],
             [
              0.7777777777777778,
              "#fb9f3a"
             ],
             [
              0.8888888888888888,
              "#fdca26"
             ],
             [
              1,
              "#f0f921"
             ]
            ],
            "type": "heatmap"
           }
          ],
          "heatmapgl": [
           {
            "colorbar": {
             "outlinewidth": 0,
             "ticks": ""
            },
            "colorscale": [
             [
              0,
              "#0d0887"
             ],
             [
              0.1111111111111111,
              "#46039f"
             ],
             [
              0.2222222222222222,
              "#7201a8"
             ],
             [
              0.3333333333333333,
              "#9c179e"
             ],
             [
              0.4444444444444444,
              "#bd3786"
             ],
             [
              0.5555555555555556,
              "#d8576b"
             ],
             [
              0.6666666666666666,
              "#ed7953"
             ],
             [
              0.7777777777777778,
              "#fb9f3a"
             ],
             [
              0.8888888888888888,
              "#fdca26"
             ],
             [
              1,
              "#f0f921"
             ]
            ],
            "type": "heatmapgl"
           }
          ],
          "histogram": [
           {
            "marker": {
             "pattern": {
              "fillmode": "overlay",
              "size": 10,
              "solidity": 0.2
             }
            },
            "type": "histogram"
           }
          ],
          "histogram2d": [
           {
            "colorbar": {
             "outlinewidth": 0,
             "ticks": ""
            },
            "colorscale": [
             [
              0,
              "#0d0887"
             ],
             [
              0.1111111111111111,
              "#46039f"
             ],
             [
              0.2222222222222222,
              "#7201a8"
             ],
             [
              0.3333333333333333,
              "#9c179e"
             ],
             [
              0.4444444444444444,
              "#bd3786"
             ],
             [
              0.5555555555555556,
              "#d8576b"
             ],
             [
              0.6666666666666666,
              "#ed7953"
             ],
             [
              0.7777777777777778,
              "#fb9f3a"
             ],
             [
              0.8888888888888888,
              "#fdca26"
             ],
             [
              1,
              "#f0f921"
             ]
            ],
            "type": "histogram2d"
           }
          ],
          "histogram2dcontour": [
           {
            "colorbar": {
             "outlinewidth": 0,
             "ticks": ""
            },
            "colorscale": [
             [
              0,
              "#0d0887"
             ],
             [
              0.1111111111111111,
              "#46039f"
             ],
             [
              0.2222222222222222,
              "#7201a8"
             ],
             [
              0.3333333333333333,
              "#9c179e"
             ],
             [
              0.4444444444444444,
              "#bd3786"
             ],
             [
              0.5555555555555556,
              "#d8576b"
             ],
             [
              0.6666666666666666,
              "#ed7953"
             ],
             [
              0.7777777777777778,
              "#fb9f3a"
             ],
             [
              0.8888888888888888,
              "#fdca26"
             ],
             [
              1,
              "#f0f921"
             ]
            ],
            "type": "histogram2dcontour"
           }
          ],
          "mesh3d": [
           {
            "colorbar": {
             "outlinewidth": 0,
             "ticks": ""
            },
            "type": "mesh3d"
           }
          ],
          "parcoords": [
           {
            "line": {
             "colorbar": {
              "outlinewidth": 0,
              "ticks": ""
             }
            },
            "type": "parcoords"
           }
          ],
          "pie": [
           {
            "automargin": true,
            "type": "pie"
           }
          ],
          "scatter": [
           {
            "marker": {
             "colorbar": {
              "outlinewidth": 0,
              "ticks": ""
             }
            },
            "type": "scatter"
           }
          ],
          "scatter3d": [
           {
            "line": {
             "colorbar": {
              "outlinewidth": 0,
              "ticks": ""
             }
            },
            "marker": {
             "colorbar": {
              "outlinewidth": 0,
              "ticks": ""
             }
            },
            "type": "scatter3d"
           }
          ],
          "scattercarpet": [
           {
            "marker": {
             "colorbar": {
              "outlinewidth": 0,
              "ticks": ""
             }
            },
            "type": "scattercarpet"
           }
          ],
          "scattergeo": [
           {
            "marker": {
             "colorbar": {
              "outlinewidth": 0,
              "ticks": ""
             }
            },
            "type": "scattergeo"
           }
          ],
          "scattergl": [
           {
            "marker": {
             "colorbar": {
              "outlinewidth": 0,
              "ticks": ""
             }
            },
            "type": "scattergl"
           }
          ],
          "scattermapbox": [
           {
            "marker": {
             "colorbar": {
              "outlinewidth": 0,
              "ticks": ""
             }
            },
            "type": "scattermapbox"
           }
          ],
          "scatterpolar": [
           {
            "marker": {
             "colorbar": {
              "outlinewidth": 0,
              "ticks": ""
             }
            },
            "type": "scatterpolar"
           }
          ],
          "scatterpolargl": [
           {
            "marker": {
             "colorbar": {
              "outlinewidth": 0,
              "ticks": ""
             }
            },
            "type": "scatterpolargl"
           }
          ],
          "scatterternary": [
           {
            "marker": {
             "colorbar": {
              "outlinewidth": 0,
              "ticks": ""
             }
            },
            "type": "scatterternary"
           }
          ],
          "surface": [
           {
            "colorbar": {
             "outlinewidth": 0,
             "ticks": ""
            },
            "colorscale": [
             [
              0,
              "#0d0887"
             ],
             [
              0.1111111111111111,
              "#46039f"
             ],
             [
              0.2222222222222222,
              "#7201a8"
             ],
             [
              0.3333333333333333,
              "#9c179e"
             ],
             [
              0.4444444444444444,
              "#bd3786"
             ],
             [
              0.5555555555555556,
              "#d8576b"
             ],
             [
              0.6666666666666666,
              "#ed7953"
             ],
             [
              0.7777777777777778,
              "#fb9f3a"
             ],
             [
              0.8888888888888888,
              "#fdca26"
             ],
             [
              1,
              "#f0f921"
             ]
            ],
            "type": "surface"
           }
          ],
          "table": [
           {
            "cells": {
             "fill": {
              "color": "#EBF0F8"
             },
             "line": {
              "color": "white"
             }
            },
            "header": {
             "fill": {
              "color": "#C8D4E3"
             },
             "line": {
              "color": "white"
             }
            },
            "type": "table"
           }
          ]
         },
         "layout": {
          "annotationdefaults": {
           "arrowcolor": "#2a3f5f",
           "arrowhead": 0,
           "arrowwidth": 1
          },
          "autotypenumbers": "strict",
          "coloraxis": {
           "colorbar": {
            "outlinewidth": 0,
            "ticks": ""
           }
          },
          "colorscale": {
           "diverging": [
            [
             0,
             "#8e0152"
            ],
            [
             0.1,
             "#c51b7d"
            ],
            [
             0.2,
             "#de77ae"
            ],
            [
             0.3,
             "#f1b6da"
            ],
            [
             0.4,
             "#fde0ef"
            ],
            [
             0.5,
             "#f7f7f7"
            ],
            [
             0.6,
             "#e6f5d0"
            ],
            [
             0.7,
             "#b8e186"
            ],
            [
             0.8,
             "#7fbc41"
            ],
            [
             0.9,
             "#4d9221"
            ],
            [
             1,
             "#276419"
            ]
           ],
           "sequential": [
            [
             0,
             "#0d0887"
            ],
            [
             0.1111111111111111,
             "#46039f"
            ],
            [
             0.2222222222222222,
             "#7201a8"
            ],
            [
             0.3333333333333333,
             "#9c179e"
            ],
            [
             0.4444444444444444,
             "#bd3786"
            ],
            [
             0.5555555555555556,
             "#d8576b"
            ],
            [
             0.6666666666666666,
             "#ed7953"
            ],
            [
             0.7777777777777778,
             "#fb9f3a"
            ],
            [
             0.8888888888888888,
             "#fdca26"
            ],
            [
             1,
             "#f0f921"
            ]
           ],
           "sequentialminus": [
            [
             0,
             "#0d0887"
            ],
            [
             0.1111111111111111,
             "#46039f"
            ],
            [
             0.2222222222222222,
             "#7201a8"
            ],
            [
             0.3333333333333333,
             "#9c179e"
            ],
            [
             0.4444444444444444,
             "#bd3786"
            ],
            [
             0.5555555555555556,
             "#d8576b"
            ],
            [
             0.6666666666666666,
             "#ed7953"
            ],
            [
             0.7777777777777778,
             "#fb9f3a"
            ],
            [
             0.8888888888888888,
             "#fdca26"
            ],
            [
             1,
             "#f0f921"
            ]
           ]
          },
          "colorway": [
           "#636efa",
           "#EF553B",
           "#00cc96",
           "#ab63fa",
           "#FFA15A",
           "#19d3f3",
           "#FF6692",
           "#B6E880",
           "#FF97FF",
           "#FECB52"
          ],
          "font": {
           "color": "#2a3f5f"
          },
          "geo": {
           "bgcolor": "white",
           "lakecolor": "white",
           "landcolor": "#E5ECF6",
           "showlakes": true,
           "showland": true,
           "subunitcolor": "white"
          },
          "hoverlabel": {
           "align": "left"
          },
          "hovermode": "closest",
          "mapbox": {
           "style": "light"
          },
          "paper_bgcolor": "white",
          "plot_bgcolor": "#E5ECF6",
          "polar": {
           "angularaxis": {
            "gridcolor": "white",
            "linecolor": "white",
            "ticks": ""
           },
           "bgcolor": "#E5ECF6",
           "radialaxis": {
            "gridcolor": "white",
            "linecolor": "white",
            "ticks": ""
           }
          },
          "scene": {
           "xaxis": {
            "backgroundcolor": "#E5ECF6",
            "gridcolor": "white",
            "gridwidth": 2,
            "linecolor": "white",
            "showbackground": true,
            "ticks": "",
            "zerolinecolor": "white"
           },
           "yaxis": {
            "backgroundcolor": "#E5ECF6",
            "gridcolor": "white",
            "gridwidth": 2,
            "linecolor": "white",
            "showbackground": true,
            "ticks": "",
            "zerolinecolor": "white"
           },
           "zaxis": {
            "backgroundcolor": "#E5ECF6",
            "gridcolor": "white",
            "gridwidth": 2,
            "linecolor": "white",
            "showbackground": true,
            "ticks": "",
            "zerolinecolor": "white"
           }
          },
          "shapedefaults": {
           "line": {
            "color": "#2a3f5f"
           }
          },
          "ternary": {
           "aaxis": {
            "gridcolor": "white",
            "linecolor": "white",
            "ticks": ""
           },
           "baxis": {
            "gridcolor": "white",
            "linecolor": "white",
            "ticks": ""
           },
           "bgcolor": "#E5ECF6",
           "caxis": {
            "gridcolor": "white",
            "linecolor": "white",
            "ticks": ""
           }
          },
          "title": {
           "x": 0.05
          },
          "xaxis": {
           "automargin": true,
           "gridcolor": "white",
           "linecolor": "white",
           "ticks": "",
           "title": {
            "standoff": 15
           },
           "zerolinecolor": "white",
           "zerolinewidth": 2
          },
          "yaxis": {
           "automargin": true,
           "gridcolor": "white",
           "linecolor": "white",
           "ticks": "",
           "title": {
            "standoff": 15
           },
           "zerolinecolor": "white",
           "zerolinewidth": 2
          }
         }
        },
        "title": {
         "text": "Wing Geometry",
         "x": 0.5
        },
        "xaxis": {
         "title": {
          "text": "y"
         }
        },
        "yaxis": {
         "scaleanchor": "x",
         "scaleratio": 1,
         "title": {
          "text": "x"
         }
        }
       }
      }
     },
     "metadata": {},
     "output_type": "display_data"
    }
   ],
   "source": [
    "#GEOMETRIE \n",
    "\n",
    "OP_OUTPUT_FILE = pth.join(WORK_FOLDER_PATH, \"oad_sizing_out.xml\")\n",
    "RES_OUTPUT_FILE = pth.join(WORK_FOLDER_PATH, \"redesign_sizing_out.xml\")\n",
    "\n",
    "\n",
    "\n",
    "fig = oad.wing_geometry_plot(OP_OUTPUT_FILE, name=\"Aircraft operational mission\")\n",
    "fig = oad.wing_geometry_plot(RES_OUTPUT_FILE, name=\"Aircraft redesign mission\", fig=fig)\n",
    "fig.show()"
   ]
  },
  {
   "cell_type": "code",
   "execution_count": 66,
   "id": "bee4c999-86f0-427d-9dc5-b3989b85ec41",
   "metadata": {},
   "outputs": [
    {
     "data": {
      "application/vnd.plotly.v1+json": {
       "config": {
        "plotlyServerURL": "https://plot.ly"
       },
       "data": [
        {
         "mode": "lines+markers",
         "name": "Aircraft operational mission",
         "type": "scatter",
         "uid": "dcfb8ce4-48bf-4282-a884-c52866feb4d7",
         "x": [
          0,
          -1.2582200000000001,
          -2.5164400000000002,
          -2.5164400000000002,
          -1.2582200000000001,
          0,
          0,
          -2.5164400000000002,
          -9.19689630089274,
          -24.525056802380643,
          -24.525056802380643,
          -9.19689630089274,
          -2.5164400000000002,
          0,
          0,
          0,
          -10.532709381685708,
          -10.532709381685708,
          0,
          0,
          0,
          1.2582200000000001,
          2.5164400000000002,
          2.5164400000000002,
          1.2582200000000001,
          0,
          0,
          2.5164400000000002,
          9.19689630089274,
          24.525056802380643,
          24.525056802380643,
          9.19689630089274,
          2.5164400000000002,
          0,
          0,
          0,
          10.532709381685708,
          10.532709381685708,
          0,
          0
         ],
         "y": [
          0,
          0,
          8.793896,
          36.099896,
          54.722264,
          54.722264,
          18.871395422620754,
          18.871395422620754,
          23.066317910729712,
          32.69147557854385,
          35.20817177314009,
          29.394620970843118,
          29.394620970843118,
          29.394620970843118,
          18.871395422620754,
          46.62549673197035,
          54.78146003833233,
          56.355856059511055,
          54.497476837864,
          46.62549673197035,
          0,
          0,
          8.793896,
          36.099896,
          54.722264,
          54.722264,
          18.871395422620754,
          18.871395422620754,
          23.066317910729712,
          32.69147557854385,
          35.20817177314009,
          29.394620970843118,
          29.394620970843118,
          29.394620970843118,
          18.871395422620754,
          46.62549673197035,
          54.78146003833233,
          56.355856059511055,
          54.497476837864,
          46.62549673197035
         ]
        },
        {
         "mode": "lines+markers",
         "name": "Aircraft redesign mission",
         "type": "scatter",
         "uid": "280fee51-b8ff-49d2-b874-06862b2c4141",
         "x": [
          0,
          -1.2582200000000001,
          -2.5164400000000002,
          -2.5164400000000002,
          -1.2582200000000001,
          0,
          0,
          -2.5164400000000002,
          -8.538169936604454,
          -22.768453164278547,
          -22.768453164278547,
          -8.538169936604454,
          -2.5164400000000002,
          0,
          0,
          0,
          -8.290465393060849,
          -8.290465393060849,
          0,
          0,
          0,
          1.2582200000000001,
          2.5164400000000002,
          2.5164400000000002,
          1.2582200000000001,
          0,
          0,
          2.5164400000000002,
          8.538169936604454,
          22.768453164278547,
          22.768453164278547,
          8.538169936604454,
          2.5164400000000002,
          0,
          0,
          0,
          8.290465393060849,
          8.290465393060849,
          0,
          0
         ],
         "y": [
          0,
          0,
          8.793896,
          36.099896,
          54.722264,
          54.722264,
          19.406027727290244,
          19.406027727290244,
          23.189837151506065,
          32.131566580258166,
          34.4630284596883,
          29.08378924146462,
          29.08378924146462,
          29.08378924146462,
          19.406027727290244,
          47.30071403850549,
          53.720404270919964,
          54.9596367661458,
          53.49687651463467,
          47.30071403850549,
          0,
          0,
          8.793896,
          36.099896,
          54.722264,
          54.722264,
          19.406027727290244,
          19.406027727290244,
          23.189837151506065,
          32.131566580258166,
          34.4630284596883,
          29.08378924146462,
          29.08378924146462,
          29.08378924146462,
          19.406027727290244,
          47.30071403850549,
          53.720404270919964,
          54.9596367661458,
          53.49687651463467,
          47.30071403850549
         ]
        }
       ],
       "layout": {
        "template": {
         "data": {
          "bar": [
           {
            "error_x": {
             "color": "#2a3f5f"
            },
            "error_y": {
             "color": "#2a3f5f"
            },
            "marker": {
             "line": {
              "color": "#E5ECF6",
              "width": 0.5
             },
             "pattern": {
              "fillmode": "overlay",
              "size": 10,
              "solidity": 0.2
             }
            },
            "type": "bar"
           }
          ],
          "barpolar": [
           {
            "marker": {
             "line": {
              "color": "#E5ECF6",
              "width": 0.5
             },
             "pattern": {
              "fillmode": "overlay",
              "size": 10,
              "solidity": 0.2
             }
            },
            "type": "barpolar"
           }
          ],
          "carpet": [
           {
            "aaxis": {
             "endlinecolor": "#2a3f5f",
             "gridcolor": "white",
             "linecolor": "white",
             "minorgridcolor": "white",
             "startlinecolor": "#2a3f5f"
            },
            "baxis": {
             "endlinecolor": "#2a3f5f",
             "gridcolor": "white",
             "linecolor": "white",
             "minorgridcolor": "white",
             "startlinecolor": "#2a3f5f"
            },
            "type": "carpet"
           }
          ],
          "choropleth": [
           {
            "colorbar": {
             "outlinewidth": 0,
             "ticks": ""
            },
            "type": "choropleth"
           }
          ],
          "contour": [
           {
            "colorbar": {
             "outlinewidth": 0,
             "ticks": ""
            },
            "colorscale": [
             [
              0,
              "#0d0887"
             ],
             [
              0.1111111111111111,
              "#46039f"
             ],
             [
              0.2222222222222222,
              "#7201a8"
             ],
             [
              0.3333333333333333,
              "#9c179e"
             ],
             [
              0.4444444444444444,
              "#bd3786"
             ],
             [
              0.5555555555555556,
              "#d8576b"
             ],
             [
              0.6666666666666666,
              "#ed7953"
             ],
             [
              0.7777777777777778,
              "#fb9f3a"
             ],
             [
              0.8888888888888888,
              "#fdca26"
             ],
             [
              1,
              "#f0f921"
             ]
            ],
            "type": "contour"
           }
          ],
          "contourcarpet": [
           {
            "colorbar": {
             "outlinewidth": 0,
             "ticks": ""
            },
            "type": "contourcarpet"
           }
          ],
          "heatmap": [
           {
            "colorbar": {
             "outlinewidth": 0,
             "ticks": ""
            },
            "colorscale": [
             [
              0,
              "#0d0887"
             ],
             [
              0.1111111111111111,
              "#46039f"
             ],
             [
              0.2222222222222222,
              "#7201a8"
             ],
             [
              0.3333333333333333,
              "#9c179e"
             ],
             [
              0.4444444444444444,
              "#bd3786"
             ],
             [
              0.5555555555555556,
              "#d8576b"
             ],
             [
              0.6666666666666666,
              "#ed7953"
             ],
             [
              0.7777777777777778,
              "#fb9f3a"
             ],
             [
              0.8888888888888888,
              "#fdca26"
             ],
             [
              1,
              "#f0f921"
             ]
            ],
            "type": "heatmap"
           }
          ],
          "heatmapgl": [
           {
            "colorbar": {
             "outlinewidth": 0,
             "ticks": ""
            },
            "colorscale": [
             [
              0,
              "#0d0887"
             ],
             [
              0.1111111111111111,
              "#46039f"
             ],
             [
              0.2222222222222222,
              "#7201a8"
             ],
             [
              0.3333333333333333,
              "#9c179e"
             ],
             [
              0.4444444444444444,
              "#bd3786"
             ],
             [
              0.5555555555555556,
              "#d8576b"
             ],
             [
              0.6666666666666666,
              "#ed7953"
             ],
             [
              0.7777777777777778,
              "#fb9f3a"
             ],
             [
              0.8888888888888888,
              "#fdca26"
             ],
             [
              1,
              "#f0f921"
             ]
            ],
            "type": "heatmapgl"
           }
          ],
          "histogram": [
           {
            "marker": {
             "pattern": {
              "fillmode": "overlay",
              "size": 10,
              "solidity": 0.2
             }
            },
            "type": "histogram"
           }
          ],
          "histogram2d": [
           {
            "colorbar": {
             "outlinewidth": 0,
             "ticks": ""
            },
            "colorscale": [
             [
              0,
              "#0d0887"
             ],
             [
              0.1111111111111111,
              "#46039f"
             ],
             [
              0.2222222222222222,
              "#7201a8"
             ],
             [
              0.3333333333333333,
              "#9c179e"
             ],
             [
              0.4444444444444444,
              "#bd3786"
             ],
             [
              0.5555555555555556,
              "#d8576b"
             ],
             [
              0.6666666666666666,
              "#ed7953"
             ],
             [
              0.7777777777777778,
              "#fb9f3a"
             ],
             [
              0.8888888888888888,
              "#fdca26"
             ],
             [
              1,
              "#f0f921"
             ]
            ],
            "type": "histogram2d"
           }
          ],
          "histogram2dcontour": [
           {
            "colorbar": {
             "outlinewidth": 0,
             "ticks": ""
            },
            "colorscale": [
             [
              0,
              "#0d0887"
             ],
             [
              0.1111111111111111,
              "#46039f"
             ],
             [
              0.2222222222222222,
              "#7201a8"
             ],
             [
              0.3333333333333333,
              "#9c179e"
             ],
             [
              0.4444444444444444,
              "#bd3786"
             ],
             [
              0.5555555555555556,
              "#d8576b"
             ],
             [
              0.6666666666666666,
              "#ed7953"
             ],
             [
              0.7777777777777778,
              "#fb9f3a"
             ],
             [
              0.8888888888888888,
              "#fdca26"
             ],
             [
              1,
              "#f0f921"
             ]
            ],
            "type": "histogram2dcontour"
           }
          ],
          "mesh3d": [
           {
            "colorbar": {
             "outlinewidth": 0,
             "ticks": ""
            },
            "type": "mesh3d"
           }
          ],
          "parcoords": [
           {
            "line": {
             "colorbar": {
              "outlinewidth": 0,
              "ticks": ""
             }
            },
            "type": "parcoords"
           }
          ],
          "pie": [
           {
            "automargin": true,
            "type": "pie"
           }
          ],
          "scatter": [
           {
            "marker": {
             "colorbar": {
              "outlinewidth": 0,
              "ticks": ""
             }
            },
            "type": "scatter"
           }
          ],
          "scatter3d": [
           {
            "line": {
             "colorbar": {
              "outlinewidth": 0,
              "ticks": ""
             }
            },
            "marker": {
             "colorbar": {
              "outlinewidth": 0,
              "ticks": ""
             }
            },
            "type": "scatter3d"
           }
          ],
          "scattercarpet": [
           {
            "marker": {
             "colorbar": {
              "outlinewidth": 0,
              "ticks": ""
             }
            },
            "type": "scattercarpet"
           }
          ],
          "scattergeo": [
           {
            "marker": {
             "colorbar": {
              "outlinewidth": 0,
              "ticks": ""
             }
            },
            "type": "scattergeo"
           }
          ],
          "scattergl": [
           {
            "marker": {
             "colorbar": {
              "outlinewidth": 0,
              "ticks": ""
             }
            },
            "type": "scattergl"
           }
          ],
          "scattermapbox": [
           {
            "marker": {
             "colorbar": {
              "outlinewidth": 0,
              "ticks": ""
             }
            },
            "type": "scattermapbox"
           }
          ],
          "scatterpolar": [
           {
            "marker": {
             "colorbar": {
              "outlinewidth": 0,
              "ticks": ""
             }
            },
            "type": "scatterpolar"
           }
          ],
          "scatterpolargl": [
           {
            "marker": {
             "colorbar": {
              "outlinewidth": 0,
              "ticks": ""
             }
            },
            "type": "scatterpolargl"
           }
          ],
          "scatterternary": [
           {
            "marker": {
             "colorbar": {
              "outlinewidth": 0,
              "ticks": ""
             }
            },
            "type": "scatterternary"
           }
          ],
          "surface": [
           {
            "colorbar": {
             "outlinewidth": 0,
             "ticks": ""
            },
            "colorscale": [
             [
              0,
              "#0d0887"
             ],
             [
              0.1111111111111111,
              "#46039f"
             ],
             [
              0.2222222222222222,
              "#7201a8"
             ],
             [
              0.3333333333333333,
              "#9c179e"
             ],
             [
              0.4444444444444444,
              "#bd3786"
             ],
             [
              0.5555555555555556,
              "#d8576b"
             ],
             [
              0.6666666666666666,
              "#ed7953"
             ],
             [
              0.7777777777777778,
              "#fb9f3a"
             ],
             [
              0.8888888888888888,
              "#fdca26"
             ],
             [
              1,
              "#f0f921"
             ]
            ],
            "type": "surface"
           }
          ],
          "table": [
           {
            "cells": {
             "fill": {
              "color": "#EBF0F8"
             },
             "line": {
              "color": "white"
             }
            },
            "header": {
             "fill": {
              "color": "#C8D4E3"
             },
             "line": {
              "color": "white"
             }
            },
            "type": "table"
           }
          ]
         },
         "layout": {
          "annotationdefaults": {
           "arrowcolor": "#2a3f5f",
           "arrowhead": 0,
           "arrowwidth": 1
          },
          "autotypenumbers": "strict",
          "coloraxis": {
           "colorbar": {
            "outlinewidth": 0,
            "ticks": ""
           }
          },
          "colorscale": {
           "diverging": [
            [
             0,
             "#8e0152"
            ],
            [
             0.1,
             "#c51b7d"
            ],
            [
             0.2,
             "#de77ae"
            ],
            [
             0.3,
             "#f1b6da"
            ],
            [
             0.4,
             "#fde0ef"
            ],
            [
             0.5,
             "#f7f7f7"
            ],
            [
             0.6,
             "#e6f5d0"
            ],
            [
             0.7,
             "#b8e186"
            ],
            [
             0.8,
             "#7fbc41"
            ],
            [
             0.9,
             "#4d9221"
            ],
            [
             1,
             "#276419"
            ]
           ],
           "sequential": [
            [
             0,
             "#0d0887"
            ],
            [
             0.1111111111111111,
             "#46039f"
            ],
            [
             0.2222222222222222,
             "#7201a8"
            ],
            [
             0.3333333333333333,
             "#9c179e"
            ],
            [
             0.4444444444444444,
             "#bd3786"
            ],
            [
             0.5555555555555556,
             "#d8576b"
            ],
            [
             0.6666666666666666,
             "#ed7953"
            ],
            [
             0.7777777777777778,
             "#fb9f3a"
            ],
            [
             0.8888888888888888,
             "#fdca26"
            ],
            [
             1,
             "#f0f921"
            ]
           ],
           "sequentialminus": [
            [
             0,
             "#0d0887"
            ],
            [
             0.1111111111111111,
             "#46039f"
            ],
            [
             0.2222222222222222,
             "#7201a8"
            ],
            [
             0.3333333333333333,
             "#9c179e"
            ],
            [
             0.4444444444444444,
             "#bd3786"
            ],
            [
             0.5555555555555556,
             "#d8576b"
            ],
            [
             0.6666666666666666,
             "#ed7953"
            ],
            [
             0.7777777777777778,
             "#fb9f3a"
            ],
            [
             0.8888888888888888,
             "#fdca26"
            ],
            [
             1,
             "#f0f921"
            ]
           ]
          },
          "colorway": [
           "#636efa",
           "#EF553B",
           "#00cc96",
           "#ab63fa",
           "#FFA15A",
           "#19d3f3",
           "#FF6692",
           "#B6E880",
           "#FF97FF",
           "#FECB52"
          ],
          "font": {
           "color": "#2a3f5f"
          },
          "geo": {
           "bgcolor": "white",
           "lakecolor": "white",
           "landcolor": "#E5ECF6",
           "showlakes": true,
           "showland": true,
           "subunitcolor": "white"
          },
          "hoverlabel": {
           "align": "left"
          },
          "hovermode": "closest",
          "mapbox": {
           "style": "light"
          },
          "paper_bgcolor": "white",
          "plot_bgcolor": "#E5ECF6",
          "polar": {
           "angularaxis": {
            "gridcolor": "white",
            "linecolor": "white",
            "ticks": ""
           },
           "bgcolor": "#E5ECF6",
           "radialaxis": {
            "gridcolor": "white",
            "linecolor": "white",
            "ticks": ""
           }
          },
          "scene": {
           "xaxis": {
            "backgroundcolor": "#E5ECF6",
            "gridcolor": "white",
            "gridwidth": 2,
            "linecolor": "white",
            "showbackground": true,
            "ticks": "",
            "zerolinecolor": "white"
           },
           "yaxis": {
            "backgroundcolor": "#E5ECF6",
            "gridcolor": "white",
            "gridwidth": 2,
            "linecolor": "white",
            "showbackground": true,
            "ticks": "",
            "zerolinecolor": "white"
           },
           "zaxis": {
            "backgroundcolor": "#E5ECF6",
            "gridcolor": "white",
            "gridwidth": 2,
            "linecolor": "white",
            "showbackground": true,
            "ticks": "",
            "zerolinecolor": "white"
           }
          },
          "shapedefaults": {
           "line": {
            "color": "#2a3f5f"
           }
          },
          "ternary": {
           "aaxis": {
            "gridcolor": "white",
            "linecolor": "white",
            "ticks": ""
           },
           "baxis": {
            "gridcolor": "white",
            "linecolor": "white",
            "ticks": ""
           },
           "bgcolor": "#E5ECF6",
           "caxis": {
            "gridcolor": "white",
            "linecolor": "white",
            "ticks": ""
           }
          },
          "title": {
           "x": 0.05
          },
          "xaxis": {
           "automargin": true,
           "gridcolor": "white",
           "linecolor": "white",
           "ticks": "",
           "title": {
            "standoff": 15
           },
           "zerolinecolor": "white",
           "zerolinewidth": 2
          },
          "yaxis": {
           "automargin": true,
           "gridcolor": "white",
           "linecolor": "white",
           "ticks": "",
           "title": {
            "standoff": 15
           },
           "zerolinecolor": "white",
           "zerolinewidth": 2
          }
         }
        },
        "title": {
         "text": "Aircraft Geometry",
         "x": 0.5
        },
        "xaxis": {
         "title": {
          "text": "y"
         }
        },
        "yaxis": {
         "scaleanchor": "x",
         "scaleratio": 1,
         "title": {
          "text": "x"
         }
        }
       }
      }
     },
     "metadata": {},
     "output_type": "display_data"
    }
   ],
   "source": [
    "fig = oad.aircraft_geometry_plot(OP_OUTPUT_FILE, name=\"Aircraft operational mission\")\n",
    "fig = oad.aircraft_geometry_plot(RES_OUTPUT_FILE, name=\"Aircraft redesign mission\", fig=fig)\n",
    "fig.show()\n"
   ]
  },
  {
   "cell_type": "code",
   "execution_count": 106,
   "id": "38dd89dd-ba73-455a-86aa-a5a72b8c2889",
   "metadata": {},
   "outputs": [
    {
     "data": {
      "application/vnd.plotly.v1+json": {
       "config": {
        "plotlyServerURL": "https://plot.ly"
       },
       "data": [
        {
         "mode": "lines+markers",
         "name": "Aircraft operational mission",
         "type": "scatter",
         "uid": "c3a5594a-d55a-42e9-8773-556637538d98",
         "x": [
          0.016076967017204218,
          0.016085323022825955,
          0.016102191565536533,
          0.016127674672437843,
          0.016161874370631758,
          0.016204892687220168,
          0.01625683164930496,
          0.01631779328398801,
          0.016387879618371202,
          0.01646719267955642,
          0.016555834494645556,
          0.016653907090740473,
          0.016761512494943075,
          0.016878752734355237,
          0.017005729836078835,
          0.017142545827215763,
          0.017289302734867902,
          0.017446102586137137,
          0.017613047408125346,
          0.017790239227934414,
          0.017977780072666226,
          0.01817577196942266,
          0.018384316945305602,
          0.01860351702741694,
          0.018833474242858552,
          0.019074290618732326,
          0.019326068182140138,
          0.019588908960183882,
          0.019862914979965427,
          0.02014818826858667,
          0.02044483085314948,
          0.02075294476075576,
          0.021072632018507374,
          0.02140399465350621,
          0.021747134692854157,
          0.022102154163653097,
          0.022469638898855747,
          0.02285018101678916,
          0.023243901536968967,
          0.023650934598965834,
          0.024071428164738347,
          0.0245055450318189,
          0.024953464188681683,
          0.02541538255466306,
          0.025891517159549772,
          0.026382107832943452,
          0.026887420491402227,
          0.027407751132954336,
          0.027943430674863618,
          0.0284948308027394,
          0.02906237103877444,
          0.029646527286020408,
          0.030247842166648865,
          0.03086693754824459,
          0.03150452974735078,
          0.03216144801886215,
          0.032838657090018604,
          0.03353728468714251,
          0.034258655242778636,
          0.035004331274612756,
          0.035776164313695014,
          0.03657635775175362,
          0.03740754460658753,
          0.03827288401092356,
          0.039176181266400566,
          0.04012203763965054,
          0.041116037802771385,
          0.0421649850558907,
          0.043277197373837624,
          0.044462881102888964,
          0.045734604077436056,
          0.04710789640413626,
          0.0486020156728092,
          0.05024092456990085,
          0.052054543694217525,
          0.054080362023229855,
          0.05636551359851012,
          0.05896946382529336,
          0.06196749535414944,
          0.06545524598141235,
          0.06955463504796083,
          0.07442162822822718,
          0.08025644411489563,
          0.08731701443934128,
          0.09593679364937976,
          0.10654840140966815,
          0.11971511313119948,
          0.13617294441357214,
          0.15688708316416672,
          0.18312781765187774,
          0.21657304434999144,
          0.2594471347514512,
          0.31470970576614726,
          0.38631311582449773,
          0.4795549298490251,
          0.568777583986753,
          0.5700501820257238,
          0.571340985176462,
          0.57265009546607,
          0.5739776149216496,
          0.5753236455703026,
          0.5766882894391308,
          0.5780716485552362,
          0.5794738249457206,
          0.580894920637686,
          0.5823350376582342,
          0.5837942780344672,
          0.5852727437934865,
          0.5867705369623946,
          0.5882877595682928,
          0.5898245136382834,
          0.5913809011994681,
          0.5929570242789487,
          0.5945529849038274,
          0.5961688851012055,
          0.5978048268981856,
          0.5994609123218689,
          0.6011372433993579,
          0.6028339221577541,
          0.6045510506241596,
          0.606288730825676,
          0.6080470647894054,
          0.6098261545424497,
          0.6116261021119106,
          0.6134470095248902,
          0.6152889788084903,
          0.6171521119898126,
          0.6190365110959594,
          0.6209422781540321,
          0.622869515191133,
          0.6248183242343637,
          0.6267888073108262,
          0.6287810664476223,
          0.630795203671854,
          0.6328313210106233,
          0.6348895204910316,
          0.6369699041401814,
          0.6390725739851741,
          0.6411976320531119,
          0.6433451803710964,
          0.6455153209662297,
          0.6477081558656136,
          0.6499237870963499,
          0.6521623166855408,
          0.6544238466602877,
          0.656708479047693,
          0.6590163158748582,
          0.6613474591688854,
          0.6637020109568763,
          0.6660800732659329
         ],
         "y": [
          0,
          0.01,
          0.02,
          0.03,
          0.04,
          0.05,
          0.06,
          0.07,
          0.08,
          0.09,
          0.1,
          0.11,
          0.12,
          0.13,
          0.14,
          0.15,
          0.16,
          0.17,
          0.18,
          0.19,
          0.2,
          0.21,
          0.22,
          0.23,
          0.24,
          0.25,
          0.26,
          0.27,
          0.28,
          0.29,
          0.3,
          0.31,
          0.32,
          0.33,
          0.34,
          0.35000000000000003,
          0.36,
          0.37,
          0.38,
          0.39,
          0.4,
          0.41000000000000003,
          0.42,
          0.43,
          0.44,
          0.45,
          0.46,
          0.47000000000000003,
          0.48,
          0.49,
          0.5,
          0.51,
          0.52,
          0.53,
          0.54,
          0.55,
          0.56,
          0.5700000000000001,
          0.58,
          0.59,
          0.6,
          0.61,
          0.62,
          0.63,
          0.64,
          0.65,
          0.66,
          0.67,
          0.68,
          0.6900000000000001,
          0.7000000000000001,
          0.71,
          0.72,
          0.73,
          0.74,
          0.75,
          0.76,
          0.77,
          0.78,
          0.79,
          0.8,
          0.81,
          0.8200000000000001,
          0.8300000000000001,
          0.84,
          0.85,
          0.86,
          0.87,
          0.88,
          0.89,
          0.9,
          0.91,
          0.92,
          0.93,
          0.9400000000000001,
          0.9500000000000001,
          0.96,
          0.97,
          0.98,
          0.99,
          1,
          1.01,
          1.02,
          1.03,
          1.04,
          1.05,
          1.06,
          1.07,
          1.08,
          1.09,
          1.1,
          1.11,
          1.12,
          1.1300000000000001,
          1.1400000000000001,
          1.1500000000000001,
          1.16,
          1.17,
          1.18,
          1.19,
          1.2,
          1.21,
          1.22,
          1.23,
          1.24,
          1.25,
          1.26,
          1.27,
          1.28,
          1.29,
          1.3,
          1.31,
          1.32,
          1.33,
          1.34,
          1.35,
          1.36,
          1.37,
          1.3800000000000001,
          1.3900000000000001,
          1.4000000000000001,
          1.41,
          1.42,
          1.43,
          1.44,
          1.45,
          1.46,
          1.47,
          1.48,
          1.49
         ]
        },
        {
         "mode": "lines+markers",
         "name": "Aircraft redesign mission",
         "type": "scatter",
         "uid": "df9d62b6-13a0-4cff-9602-bd74a9e85026",
         "x": [
          0.0166940196668433,
          0.016699971195555764,
          0.0167144864382412,
          0.01673766748173876,
          0.016769616412887562,
          0.016810435318526766,
          0.01686022628549549,
          0.016919091400632896,
          0.016987132750778105,
          0.017064452422770257,
          0.0171511525034485,
          0.017247335079651958,
          0.01735310223821979,
          0.017468556065991122,
          0.017593798649805086,
          0.017728932076500833,
          0.017874058432917492,
          0.018029279805894215,
          0.01819469828227013,
          0.01837041594888438,
          0.018556534892576103,
          0.018753157200184428,
          0.01896038495854851,
          0.019178320254507476,
          0.01940706517490047,
          0.019646721806566635,
          0.0198973922363451,
          0.02015917855107501,
          0.0204321828375955,
          0.020716507182745703,
          0.02101225367336477,
          0.02131952439629184,
          0.021638421438366043,
          0.021969046886426518,
          0.02231150282731241,
          0.02266589134786285,
          0.02303279834076782,
          0.02341281598409163,
          0.023806065357087153,
          0.024212680659062322,
          0.024632809911712978,
          0.02506661597230876,
          0.025514277889061125,
          0.025975992641043687,
          0.026451977317780446,
          0.026942471808610285,
          0.02744774208982859,
          0.02796808421920086,
          0.02850382917372818,
          0.029055348698757144,
          0.02962306237621775,
          0.030207446168898935,
          0.03080904275870951,
          0.031428474072971516,
          0.03206645648796541,
          0.03272381931832313,
          0.03340152735102187,
          0.03410070837212126,
          0.034822686873903275,
          0.03556902543379099,
          0.03634157564257179,
          0.03714254095171114,
          0.037974554438745256,
          0.038840775296138205,
          0.039745008885266095,
          0.04069185653249818,
          0.041686902969669606,
          0.04273695155664524,
          0.043850320327991466,
          0.045037215689722375,
          0.046310205535966514,
          0.04768482003311854,
          0.049180316830735316,
          0.05082065867500005,
          0.05263576622445634,
          0.054663128516312054,
          0.05694987965187677,
          0.05955548509612271,
          0.06255522755935705,
          0.06604474489765103,
          0.07014595651162064,
          0.07501482813543542,
          0.08085157842151686,
          0.08791413916097732,
          0.0965359648613697,
          0.10714967524708828,
          0.12031854578886343,
          0.13677859214603078,
          0.15749500228570812,
          0.1837380645365272,
          0.21718567543151165,
          0.260062206523342,
          0.31532727478164574,
          0.3869332386965783,
          0.4801776632503994,
          0.5694029846498699,
          0.5706783067427694,
          0.5719718907993597,
          0.5732838389064807,
          0.5746142531509709,
          0.5759632356196697,
          0.5773308883994162,
          0.5787173135770495,
          0.580122613239409,
          0.5815468894733333,
          0.582990244365662,
          0.5844527800032342,
          0.5859345984728888,
          0.5874358018614652,
          0.5889564922558023,
          0.5904967717427394,
          0.5920567424091155,
          0.59363650634177,
          0.5952361656275418,
          0.59685582235327,
          0.598495578605794,
          0.6001555364719526,
          0.6018357980385854,
          0.603536465392531,
          0.6052576406206289,
          0.6069994258097182,
          0.6087619230466379,
          0.6105452344182274,
          0.6123494620113253,
          0.6141747079127714,
          0.6160210742094043,
          0.6178886629880636,
          0.6197775763355882,
          0.621687916338817,
          0.6236197850845897,
          0.6255732846597448,
          0.6275485171511221,
          0.6295455846455602,
          0.6315645892298984,
          0.633605632990976,
          0.6356688180156321,
          0.6377542463907057,
          0.6398620202030358,
          0.641992241539462,
          0.644145012486823,
          0.6463204351319581,
          0.6485186115617065,
          0.6507396438629074,
          0.6529836341223998,
          0.6552506844270227,
          0.6575408968636156,
          0.6598543735190172,
          0.6621912164800672,
          0.6645515278336042,
          0.6669354096664677
         ],
         "y": [
          0,
          0.01,
          0.02,
          0.03,
          0.04,
          0.05,
          0.06,
          0.07,
          0.08,
          0.09,
          0.1,
          0.11,
          0.12,
          0.13,
          0.14,
          0.15,
          0.16,
          0.17,
          0.18,
          0.19,
          0.2,
          0.21,
          0.22,
          0.23,
          0.24,
          0.25,
          0.26,
          0.27,
          0.28,
          0.29,
          0.3,
          0.31,
          0.32,
          0.33,
          0.34,
          0.35000000000000003,
          0.36,
          0.37,
          0.38,
          0.39,
          0.4,
          0.41000000000000003,
          0.42,
          0.43,
          0.44,
          0.45,
          0.46,
          0.47000000000000003,
          0.48,
          0.49,
          0.5,
          0.51,
          0.52,
          0.53,
          0.54,
          0.55,
          0.56,
          0.5700000000000001,
          0.58,
          0.59,
          0.6,
          0.61,
          0.62,
          0.63,
          0.64,
          0.65,
          0.66,
          0.67,
          0.68,
          0.6900000000000001,
          0.7000000000000001,
          0.71,
          0.72,
          0.73,
          0.74,
          0.75,
          0.76,
          0.77,
          0.78,
          0.79,
          0.8,
          0.81,
          0.8200000000000001,
          0.8300000000000001,
          0.84,
          0.85,
          0.86,
          0.87,
          0.88,
          0.89,
          0.9,
          0.91,
          0.92,
          0.93,
          0.9400000000000001,
          0.9500000000000001,
          0.96,
          0.97,
          0.98,
          0.99,
          1,
          1.01,
          1.02,
          1.03,
          1.04,
          1.05,
          1.06,
          1.07,
          1.08,
          1.09,
          1.1,
          1.11,
          1.12,
          1.1300000000000001,
          1.1400000000000001,
          1.1500000000000001,
          1.16,
          1.17,
          1.18,
          1.19,
          1.2,
          1.21,
          1.22,
          1.23,
          1.24,
          1.25,
          1.26,
          1.27,
          1.28,
          1.29,
          1.3,
          1.31,
          1.32,
          1.33,
          1.34,
          1.35,
          1.36,
          1.37,
          1.3800000000000001,
          1.3900000000000001,
          1.4000000000000001,
          1.41,
          1.42,
          1.43,
          1.44,
          1.45,
          1.46,
          1.47,
          1.48,
          1.49
         ]
        }
       ],
       "layout": {
        "autosize": true,
        "template": {
         "data": {
          "bar": [
           {
            "error_x": {
             "color": "#2a3f5f"
            },
            "error_y": {
             "color": "#2a3f5f"
            },
            "marker": {
             "line": {
              "color": "#E5ECF6",
              "width": 0.5
             },
             "pattern": {
              "fillmode": "overlay",
              "size": 10,
              "solidity": 0.2
             }
            },
            "type": "bar"
           }
          ],
          "barpolar": [
           {
            "marker": {
             "line": {
              "color": "#E5ECF6",
              "width": 0.5
             },
             "pattern": {
              "fillmode": "overlay",
              "size": 10,
              "solidity": 0.2
             }
            },
            "type": "barpolar"
           }
          ],
          "carpet": [
           {
            "aaxis": {
             "endlinecolor": "#2a3f5f",
             "gridcolor": "white",
             "linecolor": "white",
             "minorgridcolor": "white",
             "startlinecolor": "#2a3f5f"
            },
            "baxis": {
             "endlinecolor": "#2a3f5f",
             "gridcolor": "white",
             "linecolor": "white",
             "minorgridcolor": "white",
             "startlinecolor": "#2a3f5f"
            },
            "type": "carpet"
           }
          ],
          "choropleth": [
           {
            "colorbar": {
             "outlinewidth": 0,
             "ticks": ""
            },
            "type": "choropleth"
           }
          ],
          "contour": [
           {
            "colorbar": {
             "outlinewidth": 0,
             "ticks": ""
            },
            "colorscale": [
             [
              0,
              "#0d0887"
             ],
             [
              0.1111111111111111,
              "#46039f"
             ],
             [
              0.2222222222222222,
              "#7201a8"
             ],
             [
              0.3333333333333333,
              "#9c179e"
             ],
             [
              0.4444444444444444,
              "#bd3786"
             ],
             [
              0.5555555555555556,
              "#d8576b"
             ],
             [
              0.6666666666666666,
              "#ed7953"
             ],
             [
              0.7777777777777778,
              "#fb9f3a"
             ],
             [
              0.8888888888888888,
              "#fdca26"
             ],
             [
              1,
              "#f0f921"
             ]
            ],
            "type": "contour"
           }
          ],
          "contourcarpet": [
           {
            "colorbar": {
             "outlinewidth": 0,
             "ticks": ""
            },
            "type": "contourcarpet"
           }
          ],
          "heatmap": [
           {
            "colorbar": {
             "outlinewidth": 0,
             "ticks": ""
            },
            "colorscale": [
             [
              0,
              "#0d0887"
             ],
             [
              0.1111111111111111,
              "#46039f"
             ],
             [
              0.2222222222222222,
              "#7201a8"
             ],
             [
              0.3333333333333333,
              "#9c179e"
             ],
             [
              0.4444444444444444,
              "#bd3786"
             ],
             [
              0.5555555555555556,
              "#d8576b"
             ],
             [
              0.6666666666666666,
              "#ed7953"
             ],
             [
              0.7777777777777778,
              "#fb9f3a"
             ],
             [
              0.8888888888888888,
              "#fdca26"
             ],
             [
              1,
              "#f0f921"
             ]
            ],
            "type": "heatmap"
           }
          ],
          "heatmapgl": [
           {
            "colorbar": {
             "outlinewidth": 0,
             "ticks": ""
            },
            "colorscale": [
             [
              0,
              "#0d0887"
             ],
             [
              0.1111111111111111,
              "#46039f"
             ],
             [
              0.2222222222222222,
              "#7201a8"
             ],
             [
              0.3333333333333333,
              "#9c179e"
             ],
             [
              0.4444444444444444,
              "#bd3786"
             ],
             [
              0.5555555555555556,
              "#d8576b"
             ],
             [
              0.6666666666666666,
              "#ed7953"
             ],
             [
              0.7777777777777778,
              "#fb9f3a"
             ],
             [
              0.8888888888888888,
              "#fdca26"
             ],
             [
              1,
              "#f0f921"
             ]
            ],
            "type": "heatmapgl"
           }
          ],
          "histogram": [
           {
            "marker": {
             "pattern": {
              "fillmode": "overlay",
              "size": 10,
              "solidity": 0.2
             }
            },
            "type": "histogram"
           }
          ],
          "histogram2d": [
           {
            "colorbar": {
             "outlinewidth": 0,
             "ticks": ""
            },
            "colorscale": [
             [
              0,
              "#0d0887"
             ],
             [
              0.1111111111111111,
              "#46039f"
             ],
             [
              0.2222222222222222,
              "#7201a8"
             ],
             [
              0.3333333333333333,
              "#9c179e"
             ],
             [
              0.4444444444444444,
              "#bd3786"
             ],
             [
              0.5555555555555556,
              "#d8576b"
             ],
             [
              0.6666666666666666,
              "#ed7953"
             ],
             [
              0.7777777777777778,
              "#fb9f3a"
             ],
             [
              0.8888888888888888,
              "#fdca26"
             ],
             [
              1,
              "#f0f921"
             ]
            ],
            "type": "histogram2d"
           }
          ],
          "histogram2dcontour": [
           {
            "colorbar": {
             "outlinewidth": 0,
             "ticks": ""
            },
            "colorscale": [
             [
              0,
              "#0d0887"
             ],
             [
              0.1111111111111111,
              "#46039f"
             ],
             [
              0.2222222222222222,
              "#7201a8"
             ],
             [
              0.3333333333333333,
              "#9c179e"
             ],
             [
              0.4444444444444444,
              "#bd3786"
             ],
             [
              0.5555555555555556,
              "#d8576b"
             ],
             [
              0.6666666666666666,
              "#ed7953"
             ],
             [
              0.7777777777777778,
              "#fb9f3a"
             ],
             [
              0.8888888888888888,
              "#fdca26"
             ],
             [
              1,
              "#f0f921"
             ]
            ],
            "type": "histogram2dcontour"
           }
          ],
          "mesh3d": [
           {
            "colorbar": {
             "outlinewidth": 0,
             "ticks": ""
            },
            "type": "mesh3d"
           }
          ],
          "parcoords": [
           {
            "line": {
             "colorbar": {
              "outlinewidth": 0,
              "ticks": ""
             }
            },
            "type": "parcoords"
           }
          ],
          "pie": [
           {
            "automargin": true,
            "type": "pie"
           }
          ],
          "scatter": [
           {
            "marker": {
             "colorbar": {
              "outlinewidth": 0,
              "ticks": ""
             }
            },
            "type": "scatter"
           }
          ],
          "scatter3d": [
           {
            "line": {
             "colorbar": {
              "outlinewidth": 0,
              "ticks": ""
             }
            },
            "marker": {
             "colorbar": {
              "outlinewidth": 0,
              "ticks": ""
             }
            },
            "type": "scatter3d"
           }
          ],
          "scattercarpet": [
           {
            "marker": {
             "colorbar": {
              "outlinewidth": 0,
              "ticks": ""
             }
            },
            "type": "scattercarpet"
           }
          ],
          "scattergeo": [
           {
            "marker": {
             "colorbar": {
              "outlinewidth": 0,
              "ticks": ""
             }
            },
            "type": "scattergeo"
           }
          ],
          "scattergl": [
           {
            "marker": {
             "colorbar": {
              "outlinewidth": 0,
              "ticks": ""
             }
            },
            "type": "scattergl"
           }
          ],
          "scattermapbox": [
           {
            "marker": {
             "colorbar": {
              "outlinewidth": 0,
              "ticks": ""
             }
            },
            "type": "scattermapbox"
           }
          ],
          "scatterpolar": [
           {
            "marker": {
             "colorbar": {
              "outlinewidth": 0,
              "ticks": ""
             }
            },
            "type": "scatterpolar"
           }
          ],
          "scatterpolargl": [
           {
            "marker": {
             "colorbar": {
              "outlinewidth": 0,
              "ticks": ""
             }
            },
            "type": "scatterpolargl"
           }
          ],
          "scatterternary": [
           {
            "marker": {
             "colorbar": {
              "outlinewidth": 0,
              "ticks": ""
             }
            },
            "type": "scatterternary"
           }
          ],
          "surface": [
           {
            "colorbar": {
             "outlinewidth": 0,
             "ticks": ""
            },
            "colorscale": [
             [
              0,
              "#0d0887"
             ],
             [
              0.1111111111111111,
              "#46039f"
             ],
             [
              0.2222222222222222,
              "#7201a8"
             ],
             [
              0.3333333333333333,
              "#9c179e"
             ],
             [
              0.4444444444444444,
              "#bd3786"
             ],
             [
              0.5555555555555556,
              "#d8576b"
             ],
             [
              0.6666666666666666,
              "#ed7953"
             ],
             [
              0.7777777777777778,
              "#fb9f3a"
             ],
             [
              0.8888888888888888,
              "#fdca26"
             ],
             [
              1,
              "#f0f921"
             ]
            ],
            "type": "surface"
           }
          ],
          "table": [
           {
            "cells": {
             "fill": {
              "color": "#EBF0F8"
             },
             "line": {
              "color": "white"
             }
            },
            "header": {
             "fill": {
              "color": "#C8D4E3"
             },
             "line": {
              "color": "white"
             }
            },
            "type": "table"
           }
          ]
         },
         "layout": {
          "annotationdefaults": {
           "arrowcolor": "#2a3f5f",
           "arrowhead": 0,
           "arrowwidth": 1
          },
          "autotypenumbers": "strict",
          "coloraxis": {
           "colorbar": {
            "outlinewidth": 0,
            "ticks": ""
           }
          },
          "colorscale": {
           "diverging": [
            [
             0,
             "#8e0152"
            ],
            [
             0.1,
             "#c51b7d"
            ],
            [
             0.2,
             "#de77ae"
            ],
            [
             0.3,
             "#f1b6da"
            ],
            [
             0.4,
             "#fde0ef"
            ],
            [
             0.5,
             "#f7f7f7"
            ],
            [
             0.6,
             "#e6f5d0"
            ],
            [
             0.7,
             "#b8e186"
            ],
            [
             0.8,
             "#7fbc41"
            ],
            [
             0.9,
             "#4d9221"
            ],
            [
             1,
             "#276419"
            ]
           ],
           "sequential": [
            [
             0,
             "#0d0887"
            ],
            [
             0.1111111111111111,
             "#46039f"
            ],
            [
             0.2222222222222222,
             "#7201a8"
            ],
            [
             0.3333333333333333,
             "#9c179e"
            ],
            [
             0.4444444444444444,
             "#bd3786"
            ],
            [
             0.5555555555555556,
             "#d8576b"
            ],
            [
             0.6666666666666666,
             "#ed7953"
            ],
            [
             0.7777777777777778,
             "#fb9f3a"
            ],
            [
             0.8888888888888888,
             "#fdca26"
            ],
            [
             1,
             "#f0f921"
            ]
           ],
           "sequentialminus": [
            [
             0,
             "#0d0887"
            ],
            [
             0.1111111111111111,
             "#46039f"
            ],
            [
             0.2222222222222222,
             "#7201a8"
            ],
            [
             0.3333333333333333,
             "#9c179e"
            ],
            [
             0.4444444444444444,
             "#bd3786"
            ],
            [
             0.5555555555555556,
             "#d8576b"
            ],
            [
             0.6666666666666666,
             "#ed7953"
            ],
            [
             0.7777777777777778,
             "#fb9f3a"
            ],
            [
             0.8888888888888888,
             "#fdca26"
            ],
            [
             1,
             "#f0f921"
            ]
           ]
          },
          "colorway": [
           "#636efa",
           "#EF553B",
           "#00cc96",
           "#ab63fa",
           "#FFA15A",
           "#19d3f3",
           "#FF6692",
           "#B6E880",
           "#FF97FF",
           "#FECB52"
          ],
          "font": {
           "color": "#2a3f5f"
          },
          "geo": {
           "bgcolor": "white",
           "lakecolor": "white",
           "landcolor": "#E5ECF6",
           "showlakes": true,
           "showland": true,
           "subunitcolor": "white"
          },
          "hoverlabel": {
           "align": "left"
          },
          "hovermode": "closest",
          "mapbox": {
           "style": "light"
          },
          "paper_bgcolor": "white",
          "plot_bgcolor": "#E5ECF6",
          "polar": {
           "angularaxis": {
            "gridcolor": "white",
            "linecolor": "white",
            "ticks": ""
           },
           "bgcolor": "#E5ECF6",
           "radialaxis": {
            "gridcolor": "white",
            "linecolor": "white",
            "ticks": ""
           }
          },
          "scene": {
           "xaxis": {
            "backgroundcolor": "#E5ECF6",
            "gridcolor": "white",
            "gridwidth": 2,
            "linecolor": "white",
            "showbackground": true,
            "ticks": "",
            "zerolinecolor": "white"
           },
           "yaxis": {
            "backgroundcolor": "#E5ECF6",
            "gridcolor": "white",
            "gridwidth": 2,
            "linecolor": "white",
            "showbackground": true,
            "ticks": "",
            "zerolinecolor": "white"
           },
           "zaxis": {
            "backgroundcolor": "#E5ECF6",
            "gridcolor": "white",
            "gridwidth": 2,
            "linecolor": "white",
            "showbackground": true,
            "ticks": "",
            "zerolinecolor": "white"
           }
          },
          "shapedefaults": {
           "line": {
            "color": "#2a3f5f"
           }
          },
          "ternary": {
           "aaxis": {
            "gridcolor": "white",
            "linecolor": "white",
            "ticks": ""
           },
           "baxis": {
            "gridcolor": "white",
            "linecolor": "white",
            "ticks": ""
           },
           "bgcolor": "#E5ECF6",
           "caxis": {
            "gridcolor": "white",
            "linecolor": "white",
            "ticks": ""
           }
          },
          "title": {
           "x": 0.05
          },
          "xaxis": {
           "automargin": true,
           "gridcolor": "white",
           "linecolor": "white",
           "ticks": "",
           "title": {
            "standoff": 15
           },
           "zerolinecolor": "white",
           "zerolinewidth": 2
          },
          "yaxis": {
           "automargin": true,
           "gridcolor": "white",
           "linecolor": "white",
           "ticks": "",
           "title": {
            "standoff": 15
           },
           "zerolinecolor": "white",
           "zerolinewidth": 2
          }
         }
        },
        "title": {
         "text": "Drag Polar",
         "x": 0.5
        },
        "xaxis": {
         "autorange": true,
         "range": [
          -0.02298010421797388,
          0.7059924809016458
         ],
         "title": {
          "text": "Cd"
         },
         "type": "linear"
        },
        "yaxis": {
         "autorange": true,
         "range": [
          -0.1229611650485437,
          1.6129611650485436
         ],
         "title": {
          "text": "Cl"
         },
         "type": "linear"
        }
       }
      },
      "image/png": "[encoded data removed]",
      "text/html": [
       "<div>                            <div id=\"0d11a6cb-6ebc-4eb6-ae4f-61b33c935c7d\" class=\"plotly-graph-div\" style=\"height:525px; width:100%;\"></div>            <script type=\"text/javascript\">                require([\"plotly\"], function(Plotly) {                    window.PLOTLYENV=window.PLOTLYENV || {};                                    if (document.getElementById(\"0d11a6cb-6ebc-4eb6-ae4f-61b33c935c7d\")) {                    Plotly.newPlot(                        \"0d11a6cb-6ebc-4eb6-ae4f-61b33c935c7d\",                        [{\"mode\":\"lines+markers\",\"name\":\"Aircraft operational mission\",\"uid\":\"c3a5594a-d55a-42e9-8773-556637538d98\",\"x\":[0.016076967017204218,0.016085323022825955,0.016102191565536533,0.016127674672437843,0.016161874370631758,0.016204892687220168,0.01625683164930496,0.01631779328398801,0.016387879618371202,0.01646719267955642,0.016555834494645556,0.016653907090740473,0.016761512494943075,0.016878752734355237,0.017005729836078835,0.017142545827215763,0.017289302734867902,0.017446102586137137,0.017613047408125346,0.017790239227934414,0.017977780072666226,0.01817577196942266,0.018384316945305602,0.01860351702741694,0.018833474242858552,0.019074290618732326,0.019326068182140138,0.019588908960183882,0.019862914979965427,0.02014818826858667,0.02044483085314948,0.02075294476075576,0.021072632018507374,0.02140399465350621,0.021747134692854157,0.022102154163653097,0.022469638898855747,0.02285018101678916,0.023243901536968967,0.023650934598965834,0.024071428164738347,0.0245055450318189,0.024953464188681683,0.02541538255466306,0.025891517159549772,0.026382107832943452,0.026887420491402227,0.027407751132954336,0.027943430674863618,0.0284948308027394,0.02906237103877444,0.029646527286020408,0.030247842166648865,0.03086693754824459,0.03150452974735078,0.03216144801886215,0.032838657090018604,0.03353728468714251,0.034258655242778636,0.035004331274612756,0.035776164313695014,0.03657635775175362,0.03740754460658753,0.03827288401092356,0.039176181266400566,0.04012203763965054,0.041116037802771385,0.0421649850558907,0.043277197373837624,0.044462881102888964,0.045734604077436056,0.04710789640413626,0.0486020156728092,0.05024092456990085,0.052054543694217525,0.054080362023229855,0.05636551359851012,0.05896946382529336,0.06196749535414944,0.06545524598141235,0.06955463504796083,0.07442162822822718,0.08025644411489563,0.08731701443934128,0.09593679364937976,0.10654840140966815,0.11971511313119948,0.13617294441357214,0.15688708316416672,0.18312781765187774,0.21657304434999144,0.2594471347514512,0.31470970576614726,0.38631311582449773,0.4795549298490251,0.568777583986753,0.5700501820257238,0.571340985176462,0.57265009546607,0.5739776149216496,0.5753236455703026,0.5766882894391308,0.5780716485552362,0.5794738249457206,0.580894920637686,0.5823350376582342,0.5837942780344672,0.5852727437934865,0.5867705369623946,0.5882877595682928,0.5898245136382834,0.5913809011994681,0.5929570242789487,0.5945529849038274,0.5961688851012055,0.5978048268981856,0.5994609123218689,0.6011372433993579,0.6028339221577541,0.6045510506241596,0.606288730825676,0.6080470647894054,0.6098261545424497,0.6116261021119106,0.6134470095248902,0.6152889788084903,0.6171521119898126,0.6190365110959594,0.6209422781540321,0.622869515191133,0.6248183242343637,0.6267888073108262,0.6287810664476223,0.630795203671854,0.6328313210106233,0.6348895204910316,0.6369699041401814,0.6390725739851741,0.6411976320531119,0.6433451803710964,0.6455153209662297,0.6477081558656136,0.6499237870963499,0.6521623166855408,0.6544238466602877,0.656708479047693,0.6590163158748582,0.6613474591688854,0.6637020109568763,0.6660800732659329],\"y\":[0.0,0.01,0.02,0.03,0.04,0.05,0.06,0.07,0.08,0.09,0.1,0.11,0.12,0.13,0.14,0.15,0.16,0.17,0.18,0.19,0.2,0.21,0.22,0.23,0.24,0.25,0.26,0.27,0.28,0.29,0.3,0.31,0.32,0.33,0.34,0.35000000000000003,0.36,0.37,0.38,0.39,0.4,0.41000000000000003,0.42,0.43,0.44,0.45,0.46,0.47000000000000003,0.48,0.49,0.5,0.51,0.52,0.53,0.54,0.55,0.56,0.5700000000000001,0.58,0.59,0.6,0.61,0.62,0.63,0.64,0.65,0.66,0.67,0.68,0.6900000000000001,0.7000000000000001,0.71,0.72,0.73,0.74,0.75,0.76,0.77,0.78,0.79,0.8,0.81,0.8200000000000001,0.8300000000000001,0.84,0.85,0.86,0.87,0.88,0.89,0.9,0.91,0.92,0.93,0.9400000000000001,0.9500000000000001,0.96,0.97,0.98,0.99,1.0,1.01,1.02,1.03,1.04,1.05,1.06,1.07,1.08,1.09,1.1,1.11,1.12,1.1300000000000001,1.1400000000000001,1.1500000000000001,1.16,1.17,1.18,1.19,1.2,1.21,1.22,1.23,1.24,1.25,1.26,1.27,1.28,1.29,1.3,1.31,1.32,1.33,1.34,1.35,1.36,1.37,1.3800000000000001,1.3900000000000001,1.4000000000000001,1.41,1.42,1.43,1.44,1.45,1.46,1.47,1.48,1.49],\"type\":\"scatter\"},{\"mode\":\"lines+markers\",\"name\":\"Aircraft redesign mission\",\"uid\":\"df9d62b6-13a0-4cff-9602-bd74a9e85026\",\"x\":[0.0166940196668433,0.016699971195555764,0.0167144864382412,0.01673766748173876,0.016769616412887562,0.016810435318526766,0.01686022628549549,0.016919091400632896,0.016987132750778105,0.017064452422770257,0.0171511525034485,0.017247335079651958,0.01735310223821979,0.017468556065991122,0.017593798649805086,0.017728932076500833,0.017874058432917492,0.018029279805894215,0.01819469828227013,0.01837041594888438,0.018556534892576103,0.018753157200184428,0.01896038495854851,0.019178320254507476,0.01940706517490047,0.019646721806566635,0.0198973922363451,0.02015917855107501,0.0204321828375955,0.020716507182745703,0.02101225367336477,0.02131952439629184,0.021638421438366043,0.021969046886426518,0.02231150282731241,0.02266589134786285,0.02303279834076782,0.02341281598409163,0.023806065357087153,0.024212680659062322,0.024632809911712978,0.02506661597230876,0.025514277889061125,0.025975992641043687,0.026451977317780446,0.026942471808610285,0.02744774208982859,0.02796808421920086,0.02850382917372818,0.029055348698757144,0.02962306237621775,0.030207446168898935,0.03080904275870951,0.031428474072971516,0.03206645648796541,0.03272381931832313,0.03340152735102187,0.03410070837212126,0.034822686873903275,0.03556902543379099,0.03634157564257179,0.03714254095171114,0.037974554438745256,0.038840775296138205,0.039745008885266095,0.04069185653249818,0.041686902969669606,0.04273695155664524,0.043850320327991466,0.045037215689722375,0.046310205535966514,0.04768482003311854,0.049180316830735316,0.05082065867500005,0.05263576622445634,0.054663128516312054,0.05694987965187677,0.05955548509612271,0.06255522755935705,0.06604474489765103,0.07014595651162064,0.07501482813543542,0.08085157842151686,0.08791413916097732,0.0965359648613697,0.10714967524708828,0.12031854578886343,0.13677859214603078,0.15749500228570812,0.1837380645365272,0.21718567543151165,0.260062206523342,0.31532727478164574,0.3869332386965783,0.4801776632503994,0.5694029846498699,0.5706783067427694,0.5719718907993597,0.5732838389064807,0.5746142531509709,0.5759632356196697,0.5773308883994162,0.5787173135770495,0.580122613239409,0.5815468894733333,0.582990244365662,0.5844527800032342,0.5859345984728888,0.5874358018614652,0.5889564922558023,0.5904967717427394,0.5920567424091155,0.59363650634177,0.5952361656275418,0.59685582235327,0.598495578605794,0.6001555364719526,0.6018357980385854,0.603536465392531,0.6052576406206289,0.6069994258097182,0.6087619230466379,0.6105452344182274,0.6123494620113253,0.6141747079127714,0.6160210742094043,0.6178886629880636,0.6197775763355882,0.621687916338817,0.6236197850845897,0.6255732846597448,0.6275485171511221,0.6295455846455602,0.6315645892298984,0.633605632990976,0.6356688180156321,0.6377542463907057,0.6398620202030358,0.641992241539462,0.644145012486823,0.6463204351319581,0.6485186115617065,0.6507396438629074,0.6529836341223998,0.6552506844270227,0.6575408968636156,0.6598543735190172,0.6621912164800672,0.6645515278336042,0.6669354096664677],\"y\":[0.0,0.01,0.02,0.03,0.04,0.05,0.06,0.07,0.08,0.09,0.1,0.11,0.12,0.13,0.14,0.15,0.16,0.17,0.18,0.19,0.2,0.21,0.22,0.23,0.24,0.25,0.26,0.27,0.28,0.29,0.3,0.31,0.32,0.33,0.34,0.35000000000000003,0.36,0.37,0.38,0.39,0.4,0.41000000000000003,0.42,0.43,0.44,0.45,0.46,0.47000000000000003,0.48,0.49,0.5,0.51,0.52,0.53,0.54,0.55,0.56,0.5700000000000001,0.58,0.59,0.6,0.61,0.62,0.63,0.64,0.65,0.66,0.67,0.68,0.6900000000000001,0.7000000000000001,0.71,0.72,0.73,0.74,0.75,0.76,0.77,0.78,0.79,0.8,0.81,0.8200000000000001,0.8300000000000001,0.84,0.85,0.86,0.87,0.88,0.89,0.9,0.91,0.92,0.93,0.9400000000000001,0.9500000000000001,0.96,0.97,0.98,0.99,1.0,1.01,1.02,1.03,1.04,1.05,1.06,1.07,1.08,1.09,1.1,1.11,1.12,1.1300000000000001,1.1400000000000001,1.1500000000000001,1.16,1.17,1.18,1.19,1.2,1.21,1.22,1.23,1.24,1.25,1.26,1.27,1.28,1.29,1.3,1.31,1.32,1.33,1.34,1.35,1.36,1.37,1.3800000000000001,1.3900000000000001,1.4000000000000001,1.41,1.42,1.43,1.44,1.45,1.46,1.47,1.48,1.49],\"type\":\"scatter\"}],                        {\"template\":{\"data\":{\"barpolar\":[{\"marker\":{\"line\":{\"color\":\"#E5ECF6\",\"width\":0.5},\"pattern\":{\"fillmode\":\"overlay\",\"size\":10,\"solidity\":0.2}},\"type\":\"barpolar\"}],\"bar\":[{\"error_x\":{\"color\":\"#2a3f5f\"},\"error_y\":{\"color\":\"#2a3f5f\"},\"marker\":{\"line\":{\"color\":\"#E5ECF6\",\"width\":0.5},\"pattern\":{\"fillmode\":\"overlay\",\"size\":10,\"solidity\":0.2}},\"type\":\"bar\"}],\"carpet\":[{\"aaxis\":{\"endlinecolor\":\"#2a3f5f\",\"gridcolor\":\"white\",\"linecolor\":\"white\",\"minorgridcolor\":\"white\",\"startlinecolor\":\"#2a3f5f\"},\"baxis\":{\"endlinecolor\":\"#2a3f5f\",\"gridcolor\":\"white\",\"linecolor\":\"white\",\"minorgridcolor\":\"white\",\"startlinecolor\":\"#2a3f5f\"},\"type\":\"carpet\"}],\"choropleth\":[{\"colorbar\":{\"outlinewidth\":0,\"ticks\":\"\"},\"type\":\"choropleth\"}],\"contourcarpet\":[{\"colorbar\":{\"outlinewidth\":0,\"ticks\":\"\"},\"type\":\"contourcarpet\"}],\"contour\":[{\"colorbar\":{\"outlinewidth\":0,\"ticks\":\"\"},\"colorscale\":[[0.0,\"#0d0887\"],[0.1111111111111111,\"#46039f\"],[0.2222222222222222,\"#7201a8\"],[0.3333333333333333,\"#9c179e\"],[0.4444444444444444,\"#bd3786\"],[0.5555555555555556,\"#d8576b\"],[0.6666666666666666,\"#ed7953\"],[0.7777777777777778,\"#fb9f3a\"],[0.8888888888888888,\"#fdca26\"],[1.0,\"#f0f921\"]],\"type\":\"contour\"}],\"heatmapgl\":[{\"colorbar\":{\"outlinewidth\":0,\"ticks\":\"\"},\"colorscale\":[[0.0,\"#0d0887\"],[0.1111111111111111,\"#46039f\"],[0.2222222222222222,\"#7201a8\"],[0.3333333333333333,\"#9c179e\"],[0.4444444444444444,\"#bd3786\"],[0.5555555555555556,\"#d8576b\"],[0.6666666666666666,\"#ed7953\"],[0.7777777777777778,\"#fb9f3a\"],[0.8888888888888888,\"#fdca26\"],[1.0,\"#f0f921\"]],\"type\":\"heatmapgl\"}],\"heatmap\":[{\"colorbar\":{\"outlinewidth\":0,\"ticks\":\"\"},\"colorscale\":[[0.0,\"#0d0887\"],[0.1111111111111111,\"#46039f\"],[0.2222222222222222,\"#7201a8\"],[0.3333333333333333,\"#9c179e\"],[0.4444444444444444,\"#bd3786\"],[0.5555555555555556,\"#d8576b\"],[0.6666666666666666,\"#ed7953\"],[0.7777777777777778,\"#fb9f3a\"],[0.8888888888888888,\"#fdca26\"],[1.0,\"#f0f921\"]],\"type\":\"heatmap\"}],\"histogram2dcontour\":[{\"colorbar\":{\"outlinewidth\":0,\"ticks\":\"\"},\"colorscale\":[[0.0,\"#0d0887\"],[0.1111111111111111,\"#46039f\"],[0.2222222222222222,\"#7201a8\"],[0.3333333333333333,\"#9c179e\"],[0.4444444444444444,\"#bd3786\"],[0.5555555555555556,\"#d8576b\"],[0.6666666666666666,\"#ed7953\"],[0.7777777777777778,\"#fb9f3a\"],[0.8888888888888888,\"#fdca26\"],[1.0,\"#f0f921\"]],\"type\":\"histogram2dcontour\"}],\"histogram2d\":[{\"colorbar\":{\"outlinewidth\":0,\"ticks\":\"\"},\"colorscale\":[[0.0,\"#0d0887\"],[0.1111111111111111,\"#46039f\"],[0.2222222222222222,\"#7201a8\"],[0.3333333333333333,\"#9c179e\"],[0.4444444444444444,\"#bd3786\"],[0.5555555555555556,\"#d8576b\"],[0.6666666666666666,\"#ed7953\"],[0.7777777777777778,\"#fb9f3a\"],[0.8888888888888888,\"#fdca26\"],[1.0,\"#f0f921\"]],\"type\":\"histogram2d\"}],\"histogram\":[{\"marker\":{\"pattern\":{\"fillmode\":\"overlay\",\"size\":10,\"solidity\":0.2}},\"type\":\"histogram\"}],\"mesh3d\":[{\"colorbar\":{\"outlinewidth\":0,\"ticks\":\"\"},\"type\":\"mesh3d\"}],\"parcoords\":[{\"line\":{\"colorbar\":{\"outlinewidth\":0,\"ticks\":\"\"}},\"type\":\"parcoords\"}],\"pie\":[{\"automargin\":true,\"type\":\"pie\"}],\"scatter3d\":[{\"line\":{\"colorbar\":{\"outlinewidth\":0,\"ticks\":\"\"}},\"marker\":{\"colorbar\":{\"outlinewidth\":0,\"ticks\":\"\"}},\"type\":\"scatter3d\"}],\"scattercarpet\":[{\"marker\":{\"colorbar\":{\"outlinewidth\":0,\"ticks\":\"\"}},\"type\":\"scattercarpet\"}],\"scattergeo\":[{\"marker\":{\"colorbar\":{\"outlinewidth\":0,\"ticks\":\"\"}},\"type\":\"scattergeo\"}],\"scattergl\":[{\"marker\":{\"colorbar\":{\"outlinewidth\":0,\"ticks\":\"\"}},\"type\":\"scattergl\"}],\"scattermapbox\":[{\"marker\":{\"colorbar\":{\"outlinewidth\":0,\"ticks\":\"\"}},\"type\":\"scattermapbox\"}],\"scatterpolargl\":[{\"marker\":{\"colorbar\":{\"outlinewidth\":0,\"ticks\":\"\"}},\"type\":\"scatterpolargl\"}],\"scatterpolar\":[{\"marker\":{\"colorbar\":{\"outlinewidth\":0,\"ticks\":\"\"}},\"type\":\"scatterpolar\"}],\"scatter\":[{\"marker\":{\"colorbar\":{\"outlinewidth\":0,\"ticks\":\"\"}},\"type\":\"scatter\"}],\"scatterternary\":[{\"marker\":{\"colorbar\":{\"outlinewidth\":0,\"ticks\":\"\"}},\"type\":\"scatterternary\"}],\"surface\":[{\"colorbar\":{\"outlinewidth\":0,\"ticks\":\"\"},\"colorscale\":[[0.0,\"#0d0887\"],[0.1111111111111111,\"#46039f\"],[0.2222222222222222,\"#7201a8\"],[0.3333333333333333,\"#9c179e\"],[0.4444444444444444,\"#bd3786\"],[0.5555555555555556,\"#d8576b\"],[0.6666666666666666,\"#ed7953\"],[0.7777777777777778,\"#fb9f3a\"],[0.8888888888888888,\"#fdca26\"],[1.0,\"#f0f921\"]],\"type\":\"surface\"}],\"table\":[{\"cells\":{\"fill\":{\"color\":\"#EBF0F8\"},\"line\":{\"color\":\"white\"}},\"header\":{\"fill\":{\"color\":\"#C8D4E3\"},\"line\":{\"color\":\"white\"}},\"type\":\"table\"}]},\"layout\":{\"annotationdefaults\":{\"arrowcolor\":\"#2a3f5f\",\"arrowhead\":0,\"arrowwidth\":1},\"autotypenumbers\":\"strict\",\"coloraxis\":{\"colorbar\":{\"outlinewidth\":0,\"ticks\":\"\"}},\"colorscale\":{\"diverging\":[[0,\"#8e0152\"],[0.1,\"#c51b7d\"],[0.2,\"#de77ae\"],[0.3,\"#f1b6da\"],[0.4,\"#fde0ef\"],[0.5,\"#f7f7f7\"],[0.6,\"#e6f5d0\"],[0.7,\"#b8e186\"],[0.8,\"#7fbc41\"],[0.9,\"#4d9221\"],[1,\"#276419\"]],\"sequential\":[[0.0,\"#0d0887\"],[0.1111111111111111,\"#46039f\"],[0.2222222222222222,\"#7201a8\"],[0.3333333333333333,\"#9c179e\"],[0.4444444444444444,\"#bd3786\"],[0.5555555555555556,\"#d8576b\"],[0.6666666666666666,\"#ed7953\"],[0.7777777777777778,\"#fb9f3a\"],[0.8888888888888888,\"#fdca26\"],[1.0,\"#f0f921\"]],\"sequentialminus\":[[0.0,\"#0d0887\"],[0.1111111111111111,\"#46039f\"],[0.2222222222222222,\"#7201a8\"],[0.3333333333333333,\"#9c179e\"],[0.4444444444444444,\"#bd3786\"],[0.5555555555555556,\"#d8576b\"],[0.6666666666666666,\"#ed7953\"],[0.7777777777777778,\"#fb9f3a\"],[0.8888888888888888,\"#fdca26\"],[1.0,\"#f0f921\"]]},\"colorway\":[\"#636efa\",\"#EF553B\",\"#00cc96\",\"#ab63fa\",\"#FFA15A\",\"#19d3f3\",\"#FF6692\",\"#B6E880\",\"#FF97FF\",\"#FECB52\"],\"font\":{\"color\":\"#2a3f5f\"},\"geo\":{\"bgcolor\":\"white\",\"lakecolor\":\"white\",\"landcolor\":\"#E5ECF6\",\"showlakes\":true,\"showland\":true,\"subunitcolor\":\"white\"},\"hoverlabel\":{\"align\":\"left\"},\"hovermode\":\"closest\",\"mapbox\":{\"style\":\"light\"},\"paper_bgcolor\":\"white\",\"plot_bgcolor\":\"#E5ECF6\",\"polar\":{\"angularaxis\":{\"gridcolor\":\"white\",\"linecolor\":\"white\",\"ticks\":\"\"},\"bgcolor\":\"#E5ECF6\",\"radialaxis\":{\"gridcolor\":\"white\",\"linecolor\":\"white\",\"ticks\":\"\"}},\"scene\":{\"xaxis\":{\"backgroundcolor\":\"#E5ECF6\",\"gridcolor\":\"white\",\"gridwidth\":2,\"linecolor\":\"white\",\"showbackground\":true,\"ticks\":\"\",\"zerolinecolor\":\"white\"},\"yaxis\":{\"backgroundcolor\":\"#E5ECF6\",\"gridcolor\":\"white\",\"gridwidth\":2,\"linecolor\":\"white\",\"showbackground\":true,\"ticks\":\"\",\"zerolinecolor\":\"white\"},\"zaxis\":{\"backgroundcolor\":\"#E5ECF6\",\"gridcolor\":\"white\",\"gridwidth\":2,\"linecolor\":\"white\",\"showbackground\":true,\"ticks\":\"\",\"zerolinecolor\":\"white\"}},\"shapedefaults\":{\"line\":{\"color\":\"#2a3f5f\"}},\"ternary\":{\"aaxis\":{\"gridcolor\":\"white\",\"linecolor\":\"white\",\"ticks\":\"\"},\"baxis\":{\"gridcolor\":\"white\",\"linecolor\":\"white\",\"ticks\":\"\"},\"bgcolor\":\"#E5ECF6\",\"caxis\":{\"gridcolor\":\"white\",\"linecolor\":\"white\",\"ticks\":\"\"}},\"title\":{\"x\":0.05},\"xaxis\":{\"automargin\":true,\"gridcolor\":\"white\",\"linecolor\":\"white\",\"ticks\":\"\",\"title\":{\"standoff\":15},\"zerolinecolor\":\"white\",\"zerolinewidth\":2},\"yaxis\":{\"automargin\":true,\"gridcolor\":\"white\",\"linecolor\":\"white\",\"ticks\":\"\",\"title\":{\"standoff\":15},\"zerolinecolor\":\"white\",\"zerolinewidth\":2}}},\"title\":{\"text\":\"Drag Polar\",\"x\":0.5},\"xaxis\":{\"title\":{\"text\":\"Cd\"}},\"yaxis\":{\"title\":{\"text\":\"Cl\"}}},                        {\"responsive\": true}                    ).then(function(){\n",
       "                            \n",
       "var gd = document.getElementById('0d11a6cb-6ebc-4eb6-ae4f-61b33c935c7d');\n",
       "var x = new MutationObserver(function (mutations, observer) {{\n",
       "        var display = window.getComputedStyle(gd).display;\n",
       "        if (!display || display === 'none') {{\n",
       "            console.log([gd, 'removed!']);\n",
       "            Plotly.purge(gd);\n",
       "            observer.disconnect();\n",
       "        }}\n",
       "}});\n",
       "\n",
       "// Listen for the removal of the full notebook cells\n",
       "var notebookContainer = gd.closest('#notebook-container');\n",
       "if (notebookContainer) {{\n",
       "    x.observe(notebookContainer, {childList: true});\n",
       "}}\n",
       "\n",
       "// Listen for the clearing of the current output cell\n",
       "var outputEl = gd.closest('.output');\n",
       "if (outputEl) {{\n",
       "    x.observe(outputEl, {childList: true});\n",
       "}}\n",
       "\n",
       "                        })                };                });            </script>        </div>"
      ]
     },
     "metadata": {},
     "output_type": "display_data"
    }
   ],
   "source": [
    "fig = oad.drag_polar_plot(OP_OUTPUT_FILE, name=\"Aircraft operational mission\")\n",
    "fig = oad.drag_polar_plot(RES_OUTPUT_FILE, name=\"Aircraft redesign mission\", fig=fig)\n",
    "fig.show()"
   ]
  },
  {
   "cell_type": "code",
   "execution_count": 67,
   "id": "3f2d59d1-6198-4080-8985-dd31d9d60ae1",
   "metadata": {},
   "outputs": [
    {
     "data": {
      "application/vnd.plotly.v1+json": {
       "config": {
        "plotlyServerURL": "https://plot.ly"
       },
       "data": [
        {
         "branchvalues": "total",
         "domain": {
          "x": [
           0,
           0.45
          ],
          "y": [
           0,
           1
          ]
         },
         "labels": [
          "MTOW<br>119541 [kg]",
          "payload<br>20520 [kg] (17.2%)",
          "onboard_fuel_at_takeoff<br>14761 [kg] (12.3%)",
          "OWE<br>84259 [kg] (70.5%)"
         ],
         "parents": [
          "",
          "MTOW<br>119541 [kg]",
          "MTOW<br>119541 [kg]",
          "MTOW<br>119541 [kg]"
         ],
         "type": "sunburst",
         "values": [
          119541.03836379194,
          20520,
          14761.485786414874,
          84259.55257737706
         ]
        },
        {
         "branchvalues": "total",
         "domain": {
          "x": [
           0.55,
           1
          ],
          "y": [
           0,
           1
          ]
         },
         "labels": [
          "OWE<br>84259 [kg]",
          "airframe<br>50431 [kg] (59.9%)",
          "crew<br>770 [kg] (0.9%)",
          "furniture<br>5630 [kg] (6.7%)",
          "propulsion<br>14882 [kg] (17.7%)",
          "systems<br>12544 [kg] (14.9%)",
          "flight_controls",
          "fuselage",
          "horizontal_tail",
          "paint",
          "pylon",
          "vertical_tail",
          "wing",
          "landing_gear_front",
          "landing_gear_main",
          "food_water",
          "passenger_seats",
          "security_kit",
          "toilets",
          "engine",
          "fuel_lines",
          "unconsumables",
          "flight_kit",
          "navigation",
          "transmission",
          "life_support_air_conditioning",
          "life_support_cabin_lighting",
          "life_support_de-icing",
          "life_support_insulation",
          "life_support_oxygen",
          "life_support_safety_equipment",
          "life_support_seats_crew_accommodation",
          "operational_cargo_hold",
          "operational_radar",
          "power_auxiliary_power_unit",
          "power_electric_systems",
          "power_hydraulic_systems"
         ],
         "parents": [
          "",
          "OWE<br>84259 [kg]",
          "OWE<br>84259 [kg]",
          "OWE<br>84259 [kg]",
          "OWE<br>84259 [kg]",
          "OWE<br>84259 [kg]",
          "airframe<br>50431 [kg] (59.9%)",
          "airframe<br>50431 [kg] (59.9%)",
          "airframe<br>50431 [kg] (59.9%)",
          "airframe<br>50431 [kg] (59.9%)",
          "airframe<br>50431 [kg] (59.9%)",
          "airframe<br>50431 [kg] (59.9%)",
          "airframe<br>50431 [kg] (59.9%)",
          "airframe<br>50431 [kg] (59.9%)",
          "airframe<br>50431 [kg] (59.9%)",
          "furniture<br>5630 [kg] (6.7%)",
          "furniture<br>5630 [kg] (6.7%)",
          "furniture<br>5630 [kg] (6.7%)",
          "furniture<br>5630 [kg] (6.7%)",
          "propulsion<br>14882 [kg] (17.7%)",
          "propulsion<br>14882 [kg] (17.7%)",
          "propulsion<br>14882 [kg] (17.7%)",
          "systems<br>12544 [kg] (14.9%)",
          "systems<br>12544 [kg] (14.9%)",
          "systems<br>12544 [kg] (14.9%)",
          "systems<br>12544 [kg] (14.9%)",
          "systems<br>12544 [kg] (14.9%)",
          "systems<br>12544 [kg] (14.9%)",
          "systems<br>12544 [kg] (14.9%)",
          "systems<br>12544 [kg] (14.9%)",
          "systems<br>12544 [kg] (14.9%)",
          "systems<br>12544 [kg] (14.9%)",
          "systems<br>12544 [kg] (14.9%)",
          "systems<br>12544 [kg] (14.9%)",
          "systems<br>12544 [kg] (14.9%)",
          "systems<br>12544 [kg] (14.9%)",
          "systems<br>12544 [kg] (14.9%)"
         ],
         "type": "sunburst",
         "values": [
          84259.55257737706,
          50431.6820078648,
          770,
          5630.85,
          14882.508116933224,
          12544.51245257903,
          1892.374089739346,
          19525.761307303877,
          1594.7642348230995,
          272.92763608515213,
          2368.1931461203317,
          1360.9129067535948,
          19411.31718819557,
          560.1704811553716,
          3445.2610176884577,
          2546.25,
          2619,
          436.5,
          29.1,
          13810.5,
          836.8682811222302,
          235.13983581099495,
          10,
          242.05578947064436,
          100,
          1369.4962981071155,
          316.6296648190377,
          199.52397698391115,
          4206.651261167216,
          476.5,
          839.605,
          198,
          498.22790445465574,
          100,
          439.5723237508992,
          2252.0165409092747,
          1296.233692916276
         ]
        }
       ],
       "layout": {
        "template": {
         "data": {
          "bar": [
           {
            "error_x": {
             "color": "#2a3f5f"
            },
            "error_y": {
             "color": "#2a3f5f"
            },
            "marker": {
             "line": {
              "color": "#E5ECF6",
              "width": 0.5
             },
             "pattern": {
              "fillmode": "overlay",
              "size": 10,
              "solidity": 0.2
             }
            },
            "type": "bar"
           }
          ],
          "barpolar": [
           {
            "marker": {
             "line": {
              "color": "#E5ECF6",
              "width": 0.5
             },
             "pattern": {
              "fillmode": "overlay",
              "size": 10,
              "solidity": 0.2
             }
            },
            "type": "barpolar"
           }
          ],
          "carpet": [
           {
            "aaxis": {
             "endlinecolor": "#2a3f5f",
             "gridcolor": "white",
             "linecolor": "white",
             "minorgridcolor": "white",
             "startlinecolor": "#2a3f5f"
            },
            "baxis": {
             "endlinecolor": "#2a3f5f",
             "gridcolor": "white",
             "linecolor": "white",
             "minorgridcolor": "white",
             "startlinecolor": "#2a3f5f"
            },
            "type": "carpet"
           }
          ],
          "choropleth": [
           {
            "colorbar": {
             "outlinewidth": 0,
             "ticks": ""
            },
            "type": "choropleth"
           }
          ],
          "contour": [
           {
            "colorbar": {
             "outlinewidth": 0,
             "ticks": ""
            },
            "colorscale": [
             [
              0,
              "#0d0887"
             ],
             [
              0.1111111111111111,
              "#46039f"
             ],
             [
              0.2222222222222222,
              "#7201a8"
             ],
             [
              0.3333333333333333,
              "#9c179e"
             ],
             [
              0.4444444444444444,
              "#bd3786"
             ],
             [
              0.5555555555555556,
              "#d8576b"
             ],
             [
              0.6666666666666666,
              "#ed7953"
             ],
             [
              0.7777777777777778,
              "#fb9f3a"
             ],
             [
              0.8888888888888888,
              "#fdca26"
             ],
             [
              1,
              "#f0f921"
             ]
            ],
            "type": "contour"
           }
          ],
          "contourcarpet": [
           {
            "colorbar": {
             "outlinewidth": 0,
             "ticks": ""
            },
            "type": "contourcarpet"
           }
          ],
          "heatmap": [
           {
            "colorbar": {
             "outlinewidth": 0,
             "ticks": ""
            },
            "colorscale": [
             [
              0,
              "#0d0887"
             ],
             [
              0.1111111111111111,
              "#46039f"
             ],
             [
              0.2222222222222222,
              "#7201a8"
             ],
             [
              0.3333333333333333,
              "#9c179e"
             ],
             [
              0.4444444444444444,
              "#bd3786"
             ],
             [
              0.5555555555555556,
              "#d8576b"
             ],
             [
              0.6666666666666666,
              "#ed7953"
             ],
             [
              0.7777777777777778,
              "#fb9f3a"
             ],
             [
              0.8888888888888888,
              "#fdca26"
             ],
             [
              1,
              "#f0f921"
             ]
            ],
            "type": "heatmap"
           }
          ],
          "heatmapgl": [
           {
            "colorbar": {
             "outlinewidth": 0,
             "ticks": ""
            },
            "colorscale": [
             [
              0,
              "#0d0887"
             ],
             [
              0.1111111111111111,
              "#46039f"
             ],
             [
              0.2222222222222222,
              "#7201a8"
             ],
             [
              0.3333333333333333,
              "#9c179e"
             ],
             [
              0.4444444444444444,
              "#bd3786"
             ],
             [
              0.5555555555555556,
              "#d8576b"
             ],
             [
              0.6666666666666666,
              "#ed7953"
             ],
             [
              0.7777777777777778,
              "#fb9f3a"
             ],
             [
              0.8888888888888888,
              "#fdca26"
             ],
             [
              1,
              "#f0f921"
             ]
            ],
            "type": "heatmapgl"
           }
          ],
          "histogram": [
           {
            "marker": {
             "pattern": {
              "fillmode": "overlay",
              "size": 10,
              "solidity": 0.2
             }
            },
            "type": "histogram"
           }
          ],
          "histogram2d": [
           {
            "colorbar": {
             "outlinewidth": 0,
             "ticks": ""
            },
            "colorscale": [
             [
              0,
              "#0d0887"
             ],
             [
              0.1111111111111111,
              "#46039f"
             ],
             [
              0.2222222222222222,
              "#7201a8"
             ],
             [
              0.3333333333333333,
              "#9c179e"
             ],
             [
              0.4444444444444444,
              "#bd3786"
             ],
             [
              0.5555555555555556,
              "#d8576b"
             ],
             [
              0.6666666666666666,
              "#ed7953"
             ],
             [
              0.7777777777777778,
              "#fb9f3a"
             ],
             [
              0.8888888888888888,
              "#fdca26"
             ],
             [
              1,
              "#f0f921"
             ]
            ],
            "type": "histogram2d"
           }
          ],
          "histogram2dcontour": [
           {
            "colorbar": {
             "outlinewidth": 0,
             "ticks": ""
            },
            "colorscale": [
             [
              0,
              "#0d0887"
             ],
             [
              0.1111111111111111,
              "#46039f"
             ],
             [
              0.2222222222222222,
              "#7201a8"
             ],
             [
              0.3333333333333333,
              "#9c179e"
             ],
             [
              0.4444444444444444,
              "#bd3786"
             ],
             [
              0.5555555555555556,
              "#d8576b"
             ],
             [
              0.6666666666666666,
              "#ed7953"
             ],
             [
              0.7777777777777778,
              "#fb9f3a"
             ],
             [
              0.8888888888888888,
              "#fdca26"
             ],
             [
              1,
              "#f0f921"
             ]
            ],
            "type": "histogram2dcontour"
           }
          ],
          "mesh3d": [
           {
            "colorbar": {
             "outlinewidth": 0,
             "ticks": ""
            },
            "type": "mesh3d"
           }
          ],
          "parcoords": [
           {
            "line": {
             "colorbar": {
              "outlinewidth": 0,
              "ticks": ""
             }
            },
            "type": "parcoords"
           }
          ],
          "pie": [
           {
            "automargin": true,
            "type": "pie"
           }
          ],
          "scatter": [
           {
            "marker": {
             "colorbar": {
              "outlinewidth": 0,
              "ticks": ""
             }
            },
            "type": "scatter"
           }
          ],
          "scatter3d": [
           {
            "line": {
             "colorbar": {
              "outlinewidth": 0,
              "ticks": ""
             }
            },
            "marker": {
             "colorbar": {
              "outlinewidth": 0,
              "ticks": ""
             }
            },
            "type": "scatter3d"
           }
          ],
          "scattercarpet": [
           {
            "marker": {
             "colorbar": {
              "outlinewidth": 0,
              "ticks": ""
             }
            },
            "type": "scattercarpet"
           }
          ],
          "scattergeo": [
           {
            "marker": {
             "colorbar": {
              "outlinewidth": 0,
              "ticks": ""
             }
            },
            "type": "scattergeo"
           }
          ],
          "scattergl": [
           {
            "marker": {
             "colorbar": {
              "outlinewidth": 0,
              "ticks": ""
             }
            },
            "type": "scattergl"
           }
          ],
          "scattermapbox": [
           {
            "marker": {
             "colorbar": {
              "outlinewidth": 0,
              "ticks": ""
             }
            },
            "type": "scattermapbox"
           }
          ],
          "scatterpolar": [
           {
            "marker": {
             "colorbar": {
              "outlinewidth": 0,
              "ticks": ""
             }
            },
            "type": "scatterpolar"
           }
          ],
          "scatterpolargl": [
           {
            "marker": {
             "colorbar": {
              "outlinewidth": 0,
              "ticks": ""
             }
            },
            "type": "scatterpolargl"
           }
          ],
          "scatterternary": [
           {
            "marker": {
             "colorbar": {
              "outlinewidth": 0,
              "ticks": ""
             }
            },
            "type": "scatterternary"
           }
          ],
          "surface": [
           {
            "colorbar": {
             "outlinewidth": 0,
             "ticks": ""
            },
            "colorscale": [
             [
              0,
              "#0d0887"
             ],
             [
              0.1111111111111111,
              "#46039f"
             ],
             [
              0.2222222222222222,
              "#7201a8"
             ],
             [
              0.3333333333333333,
              "#9c179e"
             ],
             [
              0.4444444444444444,
              "#bd3786"
             ],
             [
              0.5555555555555556,
              "#d8576b"
             ],
             [
              0.6666666666666666,
              "#ed7953"
             ],
             [
              0.7777777777777778,
              "#fb9f3a"
             ],
             [
              0.8888888888888888,
              "#fdca26"
             ],
             [
              1,
              "#f0f921"
             ]
            ],
            "type": "surface"
           }
          ],
          "table": [
           {
            "cells": {
             "fill": {
              "color": "#EBF0F8"
             },
             "line": {
              "color": "white"
             }
            },
            "header": {
             "fill": {
              "color": "#C8D4E3"
             },
             "line": {
              "color": "white"
             }
            },
            "type": "table"
           }
          ]
         },
         "layout": {
          "annotationdefaults": {
           "arrowcolor": "#2a3f5f",
           "arrowhead": 0,
           "arrowwidth": 1
          },
          "autotypenumbers": "strict",
          "coloraxis": {
           "colorbar": {
            "outlinewidth": 0,
            "ticks": ""
           }
          },
          "colorscale": {
           "diverging": [
            [
             0,
             "#8e0152"
            ],
            [
             0.1,
             "#c51b7d"
            ],
            [
             0.2,
             "#de77ae"
            ],
            [
             0.3,
             "#f1b6da"
            ],
            [
             0.4,
             "#fde0ef"
            ],
            [
             0.5,
             "#f7f7f7"
            ],
            [
             0.6,
             "#e6f5d0"
            ],
            [
             0.7,
             "#b8e186"
            ],
            [
             0.8,
             "#7fbc41"
            ],
            [
             0.9,
             "#4d9221"
            ],
            [
             1,
             "#276419"
            ]
           ],
           "sequential": [
            [
             0,
             "#0d0887"
            ],
            [
             0.1111111111111111,
             "#46039f"
            ],
            [
             0.2222222222222222,
             "#7201a8"
            ],
            [
             0.3333333333333333,
             "#9c179e"
            ],
            [
             0.4444444444444444,
             "#bd3786"
            ],
            [
             0.5555555555555556,
             "#d8576b"
            ],
            [
             0.6666666666666666,
             "#ed7953"
            ],
            [
             0.7777777777777778,
             "#fb9f3a"
            ],
            [
             0.8888888888888888,
             "#fdca26"
            ],
            [
             1,
             "#f0f921"
            ]
           ],
           "sequentialminus": [
            [
             0,
             "#0d0887"
            ],
            [
             0.1111111111111111,
             "#46039f"
            ],
            [
             0.2222222222222222,
             "#7201a8"
            ],
            [
             0.3333333333333333,
             "#9c179e"
            ],
            [
             0.4444444444444444,
             "#bd3786"
            ],
            [
             0.5555555555555556,
             "#d8576b"
            ],
            [
             0.6666666666666666,
             "#ed7953"
            ],
            [
             0.7777777777777778,
             "#fb9f3a"
            ],
            [
             0.8888888888888888,
             "#fdca26"
            ],
            [
             1,
             "#f0f921"
            ]
           ]
          },
          "colorway": [
           "#636efa",
           "#EF553B",
           "#00cc96",
           "#ab63fa",
           "#FFA15A",
           "#19d3f3",
           "#FF6692",
           "#B6E880",
           "#FF97FF",
           "#FECB52"
          ],
          "font": {
           "color": "#2a3f5f"
          },
          "geo": {
           "bgcolor": "white",
           "lakecolor": "white",
           "landcolor": "#E5ECF6",
           "showlakes": true,
           "showland": true,
           "subunitcolor": "white"
          },
          "hoverlabel": {
           "align": "left"
          },
          "hovermode": "closest",
          "mapbox": {
           "style": "light"
          },
          "paper_bgcolor": "white",
          "plot_bgcolor": "#E5ECF6",
          "polar": {
           "angularaxis": {
            "gridcolor": "white",
            "linecolor": "white",
            "ticks": ""
           },
           "bgcolor": "#E5ECF6",
           "radialaxis": {
            "gridcolor": "white",
            "linecolor": "white",
            "ticks": ""
           }
          },
          "scene": {
           "xaxis": {
            "backgroundcolor": "#E5ECF6",
            "gridcolor": "white",
            "gridwidth": 2,
            "linecolor": "white",
            "showbackground": true,
            "ticks": "",
            "zerolinecolor": "white"
           },
           "yaxis": {
            "backgroundcolor": "#E5ECF6",
            "gridcolor": "white",
            "gridwidth": 2,
            "linecolor": "white",
            "showbackground": true,
            "ticks": "",
            "zerolinecolor": "white"
           },
           "zaxis": {
            "backgroundcolor": "#E5ECF6",
            "gridcolor": "white",
            "gridwidth": 2,
            "linecolor": "white",
            "showbackground": true,
            "ticks": "",
            "zerolinecolor": "white"
           }
          },
          "shapedefaults": {
           "line": {
            "color": "#2a3f5f"
           }
          },
          "ternary": {
           "aaxis": {
            "gridcolor": "white",
            "linecolor": "white",
            "ticks": ""
           },
           "baxis": {
            "gridcolor": "white",
            "linecolor": "white",
            "ticks": ""
           },
           "bgcolor": "#E5ECF6",
           "caxis": {
            "gridcolor": "white",
            "linecolor": "white",
            "ticks": ""
           }
          },
          "title": {
           "x": 0.05
          },
          "xaxis": {
           "automargin": true,
           "gridcolor": "white",
           "linecolor": "white",
           "ticks": "",
           "title": {
            "standoff": 15
           },
           "zerolinecolor": "white",
           "zerolinewidth": 2
          },
          "yaxis": {
           "automargin": true,
           "gridcolor": "white",
           "linecolor": "white",
           "ticks": "",
           "title": {
            "standoff": 15
           },
           "zerolinecolor": "white",
           "zerolinewidth": 2
          }
         }
        },
        "title": {
         "text": "Mass Breakdown",
         "x": 0.5
        }
       }
      }
     },
     "metadata": {},
     "output_type": "display_data"
    }
   ],
   "source": [
    "#Masse\n",
    "\n",
    "fig = oad.mass_breakdown_sun_plot(REDESIGN_problem.output_file_path)\n",
    "#fig = oad.mass_breakdown_bar_plot(REDESIGN_problem.output_file_path, name=\"FAST-OAD\")\n",
    "fig.show()"
   ]
  },
  {
   "cell_type": "code",
   "execution_count": 68,
   "id": "18d3914c-9fb1-4305-aab3-24cee138e1cc",
   "metadata": {},
   "outputs": [
    {
     "data": {
      "application/vnd.plotly.v1+json": {
       "config": {
        "plotlyServerURL": "https://plot.ly"
       },
       "data": [
        {
         "marker": {
          "color": "rgb(31, 119, 180)"
         },
         "name": "",
         "showlegend": false,
         "type": "bar",
         "x": [
          "MTOW",
          "OWE",
          "Fuel - Mission",
          "Payload"
         ],
         "xaxis": "x",
         "y": [
          183537.42712499632,
          98023.14777382529,
          64994.27937261651,
          20520
         ],
         "yaxis": "y"
        },
        {
         "marker": {
          "color": "rgb(31, 119, 180)"
         },
         "name": "Aircraft operational mission",
         "type": "bar",
         "x": [
          "airframe",
          "crew",
          "furniture",
          "propulsion",
          "systems"
         ],
         "xaxis": "x2",
         "y": [
          60888.593137824464,
          770,
          6620.25,
          15005.898095212337,
          14738.406540788495
         ],
         "yaxis": "y2"
        },
        {
         "marker": {
          "color": "rgb(44, 160, 44)"
         },
         "name": "",
         "showlegend": false,
         "type": "bar",
         "x": [
          "MTOW",
          "OWE",
          "Fuel - Mission",
          "Payload"
         ],
         "xaxis": "x",
         "y": [
          119541.03836395133,
          84259.55257737706,
          14761.485786414874,
          20520
         ],
         "yaxis": "y"
        },
        {
         "marker": {
          "color": "rgb(44, 160, 44)"
         },
         "name": "Aircraft redesign mission",
         "type": "bar",
         "x": [
          "airframe",
          "crew",
          "furniture",
          "propulsion",
          "systems"
         ],
         "xaxis": "x2",
         "y": [
          50431.6820078648,
          770,
          5630.85,
          14882.508116933224,
          12544.51245257903
         ],
         "yaxis": "y2"
        }
       ],
       "layout": {
        "annotations": [
         {
          "font": {
           "size": 16
          },
          "showarrow": false,
          "text": "Maximum Take-Off Weight Breakdown",
          "x": 0.225,
          "xanchor": "center",
          "xref": "paper",
          "y": 1,
          "yanchor": "bottom",
          "yref": "paper"
         },
         {
          "font": {
           "size": 16
          },
          "showarrow": false,
          "text": "Overall Weight Empty Breakdown",
          "x": 0.775,
          "xanchor": "center",
          "xref": "paper",
          "y": 1,
          "yanchor": "bottom",
          "yref": "paper"
         }
        ],
        "template": {
         "data": {
          "bar": [
           {
            "error_x": {
             "color": "#2a3f5f"
            },
            "error_y": {
             "color": "#2a3f5f"
            },
            "marker": {
             "line": {
              "color": "#E5ECF6",
              "width": 0.5
             },
             "pattern": {
              "fillmode": "overlay",
              "size": 10,
              "solidity": 0.2
             }
            },
            "type": "bar"
           }
          ],
          "barpolar": [
           {
            "marker": {
             "line": {
              "color": "#E5ECF6",
              "width": 0.5
             },
             "pattern": {
              "fillmode": "overlay",
              "size": 10,
              "solidity": 0.2
             }
            },
            "type": "barpolar"
           }
          ],
          "carpet": [
           {
            "aaxis": {
             "endlinecolor": "#2a3f5f",
             "gridcolor": "white",
             "linecolor": "white",
             "minorgridcolor": "white",
             "startlinecolor": "#2a3f5f"
            },
            "baxis": {
             "endlinecolor": "#2a3f5f",
             "gridcolor": "white",
             "linecolor": "white",
             "minorgridcolor": "white",
             "startlinecolor": "#2a3f5f"
            },
            "type": "carpet"
           }
          ],
          "choropleth": [
           {
            "colorbar": {
             "outlinewidth": 0,
             "ticks": ""
            },
            "type": "choropleth"
           }
          ],
          "contour": [
           {
            "colorbar": {
             "outlinewidth": 0,
             "ticks": ""
            },
            "colorscale": [
             [
              0,
              "#0d0887"
             ],
             [
              0.1111111111111111,
              "#46039f"
             ],
             [
              0.2222222222222222,
              "#7201a8"
             ],
             [
              0.3333333333333333,
              "#9c179e"
             ],
             [
              0.4444444444444444,
              "#bd3786"
             ],
             [
              0.5555555555555556,
              "#d8576b"
             ],
             [
              0.6666666666666666,
              "#ed7953"
             ],
             [
              0.7777777777777778,
              "#fb9f3a"
             ],
             [
              0.8888888888888888,
              "#fdca26"
             ],
             [
              1,
              "#f0f921"
             ]
            ],
            "type": "contour"
           }
          ],
          "contourcarpet": [
           {
            "colorbar": {
             "outlinewidth": 0,
             "ticks": ""
            },
            "type": "contourcarpet"
           }
          ],
          "heatmap": [
           {
            "colorbar": {
             "outlinewidth": 0,
             "ticks": ""
            },
            "colorscale": [
             [
              0,
              "#0d0887"
             ],
             [
              0.1111111111111111,
              "#46039f"
             ],
             [
              0.2222222222222222,
              "#7201a8"
             ],
             [
              0.3333333333333333,
              "#9c179e"
             ],
             [
              0.4444444444444444,
              "#bd3786"
             ],
             [
              0.5555555555555556,
              "#d8576b"
             ],
             [
              0.6666666666666666,
              "#ed7953"
             ],
             [
              0.7777777777777778,
              "#fb9f3a"
             ],
             [
              0.8888888888888888,
              "#fdca26"
             ],
             [
              1,
              "#f0f921"
             ]
            ],
            "type": "heatmap"
           }
          ],
          "heatmapgl": [
           {
            "colorbar": {
             "outlinewidth": 0,
             "ticks": ""
            },
            "colorscale": [
             [
              0,
              "#0d0887"
             ],
             [
              0.1111111111111111,
              "#46039f"
             ],
             [
              0.2222222222222222,
              "#7201a8"
             ],
             [
              0.3333333333333333,
              "#9c179e"
             ],
             [
              0.4444444444444444,
              "#bd3786"
             ],
             [
              0.5555555555555556,
              "#d8576b"
             ],
             [
              0.6666666666666666,
              "#ed7953"
             ],
             [
              0.7777777777777778,
              "#fb9f3a"
             ],
             [
              0.8888888888888888,
              "#fdca26"
             ],
             [
              1,
              "#f0f921"
             ]
            ],
            "type": "heatmapgl"
           }
          ],
          "histogram": [
           {
            "marker": {
             "pattern": {
              "fillmode": "overlay",
              "size": 10,
              "solidity": 0.2
             }
            },
            "type": "histogram"
           }
          ],
          "histogram2d": [
           {
            "colorbar": {
             "outlinewidth": 0,
             "ticks": ""
            },
            "colorscale": [
             [
              0,
              "#0d0887"
             ],
             [
              0.1111111111111111,
              "#46039f"
             ],
             [
              0.2222222222222222,
              "#7201a8"
             ],
             [
              0.3333333333333333,
              "#9c179e"
             ],
             [
              0.4444444444444444,
              "#bd3786"
             ],
             [
              0.5555555555555556,
              "#d8576b"
             ],
             [
              0.6666666666666666,
              "#ed7953"
             ],
             [
              0.7777777777777778,
              "#fb9f3a"
             ],
             [
              0.8888888888888888,
              "#fdca26"
             ],
             [
              1,
              "#f0f921"
             ]
            ],
            "type": "histogram2d"
           }
          ],
          "histogram2dcontour": [
           {
            "colorbar": {
             "outlinewidth": 0,
             "ticks": ""
            },
            "colorscale": [
             [
              0,
              "#0d0887"
             ],
             [
              0.1111111111111111,
              "#46039f"
             ],
             [
              0.2222222222222222,
              "#7201a8"
             ],
             [
              0.3333333333333333,
              "#9c179e"
             ],
             [
              0.4444444444444444,
              "#bd3786"
             ],
             [
              0.5555555555555556,
              "#d8576b"
             ],
             [
              0.6666666666666666,
              "#ed7953"
             ],
             [
              0.7777777777777778,
              "#fb9f3a"
             ],
             [
              0.8888888888888888,
              "#fdca26"
             ],
             [
              1,
              "#f0f921"
             ]
            ],
            "type": "histogram2dcontour"
           }
          ],
          "mesh3d": [
           {
            "colorbar": {
             "outlinewidth": 0,
             "ticks": ""
            },
            "type": "mesh3d"
           }
          ],
          "parcoords": [
           {
            "line": {
             "colorbar": {
              "outlinewidth": 0,
              "ticks": ""
             }
            },
            "type": "parcoords"
           }
          ],
          "pie": [
           {
            "automargin": true,
            "type": "pie"
           }
          ],
          "scatter": [
           {
            "marker": {
             "colorbar": {
              "outlinewidth": 0,
              "ticks": ""
             }
            },
            "type": "scatter"
           }
          ],
          "scatter3d": [
           {
            "line": {
             "colorbar": {
              "outlinewidth": 0,
              "ticks": ""
             }
            },
            "marker": {
             "colorbar": {
              "outlinewidth": 0,
              "ticks": ""
             }
            },
            "type": "scatter3d"
           }
          ],
          "scattercarpet": [
           {
            "marker": {
             "colorbar": {
              "outlinewidth": 0,
              "ticks": ""
             }
            },
            "type": "scattercarpet"
           }
          ],
          "scattergeo": [
           {
            "marker": {
             "colorbar": {
              "outlinewidth": 0,
              "ticks": ""
             }
            },
            "type": "scattergeo"
           }
          ],
          "scattergl": [
           {
            "marker": {
             "colorbar": {
              "outlinewidth": 0,
              "ticks": ""
             }
            },
            "type": "scattergl"
           }
          ],
          "scattermapbox": [
           {
            "marker": {
             "colorbar": {
              "outlinewidth": 0,
              "ticks": ""
             }
            },
            "type": "scattermapbox"
           }
          ],
          "scatterpolar": [
           {
            "marker": {
             "colorbar": {
              "outlinewidth": 0,
              "ticks": ""
             }
            },
            "type": "scatterpolar"
           }
          ],
          "scatterpolargl": [
           {
            "marker": {
             "colorbar": {
              "outlinewidth": 0,
              "ticks": ""
             }
            },
            "type": "scatterpolargl"
           }
          ],
          "scatterternary": [
           {
            "marker": {
             "colorbar": {
              "outlinewidth": 0,
              "ticks": ""
             }
            },
            "type": "scatterternary"
           }
          ],
          "surface": [
           {
            "colorbar": {
             "outlinewidth": 0,
             "ticks": ""
            },
            "colorscale": [
             [
              0,
              "#0d0887"
             ],
             [
              0.1111111111111111,
              "#46039f"
             ],
             [
              0.2222222222222222,
              "#7201a8"
             ],
             [
              0.3333333333333333,
              "#9c179e"
             ],
             [
              0.4444444444444444,
              "#bd3786"
             ],
             [
              0.5555555555555556,
              "#d8576b"
             ],
             [
              0.6666666666666666,
              "#ed7953"
             ],
             [
              0.7777777777777778,
              "#fb9f3a"
             ],
             [
              0.8888888888888888,
              "#fdca26"
             ],
             [
              1,
              "#f0f921"
             ]
            ],
            "type": "surface"
           }
          ],
          "table": [
           {
            "cells": {
             "fill": {
              "color": "#EBF0F8"
             },
             "line": {
              "color": "white"
             }
            },
            "header": {
             "fill": {
              "color": "#C8D4E3"
             },
             "line": {
              "color": "white"
             }
            },
            "type": "table"
           }
          ]
         },
         "layout": {
          "annotationdefaults": {
           "arrowcolor": "#2a3f5f",
           "arrowhead": 0,
           "arrowwidth": 1
          },
          "autotypenumbers": "strict",
          "coloraxis": {
           "colorbar": {
            "outlinewidth": 0,
            "ticks": ""
           }
          },
          "colorscale": {
           "diverging": [
            [
             0,
             "#8e0152"
            ],
            [
             0.1,
             "#c51b7d"
            ],
            [
             0.2,
             "#de77ae"
            ],
            [
             0.3,
             "#f1b6da"
            ],
            [
             0.4,
             "#fde0ef"
            ],
            [
             0.5,
             "#f7f7f7"
            ],
            [
             0.6,
             "#e6f5d0"
            ],
            [
             0.7,
             "#b8e186"
            ],
            [
             0.8,
             "#7fbc41"
            ],
            [
             0.9,
             "#4d9221"
            ],
            [
             1,
             "#276419"
            ]
           ],
           "sequential": [
            [
             0,
             "#0d0887"
            ],
            [
             0.1111111111111111,
             "#46039f"
            ],
            [
             0.2222222222222222,
             "#7201a8"
            ],
            [
             0.3333333333333333,
             "#9c179e"
            ],
            [
             0.4444444444444444,
             "#bd3786"
            ],
            [
             0.5555555555555556,
             "#d8576b"
            ],
            [
             0.6666666666666666,
             "#ed7953"
            ],
            [
             0.7777777777777778,
             "#fb9f3a"
            ],
            [
             0.8888888888888888,
             "#fdca26"
            ],
            [
             1,
             "#f0f921"
            ]
           ],
           "sequentialminus": [
            [
             0,
             "#0d0887"
            ],
            [
             0.1111111111111111,
             "#46039f"
            ],
            [
             0.2222222222222222,
             "#7201a8"
            ],
            [
             0.3333333333333333,
             "#9c179e"
            ],
            [
             0.4444444444444444,
             "#bd3786"
            ],
            [
             0.5555555555555556,
             "#d8576b"
            ],
            [
             0.6666666666666666,
             "#ed7953"
            ],
            [
             0.7777777777777778,
             "#fb9f3a"
            ],
            [
             0.8888888888888888,
             "#fdca26"
            ],
            [
             1,
             "#f0f921"
            ]
           ]
          },
          "colorway": [
           "#636efa",
           "#EF553B",
           "#00cc96",
           "#ab63fa",
           "#FFA15A",
           "#19d3f3",
           "#FF6692",
           "#B6E880",
           "#FF97FF",
           "#FECB52"
          ],
          "font": {
           "color": "#2a3f5f"
          },
          "geo": {
           "bgcolor": "white",
           "lakecolor": "white",
           "landcolor": "#E5ECF6",
           "showlakes": true,
           "showland": true,
           "subunitcolor": "white"
          },
          "hoverlabel": {
           "align": "left"
          },
          "hovermode": "closest",
          "mapbox": {
           "style": "light"
          },
          "paper_bgcolor": "white",
          "plot_bgcolor": "#E5ECF6",
          "polar": {
           "angularaxis": {
            "gridcolor": "white",
            "linecolor": "white",
            "ticks": ""
           },
           "bgcolor": "#E5ECF6",
           "radialaxis": {
            "gridcolor": "white",
            "linecolor": "white",
            "ticks": ""
           }
          },
          "scene": {
           "xaxis": {
            "backgroundcolor": "#E5ECF6",
            "gridcolor": "white",
            "gridwidth": 2,
            "linecolor": "white",
            "showbackground": true,
            "ticks": "",
            "zerolinecolor": "white"
           },
           "yaxis": {
            "backgroundcolor": "#E5ECF6",
            "gridcolor": "white",
            "gridwidth": 2,
            "linecolor": "white",
            "showbackground": true,
            "ticks": "",
            "zerolinecolor": "white"
           },
           "zaxis": {
            "backgroundcolor": "#E5ECF6",
            "gridcolor": "white",
            "gridwidth": 2,
            "linecolor": "white",
            "showbackground": true,
            "ticks": "",
            "zerolinecolor": "white"
           }
          },
          "shapedefaults": {
           "line": {
            "color": "#2a3f5f"
           }
          },
          "ternary": {
           "aaxis": {
            "gridcolor": "white",
            "linecolor": "white",
            "ticks": ""
           },
           "baxis": {
            "gridcolor": "white",
            "linecolor": "white",
            "ticks": ""
           },
           "bgcolor": "#E5ECF6",
           "caxis": {
            "gridcolor": "white",
            "linecolor": "white",
            "ticks": ""
           }
          },
          "title": {
           "x": 0.05
          },
          "xaxis": {
           "automargin": true,
           "gridcolor": "white",
           "linecolor": "white",
           "ticks": "",
           "title": {
            "standoff": 15
           },
           "zerolinecolor": "white",
           "zerolinewidth": 2
          },
          "yaxis": {
           "automargin": true,
           "gridcolor": "white",
           "linecolor": "white",
           "ticks": "",
           "title": {
            "standoff": 15
           },
           "zerolinecolor": "white",
           "zerolinewidth": 2
          }
         }
        },
        "xaxis": {
         "anchor": "y",
         "domain": [
          0,
          0.45
         ]
        },
        "xaxis2": {
         "anchor": "y2",
         "domain": [
          0.55,
          1
         ]
        },
        "yaxis": {
         "anchor": "x",
         "domain": [
          0,
          1
         ],
         "title": {
          "text": "[kg]"
         }
        },
        "yaxis2": {
         "anchor": "x2",
         "domain": [
          0,
          1
         ]
        }
       }
      }
     },
     "metadata": {},
     "output_type": "display_data"
    }
   ],
   "source": [
    "fig = oad.mass_breakdown_bar_plot(OP_OUTPUT_FILE, name=\"Aircraft operational mission\")\n",
    "fig = oad.mass_breakdown_bar_plot(RES_OUTPUT_FILE, name=\"Aircraft redesign mission\", fig=fig)\n",
    "fig.show()"
   ]
  },
  {
   "cell_type": "code",
   "execution_count": null,
   "id": "42ef0d1d-f3b2-4302-bbee-569bd7fd48d4",
   "metadata": {},
   "outputs": [],
   "source": []
  }
 ],
 "metadata": {
  "kernelspec": {
   "display_name": "Python 3 (ipykernel)",
   "language": "python",
   "name": "python3"
  },
  "language_info": {
   "codemirror_mode": {
    "name": "ipython",
    "version": 3
   },
   "file_extension": ".py",
   "mimetype": "text/x-python",
   "name": "python",
   "nbconvert_exporter": "python",
   "pygments_lexer": "ipython3",
   "version": "3.7.11"
  }
 },
 "nbformat": 4,
 "nbformat_minor": 5
}
